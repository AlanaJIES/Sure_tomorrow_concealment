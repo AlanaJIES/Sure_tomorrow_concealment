{
 "cells": [
  {
   "cell_type": "markdown",
   "metadata": {},
   "source": [
    "# Proyecto de compañia de seguros Sure Tomorrow."
   ]
  },
  {
   "cell_type": "markdown",
   "metadata": {},
   "source": [
    "Necesitamos resolver los siguientes puntos, usando machine learning:\n",
    "- Tarea 1: encontrar clientes que sean similares a un cliente determinado. Esto ayudará a los agentes de la compañía con el marketing.\n",
    "- Tarea 2: predecir la probabilidad de que un nuevo cliente reciba una prestación del seguro. ¿Puede un modelo de predictivo funcionar mejor que un modelo dummy?\n",
    "- Tarea 3: predecir el número de prestaciones de seguro que un nuevo cliente pueda recibir utilizando un modelo de regresión lineal.\n",
    "- Tarea 4: proteger los datos personales de los clientes sin afectar al modelo del ejercicio anterior. Es necesario desarrollar un algoritmo de transformación de datos que dificulte la recuperación de la información personal si los datos caen en manos equivocadas. Esto se denomina enmascaramiento u ofuscación de datos. Pero los datos deben protegerse de tal manera que no se vea afectada la calidad de los modelos de machine learning. En este caso nos basta con demostrar que el algoritmo funciona correctamente."
   ]
  },
  {
   "cell_type": "markdown",
   "metadata": {},
   "source": [
    "# Preprocesamiento y exploración de datos\n",
    "\n",
    "## Importar las librerías correspondientes"
   ]
  },
  {
   "cell_type": "code",
   "execution_count": 1,
   "metadata": {},
   "outputs": [
    {
     "name": "stdout",
     "output_type": "stream",
     "text": [
      "Requirement already satisfied: scikit-learn in /home/jovyan/.local/lib/python3.9/site-packages (1.6.0)\n",
      "Requirement already satisfied: numpy>=1.19.5 in /opt/conda/envs/python3/lib/python3.9/site-packages (from scikit-learn) (1.21.2)\n",
      "Requirement already satisfied: scipy>=1.6.0 in /opt/conda/envs/python3/lib/python3.9/site-packages (from scikit-learn) (1.10.1)\n",
      "Requirement already satisfied: joblib>=1.2.0 in /opt/conda/envs/python3/lib/python3.9/site-packages (from scikit-learn) (1.4.2)\n",
      "Requirement already satisfied: threadpoolctl>=3.1.0 in /opt/conda/envs/python3/lib/python3.9/site-packages (from scikit-learn) (3.5.0)\n",
      "Note: you may need to restart the kernel to use updated packages.\n"
     ]
    }
   ],
   "source": [
    "pip install scikit-learn --upgrade --user"
   ]
  },
  {
   "cell_type": "code",
   "execution_count": 2,
   "metadata": {},
   "outputs": [],
   "source": [
    "# Librerías\n",
    "import numpy as np\n",
    "import pandas as pd\n",
    "import seaborn as sns\n",
    "\n",
    "import sklearn.linear_model\n",
    "import math\n",
    "\n",
    "from sklearn.metrics import mean_squared_error, r2_score, f1_score\n",
    "from sklearn.neighbors import NearestNeighbors, KNeighborsClassifier\n",
    "from sklearn.preprocessing import StandardScaler\n",
    "from sklearn.dummy import DummyClassifier\n",
    "from sklearn.model_selection import train_test_split\n",
    "from IPython.display import display"
   ]
  },
  {
   "cell_type": "markdown",
   "metadata": {},
   "source": [
    "## Carga de datos"
   ]
  },
  {
   "cell_type": "markdown",
   "metadata": {},
   "source": [
    "Cargamos los datos y los revisamos para comprobar que no hay problemas con los mismos."
   ]
  },
  {
   "cell_type": "code",
   "execution_count": 3,
   "metadata": {},
   "outputs": [],
   "source": [
    "df = pd.read_csv('/datasets/insurance_us.csv')"
   ]
  },
  {
   "cell_type": "markdown",
   "metadata": {},
   "source": [
    "Observamos los datos del DataFrame, el nombre de las columnas, si hay datos nulos o duplicados."
   ]
  },
  {
   "cell_type": "code",
   "execution_count": 4,
   "metadata": {},
   "outputs": [
    {
     "data": {
      "text/html": [
       "<div>\n",
       "<style scoped>\n",
       "    .dataframe tbody tr th:only-of-type {\n",
       "        vertical-align: middle;\n",
       "    }\n",
       "\n",
       "    .dataframe tbody tr th {\n",
       "        vertical-align: top;\n",
       "    }\n",
       "\n",
       "    .dataframe thead th {\n",
       "        text-align: right;\n",
       "    }\n",
       "</style>\n",
       "<table border=\"1\" class=\"dataframe\">\n",
       "  <thead>\n",
       "    <tr style=\"text-align: right;\">\n",
       "      <th></th>\n",
       "      <th>Gender</th>\n",
       "      <th>Age</th>\n",
       "      <th>Salary</th>\n",
       "      <th>Family members</th>\n",
       "      <th>Insurance benefits</th>\n",
       "    </tr>\n",
       "  </thead>\n",
       "  <tbody>\n",
       "    <tr>\n",
       "      <th>0</th>\n",
       "      <td>1</td>\n",
       "      <td>41.0</td>\n",
       "      <td>49600.0</td>\n",
       "      <td>1</td>\n",
       "      <td>0</td>\n",
       "    </tr>\n",
       "    <tr>\n",
       "      <th>1</th>\n",
       "      <td>0</td>\n",
       "      <td>46.0</td>\n",
       "      <td>38000.0</td>\n",
       "      <td>1</td>\n",
       "      <td>1</td>\n",
       "    </tr>\n",
       "    <tr>\n",
       "      <th>2</th>\n",
       "      <td>0</td>\n",
       "      <td>29.0</td>\n",
       "      <td>21000.0</td>\n",
       "      <td>0</td>\n",
       "      <td>0</td>\n",
       "    </tr>\n",
       "    <tr>\n",
       "      <th>3</th>\n",
       "      <td>0</td>\n",
       "      <td>21.0</td>\n",
       "      <td>41700.0</td>\n",
       "      <td>2</td>\n",
       "      <td>0</td>\n",
       "    </tr>\n",
       "    <tr>\n",
       "      <th>4</th>\n",
       "      <td>1</td>\n",
       "      <td>28.0</td>\n",
       "      <td>26100.0</td>\n",
       "      <td>0</td>\n",
       "      <td>0</td>\n",
       "    </tr>\n",
       "    <tr>\n",
       "      <th>...</th>\n",
       "      <td>...</td>\n",
       "      <td>...</td>\n",
       "      <td>...</td>\n",
       "      <td>...</td>\n",
       "      <td>...</td>\n",
       "    </tr>\n",
       "    <tr>\n",
       "      <th>4995</th>\n",
       "      <td>0</td>\n",
       "      <td>28.0</td>\n",
       "      <td>35700.0</td>\n",
       "      <td>2</td>\n",
       "      <td>0</td>\n",
       "    </tr>\n",
       "    <tr>\n",
       "      <th>4996</th>\n",
       "      <td>0</td>\n",
       "      <td>34.0</td>\n",
       "      <td>52400.0</td>\n",
       "      <td>1</td>\n",
       "      <td>0</td>\n",
       "    </tr>\n",
       "    <tr>\n",
       "      <th>4997</th>\n",
       "      <td>0</td>\n",
       "      <td>20.0</td>\n",
       "      <td>33900.0</td>\n",
       "      <td>2</td>\n",
       "      <td>0</td>\n",
       "    </tr>\n",
       "    <tr>\n",
       "      <th>4998</th>\n",
       "      <td>1</td>\n",
       "      <td>22.0</td>\n",
       "      <td>32700.0</td>\n",
       "      <td>3</td>\n",
       "      <td>0</td>\n",
       "    </tr>\n",
       "    <tr>\n",
       "      <th>4999</th>\n",
       "      <td>1</td>\n",
       "      <td>28.0</td>\n",
       "      <td>40600.0</td>\n",
       "      <td>1</td>\n",
       "      <td>0</td>\n",
       "    </tr>\n",
       "  </tbody>\n",
       "</table>\n",
       "<p>5000 rows × 5 columns</p>\n",
       "</div>"
      ],
      "text/plain": [
       "      Gender   Age   Salary  Family members  Insurance benefits\n",
       "0          1  41.0  49600.0               1                   0\n",
       "1          0  46.0  38000.0               1                   1\n",
       "2          0  29.0  21000.0               0                   0\n",
       "3          0  21.0  41700.0               2                   0\n",
       "4          1  28.0  26100.0               0                   0\n",
       "...      ...   ...      ...             ...                 ...\n",
       "4995       0  28.0  35700.0               2                   0\n",
       "4996       0  34.0  52400.0               1                   0\n",
       "4997       0  20.0  33900.0               2                   0\n",
       "4998       1  22.0  32700.0               3                   0\n",
       "4999       1  28.0  40600.0               1                   0\n",
       "\n",
       "[5000 rows x 5 columns]"
      ]
     },
     "metadata": {},
     "output_type": "display_data"
    }
   ],
   "source": [
    "display(df)"
   ]
  },
  {
   "cell_type": "markdown",
   "metadata": {},
   "source": [
    "Renombramos las columnas para que el código se vea más coherente con nuestro estilo."
   ]
  },
  {
   "cell_type": "code",
   "execution_count": 5,
   "metadata": {},
   "outputs": [],
   "source": [
    "df = df.rename(columns={'Gender': 'gender', 'Age': 'age', 'Salary': 'income', 'Family members': 'family_members', 'Insurance benefits': 'insurance_benefits'})"
   ]
  },
  {
   "cell_type": "code",
   "execution_count": 6,
   "metadata": {},
   "outputs": [
    {
     "name": "stdout",
     "output_type": "stream",
     "text": [
      "<class 'pandas.core.frame.DataFrame'>\n",
      "RangeIndex: 5000 entries, 0 to 4999\n",
      "Data columns (total 5 columns):\n",
      " #   Column              Non-Null Count  Dtype  \n",
      "---  ------              --------------  -----  \n",
      " 0   gender              5000 non-null   int64  \n",
      " 1   age                 5000 non-null   float64\n",
      " 2   income              5000 non-null   float64\n",
      " 3   family_members      5000 non-null   int64  \n",
      " 4   insurance_benefits  5000 non-null   int64  \n",
      "dtypes: float64(2), int64(3)\n",
      "memory usage: 195.4 KB\n"
     ]
    }
   ],
   "source": [
    "df.info()"
   ]
  },
  {
   "cell_type": "markdown",
   "metadata": {},
   "source": [
    "No se observan datos nulos. Los datos de la columna gender están divididos en ceros y unos, por lo que no hay problema con que sean de tipo int. Los datos de las columnas age e income poseen datos de tipo float, aunque hasta ahora parece ser que ambos podrían ser transformados a int. Transformaremos los datos de ambas columnas luego de revisar que no hay problemas al respecto. "
   ]
  },
  {
   "cell_type": "code",
   "execution_count": 7,
   "metadata": {},
   "outputs": [
    {
     "data": {
      "text/html": [
       "<div>\n",
       "<style scoped>\n",
       "    .dataframe tbody tr th:only-of-type {\n",
       "        vertical-align: middle;\n",
       "    }\n",
       "\n",
       "    .dataframe tbody tr th {\n",
       "        vertical-align: top;\n",
       "    }\n",
       "\n",
       "    .dataframe thead th {\n",
       "        text-align: right;\n",
       "    }\n",
       "</style>\n",
       "<table border=\"1\" class=\"dataframe\">\n",
       "  <thead>\n",
       "    <tr style=\"text-align: right;\">\n",
       "      <th></th>\n",
       "      <th>gender</th>\n",
       "      <th>age</th>\n",
       "      <th>income</th>\n",
       "      <th>family_members</th>\n",
       "      <th>insurance_benefits</th>\n",
       "    </tr>\n",
       "  </thead>\n",
       "  <tbody>\n",
       "  </tbody>\n",
       "</table>\n",
       "</div>"
      ],
      "text/plain": [
       "Empty DataFrame\n",
       "Columns: [gender, age, income, family_members, insurance_benefits]\n",
       "Index: []"
      ]
     },
     "metadata": {},
     "output_type": "display_data"
    }
   ],
   "source": [
    "display(df[df['age'].apply(lambda x: np.modf(x)[0] != 0)])"
   ]
  },
  {
   "cell_type": "code",
   "execution_count": 8,
   "metadata": {},
   "outputs": [
    {
     "data": {
      "text/html": [
       "<div>\n",
       "<style scoped>\n",
       "    .dataframe tbody tr th:only-of-type {\n",
       "        vertical-align: middle;\n",
       "    }\n",
       "\n",
       "    .dataframe tbody tr th {\n",
       "        vertical-align: top;\n",
       "    }\n",
       "\n",
       "    .dataframe thead th {\n",
       "        text-align: right;\n",
       "    }\n",
       "</style>\n",
       "<table border=\"1\" class=\"dataframe\">\n",
       "  <thead>\n",
       "    <tr style=\"text-align: right;\">\n",
       "      <th></th>\n",
       "      <th>gender</th>\n",
       "      <th>age</th>\n",
       "      <th>income</th>\n",
       "      <th>family_members</th>\n",
       "      <th>insurance_benefits</th>\n",
       "    </tr>\n",
       "  </thead>\n",
       "  <tbody>\n",
       "    <tr>\n",
       "      <th>80</th>\n",
       "      <td>1</td>\n",
       "      <td>41.0</td>\n",
       "      <td>32700.0</td>\n",
       "      <td>0</td>\n",
       "      <td>0</td>\n",
       "    </tr>\n",
       "    <tr>\n",
       "      <th>159</th>\n",
       "      <td>1</td>\n",
       "      <td>19.0</td>\n",
       "      <td>64900.0</td>\n",
       "      <td>2</td>\n",
       "      <td>0</td>\n",
       "    </tr>\n",
       "    <tr>\n",
       "      <th>313</th>\n",
       "      <td>0</td>\n",
       "      <td>25.0</td>\n",
       "      <td>32700.0</td>\n",
       "      <td>1</td>\n",
       "      <td>0</td>\n",
       "    </tr>\n",
       "    <tr>\n",
       "      <th>392</th>\n",
       "      <td>1</td>\n",
       "      <td>43.0</td>\n",
       "      <td>32700.0</td>\n",
       "      <td>1</td>\n",
       "      <td>1</td>\n",
       "    </tr>\n",
       "    <tr>\n",
       "      <th>448</th>\n",
       "      <td>1</td>\n",
       "      <td>32.0</td>\n",
       "      <td>32700.0</td>\n",
       "      <td>2</td>\n",
       "      <td>0</td>\n",
       "    </tr>\n",
       "    <tr>\n",
       "      <th>772</th>\n",
       "      <td>1</td>\n",
       "      <td>20.0</td>\n",
       "      <td>65100.0</td>\n",
       "      <td>1</td>\n",
       "      <td>0</td>\n",
       "    </tr>\n",
       "    <tr>\n",
       "      <th>820</th>\n",
       "      <td>0</td>\n",
       "      <td>29.0</td>\n",
       "      <td>32200.0</td>\n",
       "      <td>2</td>\n",
       "      <td>0</td>\n",
       "    </tr>\n",
       "    <tr>\n",
       "      <th>872</th>\n",
       "      <td>0</td>\n",
       "      <td>23.0</td>\n",
       "      <td>32200.0</td>\n",
       "      <td>3</td>\n",
       "      <td>0</td>\n",
       "    </tr>\n",
       "    <tr>\n",
       "      <th>911</th>\n",
       "      <td>0</td>\n",
       "      <td>30.0</td>\n",
       "      <td>32200.0</td>\n",
       "      <td>0</td>\n",
       "      <td>0</td>\n",
       "    </tr>\n",
       "    <tr>\n",
       "      <th>963</th>\n",
       "      <td>1</td>\n",
       "      <td>20.0</td>\n",
       "      <td>64100.0</td>\n",
       "      <td>0</td>\n",
       "      <td>0</td>\n",
       "    </tr>\n",
       "    <tr>\n",
       "      <th>1020</th>\n",
       "      <td>1</td>\n",
       "      <td>36.0</td>\n",
       "      <td>32700.0</td>\n",
       "      <td>2</td>\n",
       "      <td>0</td>\n",
       "    </tr>\n",
       "    <tr>\n",
       "      <th>1078</th>\n",
       "      <td>0</td>\n",
       "      <td>34.0</td>\n",
       "      <td>32200.0</td>\n",
       "      <td>3</td>\n",
       "      <td>0</td>\n",
       "    </tr>\n",
       "    <tr>\n",
       "      <th>1336</th>\n",
       "      <td>1</td>\n",
       "      <td>19.0</td>\n",
       "      <td>32700.0</td>\n",
       "      <td>0</td>\n",
       "      <td>0</td>\n",
       "    </tr>\n",
       "    <tr>\n",
       "      <th>1485</th>\n",
       "      <td>1</td>\n",
       "      <td>41.0</td>\n",
       "      <td>32700.0</td>\n",
       "      <td>0</td>\n",
       "      <td>0</td>\n",
       "    </tr>\n",
       "    <tr>\n",
       "      <th>1486</th>\n",
       "      <td>1</td>\n",
       "      <td>50.0</td>\n",
       "      <td>32200.0</td>\n",
       "      <td>2</td>\n",
       "      <td>2</td>\n",
       "    </tr>\n",
       "    <tr>\n",
       "      <th>1847</th>\n",
       "      <td>1</td>\n",
       "      <td>31.0</td>\n",
       "      <td>32700.0</td>\n",
       "      <td>0</td>\n",
       "      <td>0</td>\n",
       "    </tr>\n",
       "    <tr>\n",
       "      <th>1981</th>\n",
       "      <td>0</td>\n",
       "      <td>21.0</td>\n",
       "      <td>32200.0</td>\n",
       "      <td>1</td>\n",
       "      <td>0</td>\n",
       "    </tr>\n",
       "    <tr>\n",
       "      <th>2191</th>\n",
       "      <td>1</td>\n",
       "      <td>22.0</td>\n",
       "      <td>32200.0</td>\n",
       "      <td>1</td>\n",
       "      <td>0</td>\n",
       "    </tr>\n",
       "    <tr>\n",
       "      <th>2287</th>\n",
       "      <td>1</td>\n",
       "      <td>40.0</td>\n",
       "      <td>32200.0</td>\n",
       "      <td>3</td>\n",
       "      <td>0</td>\n",
       "    </tr>\n",
       "    <tr>\n",
       "      <th>2342</th>\n",
       "      <td>1</td>\n",
       "      <td>25.0</td>\n",
       "      <td>32700.0</td>\n",
       "      <td>2</td>\n",
       "      <td>0</td>\n",
       "    </tr>\n",
       "    <tr>\n",
       "      <th>2385</th>\n",
       "      <td>1</td>\n",
       "      <td>36.0</td>\n",
       "      <td>32700.0</td>\n",
       "      <td>1</td>\n",
       "      <td>0</td>\n",
       "    </tr>\n",
       "    <tr>\n",
       "      <th>2439</th>\n",
       "      <td>1</td>\n",
       "      <td>44.0</td>\n",
       "      <td>32200.0</td>\n",
       "      <td>1</td>\n",
       "      <td>1</td>\n",
       "    </tr>\n",
       "    <tr>\n",
       "      <th>2443</th>\n",
       "      <td>1</td>\n",
       "      <td>25.0</td>\n",
       "      <td>32700.0</td>\n",
       "      <td>0</td>\n",
       "      <td>0</td>\n",
       "    </tr>\n",
       "    <tr>\n",
       "      <th>2805</th>\n",
       "      <td>0</td>\n",
       "      <td>47.0</td>\n",
       "      <td>32700.0</td>\n",
       "      <td>1</td>\n",
       "      <td>1</td>\n",
       "    </tr>\n",
       "    <tr>\n",
       "      <th>2994</th>\n",
       "      <td>1</td>\n",
       "      <td>29.0</td>\n",
       "      <td>32200.0</td>\n",
       "      <td>1</td>\n",
       "      <td>0</td>\n",
       "    </tr>\n",
       "    <tr>\n",
       "      <th>3063</th>\n",
       "      <td>0</td>\n",
       "      <td>24.0</td>\n",
       "      <td>64400.0</td>\n",
       "      <td>0</td>\n",
       "      <td>0</td>\n",
       "    </tr>\n",
       "    <tr>\n",
       "      <th>3139</th>\n",
       "      <td>1</td>\n",
       "      <td>43.0</td>\n",
       "      <td>32200.0</td>\n",
       "      <td>2</td>\n",
       "      <td>1</td>\n",
       "    </tr>\n",
       "    <tr>\n",
       "      <th>3352</th>\n",
       "      <td>1</td>\n",
       "      <td>23.0</td>\n",
       "      <td>32200.0</td>\n",
       "      <td>5</td>\n",
       "      <td>0</td>\n",
       "    </tr>\n",
       "    <tr>\n",
       "      <th>3466</th>\n",
       "      <td>0</td>\n",
       "      <td>22.0</td>\n",
       "      <td>32700.0</td>\n",
       "      <td>4</td>\n",
       "      <td>0</td>\n",
       "    </tr>\n",
       "    <tr>\n",
       "      <th>3499</th>\n",
       "      <td>1</td>\n",
       "      <td>22.0</td>\n",
       "      <td>65100.0</td>\n",
       "      <td>4</td>\n",
       "      <td>0</td>\n",
       "    </tr>\n",
       "    <tr>\n",
       "      <th>3614</th>\n",
       "      <td>1</td>\n",
       "      <td>24.0</td>\n",
       "      <td>32700.0</td>\n",
       "      <td>1</td>\n",
       "      <td>0</td>\n",
       "    </tr>\n",
       "    <tr>\n",
       "      <th>3717</th>\n",
       "      <td>0</td>\n",
       "      <td>34.0</td>\n",
       "      <td>32700.0</td>\n",
       "      <td>0</td>\n",
       "      <td>0</td>\n",
       "    </tr>\n",
       "    <tr>\n",
       "      <th>3788</th>\n",
       "      <td>0</td>\n",
       "      <td>46.0</td>\n",
       "      <td>32700.0</td>\n",
       "      <td>2</td>\n",
       "      <td>1</td>\n",
       "    </tr>\n",
       "    <tr>\n",
       "      <th>3824</th>\n",
       "      <td>1</td>\n",
       "      <td>37.0</td>\n",
       "      <td>32700.0</td>\n",
       "      <td>2</td>\n",
       "      <td>0</td>\n",
       "    </tr>\n",
       "    <tr>\n",
       "      <th>3938</th>\n",
       "      <td>1</td>\n",
       "      <td>23.0</td>\n",
       "      <td>32200.0</td>\n",
       "      <td>1</td>\n",
       "      <td>0</td>\n",
       "    </tr>\n",
       "    <tr>\n",
       "      <th>4182</th>\n",
       "      <td>0</td>\n",
       "      <td>27.0</td>\n",
       "      <td>32200.0</td>\n",
       "      <td>2</td>\n",
       "      <td>0</td>\n",
       "    </tr>\n",
       "    <tr>\n",
       "      <th>4520</th>\n",
       "      <td>0</td>\n",
       "      <td>18.0</td>\n",
       "      <td>32700.0</td>\n",
       "      <td>3</td>\n",
       "      <td>0</td>\n",
       "    </tr>\n",
       "    <tr>\n",
       "      <th>4833</th>\n",
       "      <td>0</td>\n",
       "      <td>24.0</td>\n",
       "      <td>32200.0</td>\n",
       "      <td>1</td>\n",
       "      <td>0</td>\n",
       "    </tr>\n",
       "    <tr>\n",
       "      <th>4935</th>\n",
       "      <td>1</td>\n",
       "      <td>19.0</td>\n",
       "      <td>32700.0</td>\n",
       "      <td>0</td>\n",
       "      <td>0</td>\n",
       "    </tr>\n",
       "    <tr>\n",
       "      <th>4998</th>\n",
       "      <td>1</td>\n",
       "      <td>22.0</td>\n",
       "      <td>32700.0</td>\n",
       "      <td>3</td>\n",
       "      <td>0</td>\n",
       "    </tr>\n",
       "  </tbody>\n",
       "</table>\n",
       "</div>"
      ],
      "text/plain": [
       "      gender   age   income  family_members  insurance_benefits\n",
       "80         1  41.0  32700.0               0                   0\n",
       "159        1  19.0  64900.0               2                   0\n",
       "313        0  25.0  32700.0               1                   0\n",
       "392        1  43.0  32700.0               1                   1\n",
       "448        1  32.0  32700.0               2                   0\n",
       "772        1  20.0  65100.0               1                   0\n",
       "820        0  29.0  32200.0               2                   0\n",
       "872        0  23.0  32200.0               3                   0\n",
       "911        0  30.0  32200.0               0                   0\n",
       "963        1  20.0  64100.0               0                   0\n",
       "1020       1  36.0  32700.0               2                   0\n",
       "1078       0  34.0  32200.0               3                   0\n",
       "1336       1  19.0  32700.0               0                   0\n",
       "1485       1  41.0  32700.0               0                   0\n",
       "1486       1  50.0  32200.0               2                   2\n",
       "1847       1  31.0  32700.0               0                   0\n",
       "1981       0  21.0  32200.0               1                   0\n",
       "2191       1  22.0  32200.0               1                   0\n",
       "2287       1  40.0  32200.0               3                   0\n",
       "2342       1  25.0  32700.0               2                   0\n",
       "2385       1  36.0  32700.0               1                   0\n",
       "2439       1  44.0  32200.0               1                   1\n",
       "2443       1  25.0  32700.0               0                   0\n",
       "2805       0  47.0  32700.0               1                   1\n",
       "2994       1  29.0  32200.0               1                   0\n",
       "3063       0  24.0  64400.0               0                   0\n",
       "3139       1  43.0  32200.0               2                   1\n",
       "3352       1  23.0  32200.0               5                   0\n",
       "3466       0  22.0  32700.0               4                   0\n",
       "3499       1  22.0  65100.0               4                   0\n",
       "3614       1  24.0  32700.0               1                   0\n",
       "3717       0  34.0  32700.0               0                   0\n",
       "3788       0  46.0  32700.0               2                   1\n",
       "3824       1  37.0  32700.0               2                   0\n",
       "3938       1  23.0  32200.0               1                   0\n",
       "4182       0  27.0  32200.0               2                   0\n",
       "4520       0  18.0  32700.0               3                   0\n",
       "4833       0  24.0  32200.0               1                   0\n",
       "4935       1  19.0  32700.0               0                   0\n",
       "4998       1  22.0  32700.0               3                   0"
      ]
     },
     "metadata": {},
     "output_type": "display_data"
    }
   ],
   "source": [
    "display(df[df['income'].apply(lambda x: np.modf(x)[0] != 0)])"
   ]
  },
  {
   "cell_type": "markdown",
   "metadata": {},
   "source": [
    "Observamos que no hay números fraccionarios en la columna age pero si en la columna income. Procederemos a hacer la transformación en la columna age a datos de tipo int."
   ]
  },
  {
   "cell_type": "code",
   "execution_count": 9,
   "metadata": {},
   "outputs": [],
   "source": [
    "df['age'] = df['age'].astype(int)"
   ]
  },
  {
   "cell_type": "code",
   "execution_count": 10,
   "metadata": {},
   "outputs": [
    {
     "name": "stdout",
     "output_type": "stream",
     "text": [
      "<class 'pandas.core.frame.DataFrame'>\n",
      "RangeIndex: 5000 entries, 0 to 4999\n",
      "Data columns (total 5 columns):\n",
      " #   Column              Non-Null Count  Dtype  \n",
      "---  ------              --------------  -----  \n",
      " 0   gender              5000 non-null   int64  \n",
      " 1   age                 5000 non-null   int64  \n",
      " 2   income              5000 non-null   float64\n",
      " 3   family_members      5000 non-null   int64  \n",
      " 4   insurance_benefits  5000 non-null   int64  \n",
      "dtypes: float64(1), int64(4)\n",
      "memory usage: 195.4 KB\n"
     ]
    },
    {
     "data": {
      "text/plain": [
       "None"
      ]
     },
     "metadata": {},
     "output_type": "display_data"
    }
   ],
   "source": [
    "display(df.info())"
   ]
  },
  {
   "cell_type": "markdown",
   "metadata": {},
   "source": [
    "Todo bien con la transformación de datos. Revisaremos la presencia de datos duplicados a lo largo del DataFrame."
   ]
  },
  {
   "cell_type": "code",
   "execution_count": 11,
   "metadata": {},
   "outputs": [
    {
     "data": {
      "text/plain": [
       "153"
      ]
     },
     "metadata": {},
     "output_type": "display_data"
    },
    {
     "name": "stdout",
     "output_type": "stream",
     "text": [
      "<class 'pandas.core.frame.DataFrame'>\n",
      "Int64Index: 4847 entries, 0 to 4999\n",
      "Data columns (total 5 columns):\n",
      " #   Column              Non-Null Count  Dtype  \n",
      "---  ------              --------------  -----  \n",
      " 0   gender              4847 non-null   int64  \n",
      " 1   age                 4847 non-null   int64  \n",
      " 2   income              4847 non-null   float64\n",
      " 3   family_members      4847 non-null   int64  \n",
      " 4   insurance_benefits  4847 non-null   int64  \n",
      "dtypes: float64(1), int64(4)\n",
      "memory usage: 227.2 KB\n"
     ]
    },
    {
     "data": {
      "text/plain": [
       "None"
      ]
     },
     "metadata": {},
     "output_type": "display_data"
    }
   ],
   "source": [
    "display(df.duplicated().sum())\n",
    "df=df.drop_duplicates()\n",
    "display(df.info())"
   ]
  },
  {
   "cell_type": "markdown",
   "metadata": {},
   "source": [
    "En el DataFrame original hay alrededor de 153 datos duplicados. Estos fueron removidos. Los análisis y actividades siguientes se harán con dicho DataFrame."
   ]
  },
  {
   "cell_type": "markdown",
   "metadata": {},
   "source": [
    "## Análisis exploratorio de datos"
   ]
  },
  {
   "cell_type": "markdown",
   "metadata": {},
   "source": [
    "Vamos a comprobar rápidamente si existen determinados grupos de clientes observando el gráfico de pares."
   ]
  },
  {
   "cell_type": "code",
   "execution_count": 12,
   "metadata": {},
   "outputs": [
    {
     "data": {
      "image/png": "[encoded data removed]",
      "text/plain": [
       "<Figure size 1200x1200 with 30 Axes>"
      ]
     },
     "metadata": {},
     "output_type": "display_data"
    }
   ],
   "source": [
    "g = sns.pairplot(df, kind='hist')\n",
    "g.fig.set_size_inches(12, 12)"
   ]
  },
  {
   "cell_type": "markdown",
   "metadata": {},
   "source": [
    "Es complicado detectar grupos obvios (clústeres) ya que es difícil combinar diversas variables simultáneamente (para analizar distribuciones multivariadas). Ahí es donde LA y ML nos serán útiles."
   ]
  },
  {
   "cell_type": "markdown",
   "metadata": {},
   "source": [
    "# Tarea 1. Clientes similares"
   ]
  },
  {
   "cell_type": "markdown",
   "metadata": {},
   "source": [
    "Responderemos las siguientes preguntas: ¿El hecho de que los datos no estén escalados afecta al algoritmo kNN? Si es así, ¿cómo se manifiesta?- ¿Qué tan similares son los resultados al utilizar la métrica de distancia Manhattan (independientemente del escalado)?"
   ]
  },
  {
   "cell_type": "code",
   "execution_count": 13,
   "metadata": {},
   "outputs": [],
   "source": [
    "feature_names = ['gender', 'age', 'income', 'family_members']"
   ]
  },
  {
   "cell_type": "code",
   "execution_count": 14,
   "metadata": {},
   "outputs": [],
   "source": [
    "def get_knn(df, n=5, k=5, metric=\"euclidean\"):\n",
    "    \n",
    "    \"\"\"\n",
    "    Devuelve los k vecinos más cercanos\n",
    "\n",
    "    :param df: DataFrame de pandas utilizado para encontrar objetos similares dentro del mismo lugar    \n",
    "    :param n: número de objetos para los que se buscan los vecinos más cercanos    \n",
    "    :param k: número de vecinos más cercanos a devolver\n",
    "    :param métrica: nombre de la métrica de distancia    \"\"\"\n",
    "\n",
    "    nbrs = NearestNeighbors(n_neighbors=k, metric=metric).fit(df[feature_names])\n",
    "    nbrs_distances, nbrs_indices = nbrs.kneighbors(df.loc[[n], feature_names], return_distance=True)    \n",
    "    df_res = pd.concat([\n",
    "        df.iloc[nbrs_indices[0]], \n",
    "        pd.DataFrame(nbrs_distances.T, index=df.iloc[nbrs_indices[0]].index, columns=['distance'])\n",
    "        ], axis=1)\n",
    "    \n",
    "    return df_res"
   ]
  },
  {
   "cell_type": "markdown",
   "metadata": {},
   "source": [
    "Escalamos los datos."
   ]
  },
  {
   "cell_type": "code",
   "execution_count": 15,
   "metadata": {},
   "outputs": [],
   "source": [
    "transformer_mas = sklearn.preprocessing.MaxAbsScaler().fit(df[feature_names].to_numpy())\n",
    "\n",
    "df_scaled = df.copy()\n",
    "\n",
    "df_scaled.loc[:, feature_names] = transformer_mas.transform(df[feature_names].to_numpy())"
   ]
  },
  {
   "cell_type": "code",
   "execution_count": 16,
   "metadata": {},
   "outputs": [
    {
     "data": {
      "text/html": [
       "<div>\n",
       "<style scoped>\n",
       "    .dataframe tbody tr th:only-of-type {\n",
       "        vertical-align: middle;\n",
       "    }\n",
       "\n",
       "    .dataframe tbody tr th {\n",
       "        vertical-align: top;\n",
       "    }\n",
       "\n",
       "    .dataframe thead th {\n",
       "        text-align: right;\n",
       "    }\n",
       "</style>\n",
       "<table border=\"1\" class=\"dataframe\">\n",
       "  <thead>\n",
       "    <tr style=\"text-align: right;\">\n",
       "      <th></th>\n",
       "      <th>gender</th>\n",
       "      <th>age</th>\n",
       "      <th>income</th>\n",
       "      <th>family_members</th>\n",
       "      <th>insurance_benefits</th>\n",
       "    </tr>\n",
       "  </thead>\n",
       "  <tbody>\n",
       "    <tr>\n",
       "      <th>744</th>\n",
       "      <td>1.0</td>\n",
       "      <td>0.769231</td>\n",
       "      <td>0.654430</td>\n",
       "      <td>0.166667</td>\n",
       "      <td>2</td>\n",
       "    </tr>\n",
       "    <tr>\n",
       "      <th>439</th>\n",
       "      <td>1.0</td>\n",
       "      <td>0.415385</td>\n",
       "      <td>0.522785</td>\n",
       "      <td>0.166667</td>\n",
       "      <td>0</td>\n",
       "    </tr>\n",
       "    <tr>\n",
       "      <th>3170</th>\n",
       "      <td>0.0</td>\n",
       "      <td>0.553846</td>\n",
       "      <td>0.683544</td>\n",
       "      <td>0.500000</td>\n",
       "      <td>0</td>\n",
       "    </tr>\n",
       "    <tr>\n",
       "      <th>4282</th>\n",
       "      <td>1.0</td>\n",
       "      <td>0.507692</td>\n",
       "      <td>0.497468</td>\n",
       "      <td>0.166667</td>\n",
       "      <td>0</td>\n",
       "    </tr>\n",
       "    <tr>\n",
       "      <th>3410</th>\n",
       "      <td>0.0</td>\n",
       "      <td>0.369231</td>\n",
       "      <td>0.429114</td>\n",
       "      <td>0.333333</td>\n",
       "      <td>0</td>\n",
       "    </tr>\n",
       "  </tbody>\n",
       "</table>\n",
       "</div>"
      ],
      "text/plain": [
       "      gender       age    income  family_members  insurance_benefits\n",
       "744      1.0  0.769231  0.654430        0.166667                   2\n",
       "439      1.0  0.415385  0.522785        0.166667                   0\n",
       "3170     0.0  0.553846  0.683544        0.500000                   0\n",
       "4282     1.0  0.507692  0.497468        0.166667                   0\n",
       "3410     0.0  0.369231  0.429114        0.333333                   0"
      ]
     },
     "execution_count": 16,
     "metadata": {},
     "output_type": "execute_result"
    }
   ],
   "source": [
    "df_scaled.sample(5)"
   ]
  },
  {
   "cell_type": "markdown",
   "metadata": {},
   "source": [
    "Ahora, vamos a obtener registros similares para uno determinado, para cada combinación"
   ]
  },
  {
   "cell_type": "code",
   "execution_count": 17,
   "metadata": {},
   "outputs": [
    {
     "data": {
      "text/html": [
       "<div>\n",
       "<style scoped>\n",
       "    .dataframe tbody tr th:only-of-type {\n",
       "        vertical-align: middle;\n",
       "    }\n",
       "\n",
       "    .dataframe tbody tr th {\n",
       "        vertical-align: top;\n",
       "    }\n",
       "\n",
       "    .dataframe thead th {\n",
       "        text-align: right;\n",
       "    }\n",
       "</style>\n",
       "<table border=\"1\" class=\"dataframe\">\n",
       "  <thead>\n",
       "    <tr style=\"text-align: right;\">\n",
       "      <th></th>\n",
       "      <th>gender</th>\n",
       "      <th>age</th>\n",
       "      <th>income</th>\n",
       "      <th>family_members</th>\n",
       "      <th>insurance_benefits</th>\n",
       "      <th>distance</th>\n",
       "    </tr>\n",
       "  </thead>\n",
       "  <tbody>\n",
       "    <tr>\n",
       "      <th>5</th>\n",
       "      <td>1</td>\n",
       "      <td>43</td>\n",
       "      <td>41000.0</td>\n",
       "      <td>2</td>\n",
       "      <td>1</td>\n",
       "      <td>0.0</td>\n",
       "    </tr>\n",
       "    <tr>\n",
       "      <th>3972</th>\n",
       "      <td>1</td>\n",
       "      <td>40</td>\n",
       "      <td>41000.0</td>\n",
       "      <td>1</td>\n",
       "      <td>0</td>\n",
       "      <td>4.0</td>\n",
       "    </tr>\n",
       "    <tr>\n",
       "      <th>3801</th>\n",
       "      <td>0</td>\n",
       "      <td>46</td>\n",
       "      <td>41000.0</td>\n",
       "      <td>2</td>\n",
       "      <td>1</td>\n",
       "      <td>4.0</td>\n",
       "    </tr>\n",
       "    <tr>\n",
       "      <th>4763</th>\n",
       "      <td>1</td>\n",
       "      <td>46</td>\n",
       "      <td>41000.0</td>\n",
       "      <td>1</td>\n",
       "      <td>1</td>\n",
       "      <td>4.0</td>\n",
       "    </tr>\n",
       "    <tr>\n",
       "      <th>1995</th>\n",
       "      <td>0</td>\n",
       "      <td>45</td>\n",
       "      <td>41000.0</td>\n",
       "      <td>0</td>\n",
       "      <td>1</td>\n",
       "      <td>5.0</td>\n",
       "    </tr>\n",
       "  </tbody>\n",
       "</table>\n",
       "</div>"
      ],
      "text/plain": [
       "      gender  age   income  family_members  insurance_benefits  distance\n",
       "5          1   43  41000.0               2                   1       0.0\n",
       "3972       1   40  41000.0               1                   0       4.0\n",
       "3801       0   46  41000.0               2                   1       4.0\n",
       "4763       1   46  41000.0               1                   1       4.0\n",
       "1995       0   45  41000.0               0                   1       5.0"
      ]
     },
     "execution_count": 17,
     "metadata": {},
     "output_type": "execute_result"
    }
   ],
   "source": [
    "#Datos no escalables, distancia Manhattan\n",
    "get_knn(df, 5, 5, \"cityblock\")"
   ]
  },
  {
   "cell_type": "code",
   "execution_count": 18,
   "metadata": {},
   "outputs": [
    {
     "data": {
      "text/html": [
       "<div>\n",
       "<style scoped>\n",
       "    .dataframe tbody tr th:only-of-type {\n",
       "        vertical-align: middle;\n",
       "    }\n",
       "\n",
       "    .dataframe tbody tr th {\n",
       "        vertical-align: top;\n",
       "    }\n",
       "\n",
       "    .dataframe thead th {\n",
       "        text-align: right;\n",
       "    }\n",
       "</style>\n",
       "<table border=\"1\" class=\"dataframe\">\n",
       "  <thead>\n",
       "    <tr style=\"text-align: right;\">\n",
       "      <th></th>\n",
       "      <th>gender</th>\n",
       "      <th>age</th>\n",
       "      <th>income</th>\n",
       "      <th>family_members</th>\n",
       "      <th>insurance_benefits</th>\n",
       "      <th>distance</th>\n",
       "    </tr>\n",
       "  </thead>\n",
       "  <tbody>\n",
       "    <tr>\n",
       "      <th>5</th>\n",
       "      <td>1.0</td>\n",
       "      <td>0.661538</td>\n",
       "      <td>0.518987</td>\n",
       "      <td>0.333333</td>\n",
       "      <td>1</td>\n",
       "      <td>0.000000</td>\n",
       "    </tr>\n",
       "    <tr>\n",
       "      <th>4074</th>\n",
       "      <td>1.0</td>\n",
       "      <td>0.661538</td>\n",
       "      <td>0.501266</td>\n",
       "      <td>0.333333</td>\n",
       "      <td>1</td>\n",
       "      <td>0.017722</td>\n",
       "    </tr>\n",
       "    <tr>\n",
       "      <th>1147</th>\n",
       "      <td>1.0</td>\n",
       "      <td>0.646154</td>\n",
       "      <td>0.516456</td>\n",
       "      <td>0.333333</td>\n",
       "      <td>0</td>\n",
       "      <td>0.017916</td>\n",
       "    </tr>\n",
       "    <tr>\n",
       "      <th>2962</th>\n",
       "      <td>1.0</td>\n",
       "      <td>0.630769</td>\n",
       "      <td>0.520253</td>\n",
       "      <td>0.333333</td>\n",
       "      <td>0</td>\n",
       "      <td>0.032035</td>\n",
       "    </tr>\n",
       "    <tr>\n",
       "      <th>1019</th>\n",
       "      <td>1.0</td>\n",
       "      <td>0.646154</td>\n",
       "      <td>0.501266</td>\n",
       "      <td>0.333333</td>\n",
       "      <td>0</td>\n",
       "      <td>0.033106</td>\n",
       "    </tr>\n",
       "  </tbody>\n",
       "</table>\n",
       "</div>"
      ],
      "text/plain": [
       "      gender       age    income  family_members  insurance_benefits  distance\n",
       "5        1.0  0.661538  0.518987        0.333333                   1  0.000000\n",
       "4074     1.0  0.661538  0.501266        0.333333                   1  0.017722\n",
       "1147     1.0  0.646154  0.516456        0.333333                   0  0.017916\n",
       "2962     1.0  0.630769  0.520253        0.333333                   0  0.032035\n",
       "1019     1.0  0.646154  0.501266        0.333333                   0  0.033106"
      ]
     },
     "execution_count": 18,
     "metadata": {},
     "output_type": "execute_result"
    }
   ],
   "source": [
    "#Datos escalables, distancia Manhattan\n",
    "get_knn(df_scaled, 5, 5, \"cityblock\")"
   ]
  },
  {
   "cell_type": "code",
   "execution_count": 19,
   "metadata": {},
   "outputs": [
    {
     "data": {
      "text/html": [
       "<div>\n",
       "<style scoped>\n",
       "    .dataframe tbody tr th:only-of-type {\n",
       "        vertical-align: middle;\n",
       "    }\n",
       "\n",
       "    .dataframe tbody tr th {\n",
       "        vertical-align: top;\n",
       "    }\n",
       "\n",
       "    .dataframe thead th {\n",
       "        text-align: right;\n",
       "    }\n",
       "</style>\n",
       "<table border=\"1\" class=\"dataframe\">\n",
       "  <thead>\n",
       "    <tr style=\"text-align: right;\">\n",
       "      <th></th>\n",
       "      <th>gender</th>\n",
       "      <th>age</th>\n",
       "      <th>income</th>\n",
       "      <th>family_members</th>\n",
       "      <th>insurance_benefits</th>\n",
       "      <th>distance</th>\n",
       "    </tr>\n",
       "  </thead>\n",
       "  <tbody>\n",
       "    <tr>\n",
       "      <th>5</th>\n",
       "      <td>1</td>\n",
       "      <td>43</td>\n",
       "      <td>41000.0</td>\n",
       "      <td>2</td>\n",
       "      <td>1</td>\n",
       "      <td>0.000000</td>\n",
       "    </tr>\n",
       "    <tr>\n",
       "      <th>1995</th>\n",
       "      <td>0</td>\n",
       "      <td>45</td>\n",
       "      <td>41000.0</td>\n",
       "      <td>0</td>\n",
       "      <td>1</td>\n",
       "      <td>3.000000</td>\n",
       "    </tr>\n",
       "    <tr>\n",
       "      <th>3972</th>\n",
       "      <td>1</td>\n",
       "      <td>40</td>\n",
       "      <td>41000.0</td>\n",
       "      <td>1</td>\n",
       "      <td>0</td>\n",
       "      <td>3.162278</td>\n",
       "    </tr>\n",
       "    <tr>\n",
       "      <th>4763</th>\n",
       "      <td>1</td>\n",
       "      <td>46</td>\n",
       "      <td>41000.0</td>\n",
       "      <td>1</td>\n",
       "      <td>1</td>\n",
       "      <td>3.162278</td>\n",
       "    </tr>\n",
       "    <tr>\n",
       "      <th>3801</th>\n",
       "      <td>0</td>\n",
       "      <td>46</td>\n",
       "      <td>41000.0</td>\n",
       "      <td>2</td>\n",
       "      <td>1</td>\n",
       "      <td>3.162278</td>\n",
       "    </tr>\n",
       "  </tbody>\n",
       "</table>\n",
       "</div>"
      ],
      "text/plain": [
       "      gender  age   income  family_members  insurance_benefits  distance\n",
       "5          1   43  41000.0               2                   1  0.000000\n",
       "1995       0   45  41000.0               0                   1  3.000000\n",
       "3972       1   40  41000.0               1                   0  3.162278\n",
       "4763       1   46  41000.0               1                   1  3.162278\n",
       "3801       0   46  41000.0               2                   1  3.162278"
      ]
     },
     "execution_count": 19,
     "metadata": {},
     "output_type": "execute_result"
    }
   ],
   "source": [
    "#Datos no escalables, distancia Euclidiana\n",
    "get_knn(df, 5, 5)"
   ]
  },
  {
   "cell_type": "code",
   "execution_count": 20,
   "metadata": {},
   "outputs": [
    {
     "data": {
      "text/html": [
       "<div>\n",
       "<style scoped>\n",
       "    .dataframe tbody tr th:only-of-type {\n",
       "        vertical-align: middle;\n",
       "    }\n",
       "\n",
       "    .dataframe tbody tr th {\n",
       "        vertical-align: top;\n",
       "    }\n",
       "\n",
       "    .dataframe thead th {\n",
       "        text-align: right;\n",
       "    }\n",
       "</style>\n",
       "<table border=\"1\" class=\"dataframe\">\n",
       "  <thead>\n",
       "    <tr style=\"text-align: right;\">\n",
       "      <th></th>\n",
       "      <th>gender</th>\n",
       "      <th>age</th>\n",
       "      <th>income</th>\n",
       "      <th>family_members</th>\n",
       "      <th>insurance_benefits</th>\n",
       "      <th>distance</th>\n",
       "    </tr>\n",
       "  </thead>\n",
       "  <tbody>\n",
       "    <tr>\n",
       "      <th>5</th>\n",
       "      <td>1.0</td>\n",
       "      <td>0.661538</td>\n",
       "      <td>0.518987</td>\n",
       "      <td>0.333333</td>\n",
       "      <td>1</td>\n",
       "      <td>0.000000</td>\n",
       "    </tr>\n",
       "    <tr>\n",
       "      <th>1147</th>\n",
       "      <td>1.0</td>\n",
       "      <td>0.646154</td>\n",
       "      <td>0.516456</td>\n",
       "      <td>0.333333</td>\n",
       "      <td>0</td>\n",
       "      <td>0.015592</td>\n",
       "    </tr>\n",
       "    <tr>\n",
       "      <th>4074</th>\n",
       "      <td>1.0</td>\n",
       "      <td>0.661538</td>\n",
       "      <td>0.501266</td>\n",
       "      <td>0.333333</td>\n",
       "      <td>1</td>\n",
       "      <td>0.017722</td>\n",
       "    </tr>\n",
       "    <tr>\n",
       "      <th>1019</th>\n",
       "      <td>1.0</td>\n",
       "      <td>0.646154</td>\n",
       "      <td>0.501266</td>\n",
       "      <td>0.333333</td>\n",
       "      <td>0</td>\n",
       "      <td>0.023468</td>\n",
       "    </tr>\n",
       "    <tr>\n",
       "      <th>2962</th>\n",
       "      <td>1.0</td>\n",
       "      <td>0.630769</td>\n",
       "      <td>0.520253</td>\n",
       "      <td>0.333333</td>\n",
       "      <td>0</td>\n",
       "      <td>0.030795</td>\n",
       "    </tr>\n",
       "  </tbody>\n",
       "</table>\n",
       "</div>"
      ],
      "text/plain": [
       "      gender       age    income  family_members  insurance_benefits  distance\n",
       "5        1.0  0.661538  0.518987        0.333333                   1  0.000000\n",
       "1147     1.0  0.646154  0.516456        0.333333                   0  0.015592\n",
       "4074     1.0  0.661538  0.501266        0.333333                   1  0.017722\n",
       "1019     1.0  0.646154  0.501266        0.333333                   0  0.023468\n",
       "2962     1.0  0.630769  0.520253        0.333333                   0  0.030795"
      ]
     },
     "execution_count": 20,
     "metadata": {},
     "output_type": "execute_result"
    }
   ],
   "source": [
    "#Datos escalables, distancia Euclidiana\n",
    "get_knn(df_scaled, 5, 5)"
   ]
  },
  {
   "cell_type": "markdown",
   "metadata": {},
   "source": [
    "**¿El hecho de que los datos no estén escalados afecta al algoritmo kNN? Si es así, ¿cómo se manifiesta?** \n",
    "\n",
    "Si. Las caracteristicas (columnas) con datos con magnitudes mayores, tendrán un mayor peso en los resultados obtenidos por el algoritmo (como es el caso de \"income\" o \"age\" con respecto a \"gender\" y \"family_members\"). Encontramos que no hay diferencias entre los 5 grupos de vecinos obtenidos usando los datos escalados, con respecto a las carecteristicas de \"gender\" y \"family_members\". La caracterpistica de \"income\" no tuvo diferencias entre los grupos cuando los datos no estaban escalados."
   ]
  },
  {
   "cell_type": "markdown",
   "metadata": {},
   "source": [
    "**¿Qué tan similares son los resultados al utilizar la métrica de distancia Manhattan (independientemente del escalado)?** \n",
    "\n",
    "En ambos casos, los resultados del indice 5 se encuentran presente como el primer dato del grupo de vecinos más cercanos, (aunque esto mismo lo observamos tambien con la distancia Euclidiana.) Los primeros tres resultados del número de beneficios de seguro recibidos por una persona asegurada en los últimos cinco años, son los mismos en ambos resultados, aunque hay diferencias entre los indices."
   ]
  },
  {
   "cell_type": "markdown",
   "metadata": {},
   "source": [
    "# Tarea 2. ¿Es probable que el cliente reciba una prestación del seguro?"
   ]
  },
  {
   "cell_type": "markdown",
   "metadata": {},
   "source": [
    "En términos de machine learning podemos considerarlo como una tarea de clasificación binaria."
   ]
  },
  {
   "cell_type": "markdown",
   "metadata": {},
   "source": [
    "Con el valor de `insurance_benefits` superior a cero como objetivo, evaluaremos si el enfoque de clasificación kNN puede funcionar mejor que el modelo dummy.\n",
    "\n",
    "Dividiremos todos los datos correspondientes a las etapas de entrenamiento/prueba respetando la proporción 70:30."
   ]
  },
  {
   "cell_type": "code",
   "execution_count": 21,
   "metadata": {},
   "outputs": [
    {
     "data": {
      "text/html": [
       "<div>\n",
       "<style scoped>\n",
       "    .dataframe tbody tr th:only-of-type {\n",
       "        vertical-align: middle;\n",
       "    }\n",
       "\n",
       "    .dataframe tbody tr th {\n",
       "        vertical-align: top;\n",
       "    }\n",
       "\n",
       "    .dataframe thead th {\n",
       "        text-align: right;\n",
       "    }\n",
       "</style>\n",
       "<table border=\"1\" class=\"dataframe\">\n",
       "  <thead>\n",
       "    <tr style=\"text-align: right;\">\n",
       "      <th></th>\n",
       "      <th>gender</th>\n",
       "      <th>age</th>\n",
       "      <th>income</th>\n",
       "      <th>family_members</th>\n",
       "      <th>insurance_benefits</th>\n",
       "      <th>insurance_benefits_received</th>\n",
       "    </tr>\n",
       "  </thead>\n",
       "  <tbody>\n",
       "    <tr>\n",
       "      <th>0</th>\n",
       "      <td>1</td>\n",
       "      <td>41</td>\n",
       "      <td>49600.0</td>\n",
       "      <td>1</td>\n",
       "      <td>0</td>\n",
       "      <td>0</td>\n",
       "    </tr>\n",
       "    <tr>\n",
       "      <th>1</th>\n",
       "      <td>0</td>\n",
       "      <td>46</td>\n",
       "      <td>38000.0</td>\n",
       "      <td>1</td>\n",
       "      <td>1</td>\n",
       "      <td>1</td>\n",
       "    </tr>\n",
       "    <tr>\n",
       "      <th>2</th>\n",
       "      <td>0</td>\n",
       "      <td>29</td>\n",
       "      <td>21000.0</td>\n",
       "      <td>0</td>\n",
       "      <td>0</td>\n",
       "      <td>0</td>\n",
       "    </tr>\n",
       "    <tr>\n",
       "      <th>3</th>\n",
       "      <td>0</td>\n",
       "      <td>21</td>\n",
       "      <td>41700.0</td>\n",
       "      <td>2</td>\n",
       "      <td>0</td>\n",
       "      <td>0</td>\n",
       "    </tr>\n",
       "    <tr>\n",
       "      <th>4</th>\n",
       "      <td>1</td>\n",
       "      <td>28</td>\n",
       "      <td>26100.0</td>\n",
       "      <td>0</td>\n",
       "      <td>0</td>\n",
       "      <td>0</td>\n",
       "    </tr>\n",
       "    <tr>\n",
       "      <th>...</th>\n",
       "      <td>...</td>\n",
       "      <td>...</td>\n",
       "      <td>...</td>\n",
       "      <td>...</td>\n",
       "      <td>...</td>\n",
       "      <td>...</td>\n",
       "    </tr>\n",
       "    <tr>\n",
       "      <th>4995</th>\n",
       "      <td>0</td>\n",
       "      <td>28</td>\n",
       "      <td>35700.0</td>\n",
       "      <td>2</td>\n",
       "      <td>0</td>\n",
       "      <td>0</td>\n",
       "    </tr>\n",
       "    <tr>\n",
       "      <th>4996</th>\n",
       "      <td>0</td>\n",
       "      <td>34</td>\n",
       "      <td>52400.0</td>\n",
       "      <td>1</td>\n",
       "      <td>0</td>\n",
       "      <td>0</td>\n",
       "    </tr>\n",
       "    <tr>\n",
       "      <th>4997</th>\n",
       "      <td>0</td>\n",
       "      <td>20</td>\n",
       "      <td>33900.0</td>\n",
       "      <td>2</td>\n",
       "      <td>0</td>\n",
       "      <td>0</td>\n",
       "    </tr>\n",
       "    <tr>\n",
       "      <th>4998</th>\n",
       "      <td>1</td>\n",
       "      <td>22</td>\n",
       "      <td>32700.0</td>\n",
       "      <td>3</td>\n",
       "      <td>0</td>\n",
       "      <td>0</td>\n",
       "    </tr>\n",
       "    <tr>\n",
       "      <th>4999</th>\n",
       "      <td>1</td>\n",
       "      <td>28</td>\n",
       "      <td>40600.0</td>\n",
       "      <td>1</td>\n",
       "      <td>0</td>\n",
       "      <td>0</td>\n",
       "    </tr>\n",
       "  </tbody>\n",
       "</table>\n",
       "<p>4847 rows × 6 columns</p>\n",
       "</div>"
      ],
      "text/plain": [
       "      gender  age   income  family_members  insurance_benefits  \\\n",
       "0          1   41  49600.0               1                   0   \n",
       "1          0   46  38000.0               1                   1   \n",
       "2          0   29  21000.0               0                   0   \n",
       "3          0   21  41700.0               2                   0   \n",
       "4          1   28  26100.0               0                   0   \n",
       "...      ...  ...      ...             ...                 ...   \n",
       "4995       0   28  35700.0               2                   0   \n",
       "4996       0   34  52400.0               1                   0   \n",
       "4997       0   20  33900.0               2                   0   \n",
       "4998       1   22  32700.0               3                   0   \n",
       "4999       1   28  40600.0               1                   0   \n",
       "\n",
       "      insurance_benefits_received  \n",
       "0                               0  \n",
       "1                               1  \n",
       "2                               0  \n",
       "3                               0  \n",
       "4                               0  \n",
       "...                           ...  \n",
       "4995                            0  \n",
       "4996                            0  \n",
       "4997                            0  \n",
       "4998                            0  \n",
       "4999                            0  \n",
       "\n",
       "[4847 rows x 6 columns]"
      ]
     },
     "metadata": {},
     "output_type": "display_data"
    }
   ],
   "source": [
    "# Calcular el objetivo\n",
    "df['insurance_benefits_received'] = (df['insurance_benefits'] > 0).astype(int)\n",
    "display(df)"
   ]
  },
  {
   "cell_type": "code",
   "execution_count": 22,
   "metadata": {},
   "outputs": [
    {
     "data": {
      "text/plain": [
       "0    4284\n",
       "1     563\n",
       "Name: insurance_benefits_received, dtype: int64"
      ]
     },
     "metadata": {},
     "output_type": "display_data"
    }
   ],
   "source": [
    "# Comprobar el desequilibrio de clases con value_counts()\n",
    "\n",
    "display(df['insurance_benefits_received'].value_counts())"
   ]
  },
  {
   "cell_type": "markdown",
   "metadata": {},
   "source": [
    "En la columna \"insurance_benefits_received\" tenemos 4284 clientes sin beneficios y 563 con algún beneficio del seguro."
   ]
  },
  {
   "cell_type": "code",
   "execution_count": 23,
   "metadata": {},
   "outputs": [],
   "source": [
    "# Generar una funcion para evaluar el modelo de clasificación \n",
    "def eval_classifier(y_true, y_pred):\n",
    "    \n",
    "    f1_score = sklearn.metrics.f1_score(y_true, y_pred)\n",
    "    display(f'F1: {f1_score:.2f}')\n",
    "    \n",
    "    cm = sklearn.metrics.confusion_matrix(y_true, y_pred, normalize='all')\n",
    "\n",
    "    display('Matriz de confusión')\n",
    "    display(cm)"
   ]
  },
  {
   "cell_type": "code",
   "execution_count": 24,
   "metadata": {},
   "outputs": [],
   "source": [
    "# Generar una funcion de un modelo aleatorio\n",
    "\n",
    "def rnd_model_predict(P, size, seed=42):\n",
    "\n",
    "    rng = np.random.default_rng(seed=seed)\n",
    "    return rng.binomial(n=1, p=P, size=size)"
   ]
  },
  {
   "cell_type": "code",
   "execution_count": 25,
   "metadata": {},
   "outputs": [
    {
     "data": {
      "text/plain": [
       "'La probabilidad: 0.00'"
      ]
     },
     "metadata": {},
     "output_type": "display_data"
    },
    {
     "data": {
      "text/plain": [
       "'F1: 0.00'"
      ]
     },
     "metadata": {},
     "output_type": "display_data"
    },
    {
     "data": {
      "text/plain": [
       "'Matriz de confusión'"
      ]
     },
     "metadata": {},
     "output_type": "display_data"
    },
    {
     "data": {
      "text/plain": [
       "array([[0.88384568, 0.        ],\n",
       "       [0.11615432, 0.        ]])"
      ]
     },
     "metadata": {},
     "output_type": "display_data"
    },
    {
     "data": {
      "text/plain": [
       "'La probabilidad: 0.12'"
      ]
     },
     "metadata": {},
     "output_type": "display_data"
    },
    {
     "data": {
      "text/plain": [
       "'F1: 0.13'"
      ]
     },
     "metadata": {},
     "output_type": "display_data"
    },
    {
     "data": {
      "text/plain": [
       "'Matriz de confusión'"
      ]
     },
     "metadata": {},
     "output_type": "display_data"
    },
    {
     "data": {
      "text/plain": [
       "array([[0.78502166, 0.09882401],\n",
       "       [0.1017124 , 0.01444192]])"
      ]
     },
     "metadata": {},
     "output_type": "display_data"
    },
    {
     "data": {
      "text/plain": [
       "'La probabilidad: 0.50'"
      ]
     },
     "metadata": {},
     "output_type": "display_data"
    },
    {
     "data": {
      "text/plain": [
       "'F1: 0.19'"
      ]
     },
     "metadata": {},
     "output_type": "display_data"
    },
    {
     "data": {
      "text/plain": [
       "'Matriz de confusión'"
      ]
     },
     "metadata": {},
     "output_type": "display_data"
    },
    {
     "data": {
      "text/plain": [
       "array([[0.44873117, 0.4351145 ],\n",
       "       [0.05921188, 0.05694244]])"
      ]
     },
     "metadata": {},
     "output_type": "display_data"
    },
    {
     "data": {
      "text/plain": [
       "'La probabilidad: 1.00'"
      ]
     },
     "metadata": {},
     "output_type": "display_data"
    },
    {
     "data": {
      "text/plain": [
       "'F1: 0.21'"
      ]
     },
     "metadata": {},
     "output_type": "display_data"
    },
    {
     "data": {
      "text/plain": [
       "'Matriz de confusión'"
      ]
     },
     "metadata": {},
     "output_type": "display_data"
    },
    {
     "data": {
      "text/plain": [
       "array([[0.        , 0.88384568],\n",
       "       [0.        , 0.11615432]])"
      ]
     },
     "metadata": {},
     "output_type": "display_data"
    }
   ],
   "source": [
    "for P in [0, df['insurance_benefits_received'].sum() / len(df), 0.5, 1]:\n",
    "\n",
    "    display(f'La probabilidad: {P:.2f}')\n",
    "    y_pred_rnd = rnd_model_predict(P, size=len(df))\n",
    "        \n",
    "    eval_classifier(df['insurance_benefits_received'], y_pred_rnd)"
   ]
  },
  {
   "cell_type": "markdown",
   "metadata": {},
   "source": [
    "El valor de F1 va en aumento conforme la probabilidad. Cuando la probabilidad es 0, unicamente tenemos los datos de falsos y verdaderos negativos. Conforme aumentamos la probabilidad, los valores de falsos y veraderos positivos se incrementan. En el modelo aleatorio el valor de F1 va desde 0 a 0.21."
   ]
  },
  {
   "cell_type": "code",
   "execution_count": 26,
   "metadata": {},
   "outputs": [],
   "source": [
    "# Preparar los datos\n",
    "features = df.drop(columns=['insurance_benefits'])  # Variables independientes\n",
    "target = df['insurance_benefits_received']  # Objetivo \n",
    "\n",
    "# Dividir los datos en entrenamiento y prueba (70:30)\n",
    "features_train, features_test, target_train, target_test = train_test_split(features, target, test_size=0.3, random_state=42)\n",
    "\n",
    "# Escalar los datos\n",
    "scaler = StandardScaler()\n",
    "features_train_scaled = scaler.fit_transform(features_train)\n",
    "features_test_scaled = scaler.transform(features_test)"
   ]
  },
  {
   "cell_type": "code",
   "execution_count": 27,
   "metadata": {},
   "outputs": [],
   "source": [
    "# Construcción del modelo KNN y evaluación\n",
    "f1_scores_original = []\n",
    "f1_scores_scaled = []\n",
    "\n",
    "for k in range(1, 11):\n",
    "    # Modelo KNN para datos originales\n",
    "    knn_original = KNeighborsClassifier(n_neighbors=k)\n",
    "    knn_original.fit(features_train, target_train)\n",
    "    y_pred_original = knn_original.predict(features_test)\n",
    "    f1_scores_original.append(f1_score(target_test, y_pred_original))\n",
    "\n",
    "    # Modelo KNN para datos escalados\n",
    "    knn_scaled = KNeighborsClassifier(n_neighbors=k)\n",
    "    knn_scaled.fit(features_train_scaled, target_train)\n",
    "    y_pred_scaled = knn_scaled.predict(features_test_scaled)\n",
    "    f1_scores_scaled.append(f1_score(target_test, y_pred_scaled))"
   ]
  },
  {
   "cell_type": "code",
   "execution_count": 28,
   "metadata": {},
   "outputs": [
    {
     "data": {
      "text/plain": [
       "'F1 Scores para KNN (datos originales):'"
      ]
     },
     "metadata": {},
     "output_type": "display_data"
    },
    {
     "data": {
      "text/plain": [
       "[0.6643598615916955,\n",
       " 0.46788990825688076,\n",
       " 0.4576271186440678,\n",
       " 0.16,\n",
       " 0.16666666666666666,\n",
       " 0.08433734939759036,\n",
       " 0.10714285714285714,\n",
       " 0.025,\n",
       " 0.037267080745341616,\n",
       " 0.025]"
      ]
     },
     "metadata": {},
     "output_type": "display_data"
    },
    {
     "data": {
      "text/plain": [
       "'F1 Scores para KNN (datos escalados):'"
      ]
     },
     "metadata": {},
     "output_type": "display_data"
    },
    {
     "data": {
      "text/plain": [
       "[1.0, 1.0, 1.0, 1.0, 1.0, 1.0, 1.0, 1.0, 1.0, 1.0]"
      ]
     },
     "metadata": {},
     "output_type": "display_data"
    }
   ],
   "source": [
    "# Resultados\n",
    "display(\"F1 Scores para KNN (datos originales):\", f1_scores_original)\n",
    "display(\"F1 Scores para KNN (datos escalados):\", f1_scores_scaled)"
   ]
  },
  {
   "cell_type": "markdown",
   "metadata": {},
   "source": [
    "Con los datos no escalados, con un menor número de vecinos el valor de F1 es más cercana a 1 y por lo tanto la media armónica entre la presición y sensibilidad es más optima. En el caso de los datos escalados, observamos que no importó el número de vecinos usados, los valores de F1 siempre fueron lo más óptimos posibles. Podemos inferir que nuestro clasificador basado en KNN (de los vecinos más cercanos) es útil aún cuando se usan los datos no escalados, comparandolo con los obtenidos con el clasificador aleatorio."
   ]
  },
  {
   "cell_type": "markdown",
   "metadata": {},
   "source": [
    "# Tarea 3. Regresión (con regresión lineal)"
   ]
  },
  {
   "cell_type": "markdown",
   "metadata": {},
   "source": [
    "Con `insurance_benefits` como objetivo, evaluaremos cuál sería la RECM de un modelo de regresión lineal. Comprobaremos la RECM para los datos originales y los escalados. Dividiremos todos los datos correspondientes a las etapas de entrenamiento/prueba respetando la proporción 70:30."
   ]
  },
  {
   "cell_type": "code",
   "execution_count": 29,
   "metadata": {},
   "outputs": [],
   "source": [
    "# Clase de regresión lineal personalizada\n",
    "class MyLinearRegression:\n",
    "    def __init__(self):\n",
    "        self.weights = None\n",
    "    \n",
    "    def fit(self, X, y):\n",
    "        # Añadir las unidades (columna de unos)\n",
    "        X2 = np.hstack([np.ones((X.shape[0], 1)), X])\n",
    "        self.weights = np.linalg.inv(X2.T @ X2) @ X2.T @ y\n",
    "\n",
    "    def predict(self, X):\n",
    "        # Añadir las unidades (columna de unos)\n",
    "        X2 = np.hstack([np.ones((X.shape[0], 1)), X])\n",
    "        return X2 @ self.weights"
   ]
  },
  {
   "cell_type": "code",
   "execution_count": 30,
   "metadata": {},
   "outputs": [],
   "source": [
    "# Función para evaluar el modelo\n",
    "def eval_regressor(y_true, y_pred):\n",
    "    rmse = mean_squared_error(y_true, y_pred)  # Calcula directamente la raíz cuadrada\n",
    "    print(f\"RMSE: {rmse:.2f}\")\n",
    "    r2 = r2_score(y_true, y_pred)  # R2 sin raíz cuadrada\n",
    "    print(f\"R2: {r2:.2f}\")"
   ]
  },
  {
   "cell_type": "code",
   "execution_count": 31,
   "metadata": {},
   "outputs": [
    {
     "name": "stdout",
     "output_type": "stream",
     "text": [
      "Datos originales:\n",
      "RMSE: 0.13\n",
      "R2: 0.43\n"
     ]
    }
   ],
   "source": [
    "# Separar características (X) y objetivo (y)\n",
    "X = df[['age', 'gender', 'income', 'family_members']].to_numpy()\n",
    "y = df['insurance_benefits'].to_numpy()\n",
    "\n",
    "# Dividir los datos en entrenamiento y prueba (70:30)\n",
    "X_train, X_test, y_train, y_test = train_test_split(X, y, test_size=0.3, random_state=12345)\n",
    "\n",
    "# Crear el modelo\n",
    "lr = MyLinearRegression()\n",
    "\n",
    "# Ajustar el modelo (entrenamiento no escalado)\n",
    "lr.fit(X_train, y_train)\n",
    "\n",
    "# Hacer predicciones (datos no escalados)\n",
    "print(\"Datos originales:\")\n",
    "y_test_pred = lr.predict(X_test)\n",
    "eval_regressor(y_test, y_test_pred)"
   ]
  },
  {
   "cell_type": "code",
   "execution_count": 32,
   "metadata": {},
   "outputs": [
    {
     "name": "stdout",
     "output_type": "stream",
     "text": [
      "Datos escalados:\n",
      "RMSE: 0.13\n",
      "R2: 0.43\n"
     ]
    }
   ],
   "source": [
    "# Escalar los datos\n",
    "scaler = StandardScaler()\n",
    "X_train_scaled = scaler.fit_transform(X_train)\n",
    "X_test_scaled = scaler.transform(X_test)\n",
    "\n",
    "# Ajustar el modelo (entrenamiento escalado)\n",
    "lr.fit(X_train_scaled, y_train)\n",
    "\n",
    "# Predicciones (datos escalados)\n",
    "print(\"Datos escalados:\")\n",
    "y_test_pred_scaled = lr.predict(X_test_scaled)\n",
    "eval_regressor(y_test, y_test_pred_scaled)"
   ]
  },
  {
   "cell_type": "markdown",
   "metadata": {},
   "source": [
    "En ambos casos observamos que tanto los datos escalados como no escalados tienen el mismo valor de RMSE y R2."
   ]
  },
  {
   "cell_type": "markdown",
   "metadata": {},
   "source": [
    "# Tarea 4. Ofuscar datos"
   ]
  },
  {
   "cell_type": "markdown",
   "metadata": {},
   "source": [
    "Podemos ofuscar los datos multiplicando las características numéricas por una matriz invertible $P$. \n",
    "\n",
    "$$\n",
    "X' = X \\times P\n",
    "$$"
   ]
  },
  {
   "cell_type": "code",
   "execution_count": 33,
   "metadata": {},
   "outputs": [],
   "source": [
    "personal_info_column_list = ['gender', 'age', 'income', 'family_members']\n",
    "df_pn = df[personal_info_column_list]"
   ]
  },
  {
   "cell_type": "code",
   "execution_count": 34,
   "metadata": {},
   "outputs": [],
   "source": [
    "X = df_pn.to_numpy()"
   ]
  },
  {
   "cell_type": "markdown",
   "metadata": {},
   "source": [
    "Generamos una matriz aleatoria $P$."
   ]
  },
  {
   "cell_type": "code",
   "execution_count": 35,
   "metadata": {},
   "outputs": [],
   "source": [
    "rng = np.random.default_rng(seed=42)\n",
    "P = rng.random(size=(X.shape[1], X.shape[1]))"
   ]
  },
  {
   "cell_type": "markdown",
   "metadata": {},
   "source": [
    "Comprobamos que la matriz P sea invertible"
   ]
  },
  {
   "cell_type": "code",
   "execution_count": 36,
   "metadata": {},
   "outputs": [
    {
     "data": {
      "text/plain": [
       "'Datos originales:'"
      ]
     },
     "metadata": {},
     "output_type": "display_data"
    },
    {
     "data": {
      "text/html": [
       "<div>\n",
       "<style scoped>\n",
       "    .dataframe tbody tr th:only-of-type {\n",
       "        vertical-align: middle;\n",
       "    }\n",
       "\n",
       "    .dataframe tbody tr th {\n",
       "        vertical-align: top;\n",
       "    }\n",
       "\n",
       "    .dataframe thead th {\n",
       "        text-align: right;\n",
       "    }\n",
       "</style>\n",
       "<table border=\"1\" class=\"dataframe\">\n",
       "  <thead>\n",
       "    <tr style=\"text-align: right;\">\n",
       "      <th></th>\n",
       "      <th>gender</th>\n",
       "      <th>age</th>\n",
       "      <th>income</th>\n",
       "      <th>family_members</th>\n",
       "      <th>insurance_benefits</th>\n",
       "      <th>insurance_benefits_received</th>\n",
       "    </tr>\n",
       "  </thead>\n",
       "  <tbody>\n",
       "    <tr>\n",
       "      <th>0</th>\n",
       "      <td>1</td>\n",
       "      <td>41</td>\n",
       "      <td>49600.0</td>\n",
       "      <td>1</td>\n",
       "      <td>0</td>\n",
       "      <td>0</td>\n",
       "    </tr>\n",
       "    <tr>\n",
       "      <th>1</th>\n",
       "      <td>0</td>\n",
       "      <td>46</td>\n",
       "      <td>38000.0</td>\n",
       "      <td>1</td>\n",
       "      <td>1</td>\n",
       "      <td>1</td>\n",
       "    </tr>\n",
       "    <tr>\n",
       "      <th>2</th>\n",
       "      <td>0</td>\n",
       "      <td>29</td>\n",
       "      <td>21000.0</td>\n",
       "      <td>0</td>\n",
       "      <td>0</td>\n",
       "      <td>0</td>\n",
       "    </tr>\n",
       "    <tr>\n",
       "      <th>3</th>\n",
       "      <td>0</td>\n",
       "      <td>21</td>\n",
       "      <td>41700.0</td>\n",
       "      <td>2</td>\n",
       "      <td>0</td>\n",
       "      <td>0</td>\n",
       "    </tr>\n",
       "    <tr>\n",
       "      <th>4</th>\n",
       "      <td>1</td>\n",
       "      <td>28</td>\n",
       "      <td>26100.0</td>\n",
       "      <td>0</td>\n",
       "      <td>0</td>\n",
       "      <td>0</td>\n",
       "    </tr>\n",
       "  </tbody>\n",
       "</table>\n",
       "</div>"
      ],
      "text/plain": [
       "   gender  age   income  family_members  insurance_benefits  \\\n",
       "0       1   41  49600.0               1                   0   \n",
       "1       0   46  38000.0               1                   1   \n",
       "2       0   29  21000.0               0                   0   \n",
       "3       0   21  41700.0               2                   0   \n",
       "4       1   28  26100.0               0                   0   \n",
       "\n",
       "   insurance_benefits_received  \n",
       "0                            0  \n",
       "1                            1  \n",
       "2                            0  \n",
       "3                            0  \n",
       "4                            0  "
      ]
     },
     "metadata": {},
     "output_type": "display_data"
    },
    {
     "data": {
      "text/plain": [
       "'Datos transformados:'"
      ]
     },
     "metadata": {},
     "output_type": "display_data"
    },
    {
     "data": {
      "text/html": [
       "<div>\n",
       "<style scoped>\n",
       "    .dataframe tbody tr th:only-of-type {\n",
       "        vertical-align: middle;\n",
       "    }\n",
       "\n",
       "    .dataframe tbody tr th {\n",
       "        vertical-align: top;\n",
       "    }\n",
       "\n",
       "    .dataframe thead th {\n",
       "        text-align: right;\n",
       "    }\n",
       "</style>\n",
       "<table border=\"1\" class=\"dataframe\">\n",
       "  <thead>\n",
       "    <tr style=\"text-align: right;\">\n",
       "      <th></th>\n",
       "      <th>gender</th>\n",
       "      <th>age</th>\n",
       "      <th>income</th>\n",
       "      <th>family_members</th>\n",
       "    </tr>\n",
       "  </thead>\n",
       "  <tbody>\n",
       "    <tr>\n",
       "      <th>0</th>\n",
       "      <td>6359.715273</td>\n",
       "      <td>22380.404676</td>\n",
       "      <td>18424.090742</td>\n",
       "      <td>46000.696690</td>\n",
       "    </tr>\n",
       "    <tr>\n",
       "      <th>1</th>\n",
       "      <td>4873.294065</td>\n",
       "      <td>17160.367030</td>\n",
       "      <td>14125.780761</td>\n",
       "      <td>35253.455773</td>\n",
       "    </tr>\n",
       "    <tr>\n",
       "      <th>2</th>\n",
       "      <td>2693.117429</td>\n",
       "      <td>9486.397744</td>\n",
       "      <td>7808.831560</td>\n",
       "      <td>19484.860631</td>\n",
       "    </tr>\n",
       "    <tr>\n",
       "      <th>3</th>\n",
       "      <td>5345.603937</td>\n",
       "      <td>18803.227203</td>\n",
       "      <td>15479.148373</td>\n",
       "      <td>38663.061863</td>\n",
       "    </tr>\n",
       "    <tr>\n",
       "      <th>4</th>\n",
       "      <td>3347.176735</td>\n",
       "      <td>11782.829283</td>\n",
       "      <td>9699.998942</td>\n",
       "      <td>24211.273378</td>\n",
       "    </tr>\n",
       "  </tbody>\n",
       "</table>\n",
       "</div>"
      ],
      "text/plain": [
       "        gender           age        income  family_members\n",
       "0  6359.715273  22380.404676  18424.090742    46000.696690\n",
       "1  4873.294065  17160.367030  14125.780761    35253.455773\n",
       "2  2693.117429   9486.397744   7808.831560    19484.860631\n",
       "3  5345.603937  18803.227203  15479.148373    38663.061863\n",
       "4  3347.176735  11782.829283   9699.998942    24211.273378"
      ]
     },
     "metadata": {},
     "output_type": "display_data"
    }
   ],
   "source": [
    "# Asegurarse de que P es invertible\n",
    "while np.linalg.det(P) == 0:\n",
    "    P = np.random(size=(X.shape[1], X.shape[1]))\n",
    "\n",
    "# Transformar los datos\n",
    "data_transformed = np.dot(X, P)\n",
    "\n",
    "# Convertir de nuevo a DataFrame para inspeccionar\n",
    "df_transformed = pd.DataFrame(data_transformed, columns=feature_names)\n",
    "\n",
    "# Imprimir originales y transformados\n",
    "display(\"Datos originales:\")\n",
    "display(df.head())\n",
    "display(\"Datos transformados:\")\n",
    "display(df_transformed.head())"
   ]
  },
  {
   "cell_type": "markdown",
   "metadata": {},
   "source": [
    "¿Podemos adivinar la edad o los ingresos de los clientes después de la transformación?"
   ]
  },
  {
   "cell_type": "markdown",
   "metadata": {},
   "source": [
    "No es posible adivinar los datos de los clientes. Gracias al nombre de las columnas inferimos el tipo de datos."
   ]
  },
  {
   "cell_type": "markdown",
   "metadata": {},
   "source": [
    "¿Podemos recuperar los datos originales de $X'$ si conoces $P$?"
   ]
  },
  {
   "cell_type": "code",
   "execution_count": 37,
   "metadata": {},
   "outputs": [
    {
     "data": {
      "text/plain": [
       "'Datos originales:'"
      ]
     },
     "metadata": {},
     "output_type": "display_data"
    },
    {
     "data": {
      "text/html": [
       "<div>\n",
       "<style scoped>\n",
       "    .dataframe tbody tr th:only-of-type {\n",
       "        vertical-align: middle;\n",
       "    }\n",
       "\n",
       "    .dataframe tbody tr th {\n",
       "        vertical-align: top;\n",
       "    }\n",
       "\n",
       "    .dataframe thead th {\n",
       "        text-align: right;\n",
       "    }\n",
       "</style>\n",
       "<table border=\"1\" class=\"dataframe\">\n",
       "  <thead>\n",
       "    <tr style=\"text-align: right;\">\n",
       "      <th></th>\n",
       "      <th>gender</th>\n",
       "      <th>age</th>\n",
       "      <th>income</th>\n",
       "      <th>family_members</th>\n",
       "      <th>insurance_benefits</th>\n",
       "      <th>insurance_benefits_received</th>\n",
       "    </tr>\n",
       "  </thead>\n",
       "  <tbody>\n",
       "    <tr>\n",
       "      <th>0</th>\n",
       "      <td>1</td>\n",
       "      <td>41</td>\n",
       "      <td>49600.0</td>\n",
       "      <td>1</td>\n",
       "      <td>0</td>\n",
       "      <td>0</td>\n",
       "    </tr>\n",
       "    <tr>\n",
       "      <th>1</th>\n",
       "      <td>0</td>\n",
       "      <td>46</td>\n",
       "      <td>38000.0</td>\n",
       "      <td>1</td>\n",
       "      <td>1</td>\n",
       "      <td>1</td>\n",
       "    </tr>\n",
       "    <tr>\n",
       "      <th>2</th>\n",
       "      <td>0</td>\n",
       "      <td>29</td>\n",
       "      <td>21000.0</td>\n",
       "      <td>0</td>\n",
       "      <td>0</td>\n",
       "      <td>0</td>\n",
       "    </tr>\n",
       "    <tr>\n",
       "      <th>3</th>\n",
       "      <td>0</td>\n",
       "      <td>21</td>\n",
       "      <td>41700.0</td>\n",
       "      <td>2</td>\n",
       "      <td>0</td>\n",
       "      <td>0</td>\n",
       "    </tr>\n",
       "    <tr>\n",
       "      <th>4</th>\n",
       "      <td>1</td>\n",
       "      <td>28</td>\n",
       "      <td>26100.0</td>\n",
       "      <td>0</td>\n",
       "      <td>0</td>\n",
       "      <td>0</td>\n",
       "    </tr>\n",
       "  </tbody>\n",
       "</table>\n",
       "</div>"
      ],
      "text/plain": [
       "   gender  age   income  family_members  insurance_benefits  \\\n",
       "0       1   41  49600.0               1                   0   \n",
       "1       0   46  38000.0               1                   1   \n",
       "2       0   29  21000.0               0                   0   \n",
       "3       0   21  41700.0               2                   0   \n",
       "4       1   28  26100.0               0                   0   \n",
       "\n",
       "   insurance_benefits_received  \n",
       "0                            0  \n",
       "1                            1  \n",
       "2                            0  \n",
       "3                            0  \n",
       "4                            0  "
      ]
     },
     "metadata": {},
     "output_type": "display_data"
    },
    {
     "data": {
      "text/plain": [
       "'Datos recuperados:'"
      ]
     },
     "metadata": {},
     "output_type": "display_data"
    },
    {
     "data": {
      "text/html": [
       "<div>\n",
       "<style scoped>\n",
       "    .dataframe tbody tr th:only-of-type {\n",
       "        vertical-align: middle;\n",
       "    }\n",
       "\n",
       "    .dataframe tbody tr th {\n",
       "        vertical-align: top;\n",
       "    }\n",
       "\n",
       "    .dataframe thead th {\n",
       "        text-align: right;\n",
       "    }\n",
       "</style>\n",
       "<table border=\"1\" class=\"dataframe\">\n",
       "  <thead>\n",
       "    <tr style=\"text-align: right;\">\n",
       "      <th></th>\n",
       "      <th>gender</th>\n",
       "      <th>age</th>\n",
       "      <th>income</th>\n",
       "      <th>family_members</th>\n",
       "    </tr>\n",
       "  </thead>\n",
       "  <tbody>\n",
       "    <tr>\n",
       "      <th>0</th>\n",
       "      <td>1.000000e+00</td>\n",
       "      <td>41.0</td>\n",
       "      <td>49600.0</td>\n",
       "      <td>1.000000e+00</td>\n",
       "    </tr>\n",
       "    <tr>\n",
       "      <th>1</th>\n",
       "      <td>-4.473636e-12</td>\n",
       "      <td>46.0</td>\n",
       "      <td>38000.0</td>\n",
       "      <td>1.000000e+00</td>\n",
       "    </tr>\n",
       "    <tr>\n",
       "      <th>2</th>\n",
       "      <td>-2.515869e-12</td>\n",
       "      <td>29.0</td>\n",
       "      <td>21000.0</td>\n",
       "      <td>9.524523e-13</td>\n",
       "    </tr>\n",
       "    <tr>\n",
       "      <th>3</th>\n",
       "      <td>-4.844982e-12</td>\n",
       "      <td>21.0</td>\n",
       "      <td>41700.0</td>\n",
       "      <td>2.000000e+00</td>\n",
       "    </tr>\n",
       "    <tr>\n",
       "      <th>4</th>\n",
       "      <td>1.000000e+00</td>\n",
       "      <td>28.0</td>\n",
       "      <td>26100.0</td>\n",
       "      <td>-1.019907e-13</td>\n",
       "    </tr>\n",
       "  </tbody>\n",
       "</table>\n",
       "</div>"
      ],
      "text/plain": [
       "         gender   age   income  family_members\n",
       "0  1.000000e+00  41.0  49600.0    1.000000e+00\n",
       "1 -4.473636e-12  46.0  38000.0    1.000000e+00\n",
       "2 -2.515869e-12  29.0  21000.0    9.524523e-13\n",
       "3 -4.844982e-12  21.0  41700.0    2.000000e+00\n",
       "4  1.000000e+00  28.0  26100.0   -1.019907e-13"
      ]
     },
     "metadata": {},
     "output_type": "display_data"
    }
   ],
   "source": [
    "# Calcular la inversa de la matriz invertible (P)\n",
    "P_inv= np.linalg.inv(P)\n",
    "\n",
    "#Multiplicar por los datos transformados por la inversa de P\n",
    "ori= np.dot(data_transformed, P_inv)\n",
    "\n",
    "# Convertir de nuevo a DataFrame para inspeccionar\n",
    "df_reco=pd.DataFrame(ori, columns=feature_names)\n",
    "\n",
    "# Imprimir datos originalese y recuperados\n",
    "display(\"Datos originales:\")\n",
    "display(df.head())\n",
    "display(\"Datos recuperados:\")\n",
    "display(df_reco.head())"
   ]
  },
  {
   "cell_type": "markdown",
   "metadata": {},
   "source": [
    "Muestra los tres casos para algunos clientes- Datos originales\n",
    "- El que está transformado- El que está invertido (recuperado)"
   ]
  },
  {
   "cell_type": "code",
   "execution_count": 38,
   "metadata": {},
   "outputs": [
    {
     "data": {
      "text/plain": [
       "'Datos originales:'"
      ]
     },
     "metadata": {},
     "output_type": "display_data"
    },
    {
     "data": {
      "text/html": [
       "<div>\n",
       "<style scoped>\n",
       "    .dataframe tbody tr th:only-of-type {\n",
       "        vertical-align: middle;\n",
       "    }\n",
       "\n",
       "    .dataframe tbody tr th {\n",
       "        vertical-align: top;\n",
       "    }\n",
       "\n",
       "    .dataframe thead th {\n",
       "        text-align: right;\n",
       "    }\n",
       "</style>\n",
       "<table border=\"1\" class=\"dataframe\">\n",
       "  <thead>\n",
       "    <tr style=\"text-align: right;\">\n",
       "      <th></th>\n",
       "      <th>gender</th>\n",
       "      <th>age</th>\n",
       "      <th>income</th>\n",
       "      <th>family_members</th>\n",
       "      <th>insurance_benefits</th>\n",
       "      <th>insurance_benefits_received</th>\n",
       "    </tr>\n",
       "  </thead>\n",
       "  <tbody>\n",
       "    <tr>\n",
       "      <th>0</th>\n",
       "      <td>1</td>\n",
       "      <td>41</td>\n",
       "      <td>49600.0</td>\n",
       "      <td>1</td>\n",
       "      <td>0</td>\n",
       "      <td>0</td>\n",
       "    </tr>\n",
       "    <tr>\n",
       "      <th>1</th>\n",
       "      <td>0</td>\n",
       "      <td>46</td>\n",
       "      <td>38000.0</td>\n",
       "      <td>1</td>\n",
       "      <td>1</td>\n",
       "      <td>1</td>\n",
       "    </tr>\n",
       "    <tr>\n",
       "      <th>2</th>\n",
       "      <td>0</td>\n",
       "      <td>29</td>\n",
       "      <td>21000.0</td>\n",
       "      <td>0</td>\n",
       "      <td>0</td>\n",
       "      <td>0</td>\n",
       "    </tr>\n",
       "    <tr>\n",
       "      <th>3</th>\n",
       "      <td>0</td>\n",
       "      <td>21</td>\n",
       "      <td>41700.0</td>\n",
       "      <td>2</td>\n",
       "      <td>0</td>\n",
       "      <td>0</td>\n",
       "    </tr>\n",
       "    <tr>\n",
       "      <th>4</th>\n",
       "      <td>1</td>\n",
       "      <td>28</td>\n",
       "      <td>26100.0</td>\n",
       "      <td>0</td>\n",
       "      <td>0</td>\n",
       "      <td>0</td>\n",
       "    </tr>\n",
       "  </tbody>\n",
       "</table>\n",
       "</div>"
      ],
      "text/plain": [
       "   gender  age   income  family_members  insurance_benefits  \\\n",
       "0       1   41  49600.0               1                   0   \n",
       "1       0   46  38000.0               1                   1   \n",
       "2       0   29  21000.0               0                   0   \n",
       "3       0   21  41700.0               2                   0   \n",
       "4       1   28  26100.0               0                   0   \n",
       "\n",
       "   insurance_benefits_received  \n",
       "0                            0  \n",
       "1                            1  \n",
       "2                            0  \n",
       "3                            0  \n",
       "4                            0  "
      ]
     },
     "metadata": {},
     "output_type": "display_data"
    },
    {
     "data": {
      "text/plain": [
       "'Datos transformados:'"
      ]
     },
     "metadata": {},
     "output_type": "display_data"
    },
    {
     "data": {
      "text/html": [
       "<div>\n",
       "<style scoped>\n",
       "    .dataframe tbody tr th:only-of-type {\n",
       "        vertical-align: middle;\n",
       "    }\n",
       "\n",
       "    .dataframe tbody tr th {\n",
       "        vertical-align: top;\n",
       "    }\n",
       "\n",
       "    .dataframe thead th {\n",
       "        text-align: right;\n",
       "    }\n",
       "</style>\n",
       "<table border=\"1\" class=\"dataframe\">\n",
       "  <thead>\n",
       "    <tr style=\"text-align: right;\">\n",
       "      <th></th>\n",
       "      <th>gender</th>\n",
       "      <th>age</th>\n",
       "      <th>income</th>\n",
       "      <th>family_members</th>\n",
       "    </tr>\n",
       "  </thead>\n",
       "  <tbody>\n",
       "    <tr>\n",
       "      <th>0</th>\n",
       "      <td>6359.715273</td>\n",
       "      <td>22380.404676</td>\n",
       "      <td>18424.090742</td>\n",
       "      <td>46000.696690</td>\n",
       "    </tr>\n",
       "    <tr>\n",
       "      <th>1</th>\n",
       "      <td>4873.294065</td>\n",
       "      <td>17160.367030</td>\n",
       "      <td>14125.780761</td>\n",
       "      <td>35253.455773</td>\n",
       "    </tr>\n",
       "    <tr>\n",
       "      <th>2</th>\n",
       "      <td>2693.117429</td>\n",
       "      <td>9486.397744</td>\n",
       "      <td>7808.831560</td>\n",
       "      <td>19484.860631</td>\n",
       "    </tr>\n",
       "    <tr>\n",
       "      <th>3</th>\n",
       "      <td>5345.603937</td>\n",
       "      <td>18803.227203</td>\n",
       "      <td>15479.148373</td>\n",
       "      <td>38663.061863</td>\n",
       "    </tr>\n",
       "    <tr>\n",
       "      <th>4</th>\n",
       "      <td>3347.176735</td>\n",
       "      <td>11782.829283</td>\n",
       "      <td>9699.998942</td>\n",
       "      <td>24211.273378</td>\n",
       "    </tr>\n",
       "  </tbody>\n",
       "</table>\n",
       "</div>"
      ],
      "text/plain": [
       "        gender           age        income  family_members\n",
       "0  6359.715273  22380.404676  18424.090742    46000.696690\n",
       "1  4873.294065  17160.367030  14125.780761    35253.455773\n",
       "2  2693.117429   9486.397744   7808.831560    19484.860631\n",
       "3  5345.603937  18803.227203  15479.148373    38663.061863\n",
       "4  3347.176735  11782.829283   9699.998942    24211.273378"
      ]
     },
     "metadata": {},
     "output_type": "display_data"
    },
    {
     "data": {
      "text/plain": [
       "'Datos recuperados:'"
      ]
     },
     "metadata": {},
     "output_type": "display_data"
    },
    {
     "data": {
      "text/html": [
       "<div>\n",
       "<style scoped>\n",
       "    .dataframe tbody tr th:only-of-type {\n",
       "        vertical-align: middle;\n",
       "    }\n",
       "\n",
       "    .dataframe tbody tr th {\n",
       "        vertical-align: top;\n",
       "    }\n",
       "\n",
       "    .dataframe thead th {\n",
       "        text-align: right;\n",
       "    }\n",
       "</style>\n",
       "<table border=\"1\" class=\"dataframe\">\n",
       "  <thead>\n",
       "    <tr style=\"text-align: right;\">\n",
       "      <th></th>\n",
       "      <th>gender</th>\n",
       "      <th>age</th>\n",
       "      <th>income</th>\n",
       "      <th>family_members</th>\n",
       "    </tr>\n",
       "  </thead>\n",
       "  <tbody>\n",
       "    <tr>\n",
       "      <th>0</th>\n",
       "      <td>1.000000e+00</td>\n",
       "      <td>41.0</td>\n",
       "      <td>49600.0</td>\n",
       "      <td>1.000000e+00</td>\n",
       "    </tr>\n",
       "    <tr>\n",
       "      <th>1</th>\n",
       "      <td>-4.473636e-12</td>\n",
       "      <td>46.0</td>\n",
       "      <td>38000.0</td>\n",
       "      <td>1.000000e+00</td>\n",
       "    </tr>\n",
       "    <tr>\n",
       "      <th>2</th>\n",
       "      <td>-2.515869e-12</td>\n",
       "      <td>29.0</td>\n",
       "      <td>21000.0</td>\n",
       "      <td>9.524523e-13</td>\n",
       "    </tr>\n",
       "    <tr>\n",
       "      <th>3</th>\n",
       "      <td>-4.844982e-12</td>\n",
       "      <td>21.0</td>\n",
       "      <td>41700.0</td>\n",
       "      <td>2.000000e+00</td>\n",
       "    </tr>\n",
       "    <tr>\n",
       "      <th>4</th>\n",
       "      <td>1.000000e+00</td>\n",
       "      <td>28.0</td>\n",
       "      <td>26100.0</td>\n",
       "      <td>-1.019907e-13</td>\n",
       "    </tr>\n",
       "  </tbody>\n",
       "</table>\n",
       "</div>"
      ],
      "text/plain": [
       "         gender   age   income  family_members\n",
       "0  1.000000e+00  41.0  49600.0    1.000000e+00\n",
       "1 -4.473636e-12  46.0  38000.0    1.000000e+00\n",
       "2 -2.515869e-12  29.0  21000.0    9.524523e-13\n",
       "3 -4.844982e-12  21.0  41700.0    2.000000e+00\n",
       "4  1.000000e+00  28.0  26100.0   -1.019907e-13"
      ]
     },
     "metadata": {},
     "output_type": "display_data"
    }
   ],
   "source": [
    "# Imprimir los datos originales, transformados y recuperados\n",
    "display(\"Datos originales:\")\n",
    "display(df.head())\n",
    "display(\"Datos transformados:\")\n",
    "display(df_transformed.head())\n",
    "display(\"Datos recuperados:\")\n",
    "display(df_reco.head())"
   ]
  },
  {
   "cell_type": "markdown",
   "metadata": {},
   "source": [
    "Podemos ver que algunos valores no son exactamente iguales a los de los datos originales. \n",
    "Las computadoras trabajan con una precisión finita. Los números muy pequeños (o muy grandes) no pueden ser representados exactamente. Al hacer varias acciones (generar matrices aleatorias,  calcular la inversa de una matriz, entre otros) se generan pequeños errores de redondeo que pueden acumularse, resultando en valores muy cercanos a cero."
   ]
  },
  {
   "cell_type": "markdown",
   "metadata": {},
   "source": [
    "## Prueba de que la ofuscación de datos puede funcionar con regresión lineal"
   ]
  },
  {
   "cell_type": "markdown",
   "metadata": {},
   "source": [
    "En este proyecto la tarea de regresión se ha resuelto con la regresión lineal."
   ]
  },
  {
   "cell_type": "markdown",
   "metadata": {},
   "source": [
    "Entonces, los datos están ofuscados y ahora tenemos $X \\times P$ en lugar de tener solo $X$. En consecuencia, hay otros pesos $w_P$ como\n",
    "$$\n",
    "w = (X^T X)^{-1} X^T y \\quad \\Rightarrow \\quad w_P = [(XP)^T XP]^{-1} (XP)^T y\n",
    "$$\n",
    "\n",
    "**PREGUNTAS**\n",
    "\n",
    "¿Cómo se relacionarían $w$ y $w_P$ si simplificáramos la fórmula de $w_P$ anterior? \n",
    "\n",
    "¿Cuáles serían los valores predichos con $w_P$? \n",
    "\n",
    "¿Qué significa esto para la calidad de la regresión lineal si esta se mide mediante la RECM?\n",
    "Revisa el Apéndice B Propiedades de las matrices al final del cuaderno. ¡Allí encontrarás fórmulas muy útiles!\n",
    "\n",
    "No es necesario escribir código en esta sección, basta con una explicación analítica."
   ]
  },
  {
   "cell_type": "markdown",
   "metadata": {},
   "source": [
    "**RESPUESTAS**"
   ]
  },
  {
   "cell_type": "markdown",
   "metadata": {},
   "source": [
    "1.- Al simplificar la primera fórmula de $w_P$, al usar las propiedades de matrices invertibles, y que notando que \n",
    "$(P^T)^{−1}(P^T)$ se cancela (ya que se convierte en $1$), tenemos la siguiente fórmula:\n",
    "$$\n",
    "w_P= P^{−1}(X^TX)^{−1}(X^T)y\n",
    "$$\n",
    "\n",
    "Como está mostrado en el inciso que $w = (X^T X)^{-1} X^Ty$, podemos sustituir $w$ en nuestra fórmula:\n",
    "\n",
    "$$\n",
    "w_P= P^{−1}w\n",
    "$$\n",
    "\n",
    "$W_P$ se obtiene transformando $w$ mediante la matriz inversa $P^{−1}$ Esto indica que \n",
    "$W_P$ es simplemente una reescalada de $w$ en el espacio de las características transformadas.\n",
    "\n",
    "2.- Los valores predichos de $w_p$ serían los mismos por $w$ la transformación por P solo cambia el espacio de las características, no las predicciones. \n",
    "\n",
    "3.-El RECM no cambia después de la transformación de las características. Los valores predichos en regresión lineal se calculan como $y^=Xw$. Como los valores de predichos son identicos, la calidad de la regresión lineal es la misma antes y después de la ofuscación."
   ]
  },
  {
   "cell_type": "markdown",
   "metadata": {},
   "source": [
    "## Prueba de regresión lineal con ofuscación de datos"
   ]
  },
  {
   "cell_type": "markdown",
   "metadata": {},
   "source": [
    "Probaremos que la regresión lineal pueda funcionar, en términos computacionales, con la transformación de ofuscación elegida."
   ]
  },
  {
   "cell_type": "markdown",
   "metadata": {},
   "source": [
    "**Procedimiento**\n",
    "\n",
    "- Crearemos una matriz cuadrada $P$ de números aleatorios.- Comprobaremos que sea invertible.\n",
    "- Utilizaremos $XP$ como la nueva matriz de características"
   ]
  },
  {
   "cell_type": "code",
   "execution_count": 39,
   "metadata": {},
   "outputs": [],
   "source": [
    "# Clase de regresión lineal\n",
    "class MyLinearRegressionobfs:\n",
    "    def __init__(self):\n",
    "        self.weights = None\n",
    "        self.P = None  # Matriz de ofuscamiento\n",
    "\n",
    "    def fit(self, X, y, obfuscate=False):\n",
    "        # Ofuscar datos si es necesario\n",
    "        if obfuscate:\n",
    "            self.P = self._generate_invertible_matrix(X.shape[1])\n",
    "            X = X @ self.P\n",
    "\n",
    "        # Añadir las unidades (columna de unos)\n",
    "        X2 = np.hstack([np.ones((X.shape[0], 1)), X])\n",
    "        self.weights = np.linalg.inv(X2.T @ X2) @ X2.T @ y\n",
    "\n",
    "    def predict(self, X):\n",
    "        # Ofuscar datos si la matriz P fue utilizada en el entrenamiento\n",
    "        if self.P is not None:\n",
    "            X = X @ self.P\n",
    "\n",
    "        # Añadir las unidades (columna de unos)\n",
    "        X2 = np.hstack([np.ones((X.shape[0], 1)), X])\n",
    "        return X2 @ self.weights\n",
    "\n",
    "    def _generate_invertible_matrix(self, size):\n",
    "        \"\"\"\n",
    "        Genera una matriz aleatoria invertible.\n",
    "        \"\"\"\n",
    "        np.random.seed(42)  # Fijar semilla para reproducibilidad\n",
    "        P = np.random.rand(size, size)\n",
    "        while np.linalg.det(P) == 0:\n",
    "            P = np.random.rand(size, size)\n",
    "        return P"
   ]
  },
  {
   "cell_type": "code",
   "execution_count": 40,
   "metadata": {},
   "outputs": [
    {
     "name": "stdout",
     "output_type": "stream",
     "text": [
      "Datos ofuscados:\n",
      "RMSE: 0.13\n",
      "R2: 0.43\n",
      "Datos originales:\n",
      "RMSE: 0.13\n",
      "R2: 0.43\n"
     ]
    }
   ],
   "source": [
    "# Separar características (X) y objetivo (y)\n",
    "features = df[['age', 'gender', 'income', 'family_members']].to_numpy()\n",
    "target = df['insurance_benefits'].to_numpy()\n",
    "\n",
    "# Dividir los datos en entrenamiento y prueba (70:30)\n",
    "features_train, features_test, target_train, target_test = train_test_split(features, target, test_size=0.3, random_state=12345)\n",
    "\n",
    "# Crear el modelo\n",
    "lr = MyLinearRegressionobfs() #No  ofuscado\n",
    "lr_obf = MyLinearRegressionobfs() #Ofuscado\n",
    "\n",
    "# Escalar los datos\n",
    "scaler = StandardScaler()\n",
    "features_train_scaled = scaler.fit_transform(features_train)\n",
    "features_test_scaled = scaler.transform(features_test)\n",
    "\n",
    "# Ajustar el modelo (entrenamiento no ofuscado)\n",
    "lr.fit(features_train_scaled, target_train)\n",
    "\n",
    "# Ajustar el modelo (entrenamiento ofuscado)\n",
    "lr_obf.fit(features_train_scaled, target_train, obfuscate=True)\n",
    "\n",
    "# Predicciones (datos ofuscados)\n",
    "print(\"Datos ofuscados:\")\n",
    "target_test_pred_scaled = lr.predict(features_test_scaled)\n",
    "eval_regressor(target_test, target_test_pred_scaled)\n",
    "\n",
    "# Predicciones (datos originales)\n",
    "print(\"Datos originales:\")\n",
    "target_test_pred_scaled = lr_obf.predict(features_test_scaled)\n",
    "eval_regressor(target_test, target_test_pred_scaled)"
   ]
  },
  {
   "cell_type": "markdown",
   "metadata": {},
   "source": [
    "Los resultados del RMSE y R2 no cambian entre la regresión lineal usando los datos ofuscados y donde se usan los datos originales. "
   ]
  },
  {
   "cell_type": "markdown",
   "metadata": {},
   "source": [
    "# Conclusiones"
   ]
  },
  {
   "cell_type": "markdown",
   "metadata": {},
   "source": [
    "Escribimos la funcion que devuelve los \"k\" vecinos más cercanos a un objeto basandonos en metricas de distancia especificas. Usamos dicha función para hacer un modelo de clasificación KNN que tiene niveles optimos en términos de sensibilidad y presición con respecto a si los clientes poseen beneficios del seguro. "
   ]
  },
  {
   "cell_type": "markdown",
   "metadata": {},
   "source": [
    "Hicimos un modelo de regresión lineal con el cual se pueden ofuscar los datos a través de matrices invertibles. Corroboramos con métricas como el RMSE que dicho ofuscamiento no afectaba a los resultados del entrenamiento por parte de nuestro modelo."
   ]
  }
 ],
 "metadata": {
  "ExecuteTimeLog": [
   {
    "duration": 4369,
    "start_time": "2024-08-23T18:29:58.511Z"
   },
   {
    "duration": 4066,
    "start_time": "2024-08-23T18:30:15.339Z"
   },
   {
    "duration": 5374,
    "start_time": "2024-08-23T18:30:19.407Z"
   },
   {
    "duration": 22,
    "start_time": "2024-08-23T18:30:24.784Z"
   },
   {
    "duration": 5,
    "start_time": "2024-08-23T18:30:24.808Z"
   },
   {
    "duration": 22,
    "start_time": "2024-08-23T18:30:24.817Z"
   },
   {
    "duration": 16,
    "start_time": "2024-08-23T18:30:24.843Z"
   },
   {
    "duration": 4,
    "start_time": "2024-08-23T18:30:24.862Z"
   },
   {
    "duration": 3,
    "start_time": "2024-08-23T18:30:24.902Z"
   },
   {
    "duration": 3,
    "start_time": "2024-08-23T18:30:24.908Z"
   },
   {
    "duration": 5109,
    "start_time": "2024-08-23T18:30:24.918Z"
   },
   {
    "duration": 4,
    "start_time": "2024-08-23T18:30:30.030Z"
   },
   {
    "duration": 8,
    "start_time": "2024-08-23T18:30:30.038Z"
   },
   {
    "duration": 0,
    "start_time": "2024-08-23T18:30:30.050Z"
   },
   {
    "duration": 0,
    "start_time": "2024-08-23T18:30:30.052Z"
   },
   {
    "duration": 0,
    "start_time": "2024-08-23T18:30:30.054Z"
   },
   {
    "duration": 0,
    "start_time": "2024-08-23T18:30:30.056Z"
   },
   {
    "duration": 0,
    "start_time": "2024-08-23T18:30:30.059Z"
   },
   {
    "duration": 0,
    "start_time": "2024-08-23T18:30:30.061Z"
   },
   {
    "duration": 0,
    "start_time": "2024-08-23T18:30:30.063Z"
   },
   {
    "duration": 0,
    "start_time": "2024-08-23T18:30:30.065Z"
   },
   {
    "duration": 1,
    "start_time": "2024-08-23T18:30:30.066Z"
   },
   {
    "duration": 0,
    "start_time": "2024-08-23T18:30:30.069Z"
   },
   {
    "duration": 0,
    "start_time": "2024-08-23T18:30:30.071Z"
   },
   {
    "duration": 0,
    "start_time": "2024-08-23T18:30:30.102Z"
   },
   {
    "duration": 0,
    "start_time": "2024-08-23T18:30:30.103Z"
   },
   {
    "duration": 310,
    "start_time": "2024-08-26T14:27:06.773Z"
   },
   {
    "duration": 4238,
    "start_time": "2024-08-26T14:27:12.294Z"
   },
   {
    "duration": 5062,
    "start_time": "2024-08-26T14:27:16.536Z"
   },
   {
    "duration": 5,
    "start_time": "2024-08-26T14:27:22.475Z"
   },
   {
    "duration": 24,
    "start_time": "2024-08-26T14:27:24.593Z"
   },
   {
    "duration": 5,
    "start_time": "2024-08-26T14:27:26.621Z"
   },
   {
    "duration": 61,
    "start_time": "2024-08-26T14:27:28.049Z"
   },
   {
    "duration": 53,
    "start_time": "2024-08-26T14:27:40.751Z"
   },
   {
    "duration": 8,
    "start_time": "2024-08-26T14:27:45.776Z"
   },
   {
    "duration": 9,
    "start_time": "2024-08-26T14:27:47.498Z"
   },
   {
    "duration": 53,
    "start_time": "2024-08-26T14:27:49.386Z"
   },
   {
    "duration": 17,
    "start_time": "2024-08-26T14:30:54.375Z"
   },
   {
    "duration": 39,
    "start_time": "2024-08-26T14:31:17.600Z"
   },
   {
    "duration": 3839,
    "start_time": "2024-08-26T14:34:49.309Z"
   },
   {
    "duration": 5,
    "start_time": "2024-08-26T14:34:53.152Z"
   },
   {
    "duration": 11,
    "start_time": "2024-08-26T14:34:53.161Z"
   },
   {
    "duration": 18,
    "start_time": "2024-08-26T14:34:53.830Z"
   },
   {
    "duration": 5,
    "start_time": "2024-08-26T14:34:56.165Z"
   },
   {
    "duration": 43,
    "start_time": "2024-08-26T14:34:57.735Z"
   },
   {
    "duration": 14,
    "start_time": "2024-08-26T14:38:24.293Z"
   },
   {
    "duration": 5,
    "start_time": "2024-08-26T14:49:35.741Z"
   },
   {
    "duration": 133,
    "start_time": "2024-08-26T14:50:43.403Z"
   },
   {
    "duration": 26,
    "start_time": "2024-08-26T14:50:57.665Z"
   },
   {
    "duration": 9,
    "start_time": "2024-08-26T14:51:34.726Z"
   },
   {
    "duration": 24,
    "start_time": "2024-08-26T14:51:40.857Z"
   },
   {
    "duration": 26,
    "start_time": "2024-08-26T14:51:48.475Z"
   },
   {
    "duration": 26,
    "start_time": "2024-08-26T14:52:09.757Z"
   },
   {
    "duration": 39,
    "start_time": "2024-08-26T14:52:12.290Z"
   },
   {
    "duration": 240,
    "start_time": "2024-08-26T14:58:12.064Z"
   },
   {
    "duration": 7,
    "start_time": "2024-08-26T14:58:42.714Z"
   },
   {
    "duration": 262,
    "start_time": "2024-08-26T14:58:54.198Z"
   },
   {
    "duration": 38,
    "start_time": "2024-08-26T14:59:24.016Z"
   },
   {
    "duration": 44,
    "start_time": "2024-08-26T15:02:36.873Z"
   },
   {
    "duration": 4,
    "start_time": "2024-08-26T15:02:40.621Z"
   },
   {
    "duration": 44,
    "start_time": "2024-08-26T15:02:42.011Z"
   },
   {
    "duration": 19,
    "start_time": "2024-08-26T15:03:56.900Z"
   },
   {
    "duration": 17,
    "start_time": "2024-08-26T15:04:14.723Z"
   },
   {
    "duration": 23,
    "start_time": "2024-08-26T15:04:24.077Z"
   },
   {
    "duration": 19,
    "start_time": "2024-08-26T15:04:29.195Z"
   },
   {
    "duration": 15,
    "start_time": "2024-08-26T15:04:37.840Z"
   },
   {
    "duration": 9,
    "start_time": "2024-08-26T15:04:49.926Z"
   },
   {
    "duration": 13,
    "start_time": "2024-08-26T15:05:23.111Z"
   },
   {
    "duration": 22,
    "start_time": "2024-08-26T15:05:48.543Z"
   },
   {
    "duration": 29,
    "start_time": "2024-08-26T15:11:00.877Z"
   },
   {
    "duration": 24,
    "start_time": "2024-08-26T15:11:09.336Z"
   },
   {
    "duration": 30,
    "start_time": "2024-08-26T15:11:32.685Z"
   },
   {
    "duration": 25,
    "start_time": "2024-08-26T15:11:40.614Z"
   },
   {
    "duration": 25,
    "start_time": "2024-08-26T15:12:48.859Z"
   },
   {
    "duration": 8,
    "start_time": "2024-08-26T15:13:01.211Z"
   },
   {
    "duration": 27,
    "start_time": "2024-08-26T15:13:07.016Z"
   },
   {
    "duration": 2339,
    "start_time": "2024-08-26T19:28:24.229Z"
   },
   {
    "duration": 2680,
    "start_time": "2024-08-26T19:28:26.570Z"
   },
   {
    "duration": 10,
    "start_time": "2024-08-26T19:28:29.252Z"
   },
   {
    "duration": 13,
    "start_time": "2024-08-26T19:28:29.763Z"
   },
   {
    "duration": 3,
    "start_time": "2024-08-26T19:28:31.904Z"
   },
   {
    "duration": 9,
    "start_time": "2024-08-26T19:28:33.278Z"
   },
   {
    "duration": 14,
    "start_time": "2024-08-26T19:28:35.052Z"
   },
   {
    "duration": 19,
    "start_time": "2024-08-26T19:28:36.444Z"
   },
   {
    "duration": 3,
    "start_time": "2024-08-26T19:28:38.935Z"
   },
   {
    "duration": 10,
    "start_time": "2024-08-26T19:28:40.334Z"
   },
   {
    "duration": 8,
    "start_time": "2024-08-26T19:29:05.950Z"
   },
   {
    "duration": 13,
    "start_time": "2024-08-26T19:29:20.568Z"
   },
   {
    "duration": 2531,
    "start_time": "2024-08-26T19:30:04.681Z"
   },
   {
    "duration": 2311,
    "start_time": "2024-09-05T05:25:13.865Z"
   },
   {
    "duration": 2596,
    "start_time": "2024-09-05T05:25:16.178Z"
   },
   {
    "duration": 9,
    "start_time": "2024-09-05T05:25:18.776Z"
   },
   {
    "duration": 13,
    "start_time": "2024-09-05T05:25:19.375Z"
   },
   {
    "duration": 4,
    "start_time": "2024-09-05T05:25:20.933Z"
   },
   {
    "duration": 9,
    "start_time": "2024-09-05T05:25:23.490Z"
   },
   {
    "duration": 13,
    "start_time": "2024-09-05T05:25:25.630Z"
   },
   {
    "duration": 20,
    "start_time": "2024-09-05T05:25:27.054Z"
   },
   {
    "duration": 3,
    "start_time": "2024-09-05T05:25:29.585Z"
   },
   {
    "duration": 9,
    "start_time": "2024-09-05T05:25:31.150Z"
   },
   {
    "duration": 13,
    "start_time": "2024-09-05T05:25:33.168Z"
   },
   {
    "duration": 2523,
    "start_time": "2024-09-05T05:25:35.289Z"
   },
   {
    "duration": 2,
    "start_time": "2024-09-05T05:25:41.736Z"
   },
   {
    "duration": 6,
    "start_time": "2024-09-05T05:25:43.335Z"
   },
   {
    "duration": 4,
    "start_time": "2024-09-05T05:25:58.866Z"
   },
   {
    "duration": 12,
    "start_time": "2024-09-05T05:28:16.924Z"
   },
   {
    "duration": 2628,
    "start_time": "2024-09-05T05:28:20.879Z"
   },
   {
    "duration": 2,
    "start_time": "2024-09-05T05:28:23.509Z"
   },
   {
    "duration": 4,
    "start_time": "2024-09-05T05:28:23.989Z"
   },
   {
    "duration": 8,
    "start_time": "2024-09-05T05:28:25.567Z"
   },
   {
    "duration": 9,
    "start_time": "2024-09-05T05:28:27.450Z"
   },
   {
    "duration": 142,
    "start_time": "2024-09-05T05:32:22.216Z"
   },
   {
    "duration": 7,
    "start_time": "2024-09-05T05:34:28.099Z"
   },
   {
    "duration": 9,
    "start_time": "2024-09-05T05:36:49.850Z"
   },
   {
    "duration": 8,
    "start_time": "2024-09-05T05:36:51.557Z"
   },
   {
    "duration": 3,
    "start_time": "2024-09-05T05:38:31.532Z"
   },
   {
    "duration": 112,
    "start_time": "2024-09-05T05:38:37.019Z"
   },
   {
    "duration": 12,
    "start_time": "2024-09-05T05:39:06.307Z"
   },
   {
    "duration": 21,
    "start_time": "2024-09-05T05:39:12.890Z"
   },
   {
    "duration": 3,
    "start_time": "2024-09-05T05:39:39.917Z"
   },
   {
    "duration": 8,
    "start_time": "2024-09-05T05:39:41.619Z"
   },
   {
    "duration": 8,
    "start_time": "2024-09-05T05:39:42.800Z"
   },
   {
    "duration": 21,
    "start_time": "2024-09-05T05:39:44.251Z"
   },
   {
    "duration": 3,
    "start_time": "2024-09-05T05:40:11.837Z"
   },
   {
    "duration": 30,
    "start_time": "2024-09-05T05:40:17.504Z"
   },
   {
    "duration": 22,
    "start_time": "2024-09-05T05:40:31.126Z"
   },
   {
    "duration": 14,
    "start_time": "2024-09-05T05:40:39.548Z"
   },
   {
    "duration": 22,
    "start_time": "2024-09-05T05:40:52.147Z"
   },
   {
    "duration": 16,
    "start_time": "2024-09-05T05:40:57.021Z"
   },
   {
    "duration": 13,
    "start_time": "2024-09-05T05:41:41.140Z"
   },
   {
    "duration": 16,
    "start_time": "2024-09-05T05:41:46.951Z"
   },
   {
    "duration": 2044,
    "start_time": "2024-09-05T05:42:34.936Z"
   },
   {
    "duration": 951,
    "start_time": "2024-09-05T05:42:36.982Z"
   },
   {
    "duration": 7,
    "start_time": "2024-09-05T05:42:37.935Z"
   },
   {
    "duration": 11,
    "start_time": "2024-09-05T05:42:37.944Z"
   },
   {
    "duration": 2,
    "start_time": "2024-09-05T05:42:37.958Z"
   },
   {
    "duration": 8,
    "start_time": "2024-09-05T05:42:37.962Z"
   },
   {
    "duration": 13,
    "start_time": "2024-09-05T05:42:37.972Z"
   },
   {
    "duration": 50,
    "start_time": "2024-09-05T05:42:37.987Z"
   },
   {
    "duration": 3,
    "start_time": "2024-09-05T05:42:38.039Z"
   },
   {
    "duration": 9,
    "start_time": "2024-09-05T05:42:38.044Z"
   },
   {
    "duration": 254,
    "start_time": "2024-09-05T05:42:38.054Z"
   },
   {
    "duration": 0,
    "start_time": "2024-09-05T05:42:38.310Z"
   },
   {
    "duration": 0,
    "start_time": "2024-09-05T05:42:38.312Z"
   },
   {
    "duration": 0,
    "start_time": "2024-09-05T05:42:38.313Z"
   },
   {
    "duration": 0,
    "start_time": "2024-09-05T05:42:38.315Z"
   },
   {
    "duration": 0,
    "start_time": "2024-09-05T05:42:38.316Z"
   },
   {
    "duration": 0,
    "start_time": "2024-09-05T05:42:38.317Z"
   },
   {
    "duration": 0,
    "start_time": "2024-09-05T05:42:38.323Z"
   },
   {
    "duration": 0,
    "start_time": "2024-09-05T05:42:38.324Z"
   },
   {
    "duration": 0,
    "start_time": "2024-09-05T05:42:38.325Z"
   },
   {
    "duration": 0,
    "start_time": "2024-09-05T05:42:38.326Z"
   },
   {
    "duration": 0,
    "start_time": "2024-09-05T05:42:38.327Z"
   },
   {
    "duration": 0,
    "start_time": "2024-09-05T05:42:38.328Z"
   },
   {
    "duration": 0,
    "start_time": "2024-09-05T05:42:38.329Z"
   },
   {
    "duration": 0,
    "start_time": "2024-09-05T05:42:38.331Z"
   },
   {
    "duration": 0,
    "start_time": "2024-09-05T05:42:38.332Z"
   },
   {
    "duration": 0,
    "start_time": "2024-09-05T05:42:38.333Z"
   },
   {
    "duration": 0,
    "start_time": "2024-09-05T05:42:38.334Z"
   },
   {
    "duration": 0,
    "start_time": "2024-09-05T05:42:38.336Z"
   },
   {
    "duration": 0,
    "start_time": "2024-09-05T05:42:38.338Z"
   },
   {
    "duration": 0,
    "start_time": "2024-09-05T05:42:38.339Z"
   },
   {
    "duration": 0,
    "start_time": "2024-09-05T05:42:38.340Z"
   },
   {
    "duration": 13,
    "start_time": "2024-09-05T05:42:58.445Z"
   },
   {
    "duration": 2525,
    "start_time": "2024-09-05T05:43:02.706Z"
   },
   {
    "duration": 2505,
    "start_time": "2024-09-05T05:43:19.459Z"
   },
   {
    "duration": 3,
    "start_time": "2024-09-05T05:43:21.966Z"
   },
   {
    "duration": 3,
    "start_time": "2024-09-05T05:43:23.336Z"
   },
   {
    "duration": 3,
    "start_time": "2024-09-05T05:43:25.033Z"
   },
   {
    "duration": 8,
    "start_time": "2024-09-05T05:43:26.733Z"
   },
   {
    "duration": 12,
    "start_time": "2024-09-05T05:43:28.166Z"
   },
   {
    "duration": 15,
    "start_time": "2024-09-05T05:43:30.204Z"
   },
   {
    "duration": 21,
    "start_time": "2024-09-05T05:43:47.733Z"
   },
   {
    "duration": 12,
    "start_time": "2024-09-05T05:43:49.749Z"
   },
   {
    "duration": 20,
    "start_time": "2024-09-05T05:43:51.784Z"
   },
   {
    "duration": 4,
    "start_time": "2024-09-05T05:46:32.538Z"
   },
   {
    "duration": 26,
    "start_time": "2024-09-05T05:46:35.743Z"
   },
   {
    "duration": 3,
    "start_time": "2024-09-05T05:46:52.164Z"
   },
   {
    "duration": 320,
    "start_time": "2024-09-05T05:46:55.129Z"
   },
   {
    "duration": 3,
    "start_time": "2024-09-05T05:47:33.716Z"
   },
   {
    "duration": 46,
    "start_time": "2024-09-05T05:47:36.529Z"
   },
   {
    "duration": 3,
    "start_time": "2024-09-05T05:48:11.746Z"
   },
   {
    "duration": 16,
    "start_time": "2024-09-05T05:48:13.588Z"
   },
   {
    "duration": 4,
    "start_time": "2024-09-05T05:48:21.191Z"
   },
   {
    "duration": 553,
    "start_time": "2024-09-05T05:48:23.273Z"
   },
   {
    "duration": 3,
    "start_time": "2024-09-05T05:48:31.504Z"
   },
   {
    "duration": 16,
    "start_time": "2024-09-05T05:48:34.517Z"
   },
   {
    "duration": 3,
    "start_time": "2024-09-05T05:50:00.304Z"
   },
   {
    "duration": 12,
    "start_time": "2024-09-05T05:50:05.457Z"
   },
   {
    "duration": 4,
    "start_time": "2024-09-05T05:52:08.050Z"
   },
   {
    "duration": 3,
    "start_time": "2024-09-05T05:52:09.161Z"
   },
   {
    "duration": 20,
    "start_time": "2024-09-05T05:52:19.033Z"
   },
   {
    "duration": 24,
    "start_time": "2024-09-05T05:52:33.924Z"
   },
   {
    "duration": 16,
    "start_time": "2024-09-05T06:04:32.527Z"
   },
   {
    "duration": 21,
    "start_time": "2024-09-05T06:04:34.388Z"
   },
   {
    "duration": 16,
    "start_time": "2024-09-05T06:05:05.545Z"
   },
   {
    "duration": 22,
    "start_time": "2024-09-05T06:05:07.028Z"
   },
   {
    "duration": 20,
    "start_time": "2024-09-05T06:08:55.603Z"
   },
   {
    "duration": 30,
    "start_time": "2024-09-05T06:09:09.490Z"
   },
   {
    "duration": 4,
    "start_time": "2024-09-05T06:09:46.016Z"
   },
   {
    "duration": 16,
    "start_time": "2024-09-05T06:09:49.379Z"
   },
   {
    "duration": 4,
    "start_time": "2024-09-05T06:11:54.018Z"
   },
   {
    "duration": 13,
    "start_time": "2024-09-05T06:11:58.389Z"
   },
   {
    "duration": 20,
    "start_time": "2024-09-05T06:12:09.335Z"
   },
   {
    "duration": 8,
    "start_time": "2024-09-05T06:12:32.308Z"
   },
   {
    "duration": 12,
    "start_time": "2024-09-05T06:12:37.955Z"
   },
   {
    "duration": 20,
    "start_time": "2024-09-05T06:12:39.800Z"
   },
   {
    "duration": 15,
    "start_time": "2024-09-05T06:16:23.863Z"
   },
   {
    "duration": 13,
    "start_time": "2024-09-05T06:16:56.614Z"
   },
   {
    "duration": 14,
    "start_time": "2024-09-05T06:17:05.685Z"
   },
   {
    "duration": 14,
    "start_time": "2024-09-05T06:17:14.587Z"
   },
   {
    "duration": 13,
    "start_time": "2024-09-05T06:17:16.653Z"
   },
   {
    "duration": 21,
    "start_time": "2024-09-05T06:17:21.532Z"
   },
   {
    "duration": 14,
    "start_time": "2024-09-05T06:18:10.874Z"
   },
   {
    "duration": 20,
    "start_time": "2024-09-05T06:18:14.474Z"
   },
   {
    "duration": 13,
    "start_time": "2024-09-05T06:18:17.463Z"
   },
   {
    "duration": 20,
    "start_time": "2024-09-05T06:18:21.369Z"
   },
   {
    "duration": 14,
    "start_time": "2024-09-05T06:19:12.873Z"
   },
   {
    "duration": 14,
    "start_time": "2024-09-05T06:20:31.889Z"
   },
   {
    "duration": 14,
    "start_time": "2024-09-05T06:20:39.059Z"
   },
   {
    "duration": 6,
    "start_time": "2024-09-05T06:20:43.450Z"
   },
   {
    "duration": 13,
    "start_time": "2024-09-05T06:20:49.214Z"
   },
   {
    "duration": 21,
    "start_time": "2024-09-05T06:21:15.136Z"
   },
   {
    "duration": 24,
    "start_time": "2024-09-05T06:21:24.781Z"
   },
   {
    "duration": 13,
    "start_time": "2024-09-05T06:21:26.580Z"
   },
   {
    "duration": 12,
    "start_time": "2024-09-05T06:22:11.754Z"
   },
   {
    "duration": 92,
    "start_time": "2024-09-05T06:22:18.452Z"
   },
   {
    "duration": 13,
    "start_time": "2024-09-05T06:22:23.803Z"
   },
   {
    "duration": 4,
    "start_time": "2024-09-05T06:32:45.175Z"
   },
   {
    "duration": 4,
    "start_time": "2024-09-05T06:33:34.475Z"
   },
   {
    "duration": 3,
    "start_time": "2024-09-05T06:33:58.845Z"
   },
   {
    "duration": 21,
    "start_time": "2024-09-05T06:34:07.760Z"
   },
   {
    "duration": 12,
    "start_time": "2024-09-05T06:34:10.039Z"
   },
   {
    "duration": 22,
    "start_time": "2024-09-05T06:34:15.203Z"
   },
   {
    "duration": 157,
    "start_time": "2024-09-05T06:34:28.168Z"
   },
   {
    "duration": 2067,
    "start_time": "2024-09-05T06:34:34.759Z"
   },
   {
    "duration": 1022,
    "start_time": "2024-09-05T06:34:36.829Z"
   },
   {
    "duration": 7,
    "start_time": "2024-09-05T06:34:37.853Z"
   },
   {
    "duration": 11,
    "start_time": "2024-09-05T06:34:37.861Z"
   },
   {
    "duration": 3,
    "start_time": "2024-09-05T06:34:37.874Z"
   },
   {
    "duration": 8,
    "start_time": "2024-09-05T06:34:37.879Z"
   },
   {
    "duration": 35,
    "start_time": "2024-09-05T06:34:37.890Z"
   },
   {
    "duration": 23,
    "start_time": "2024-09-05T06:34:37.926Z"
   },
   {
    "duration": 3,
    "start_time": "2024-09-05T06:34:37.951Z"
   },
   {
    "duration": 8,
    "start_time": "2024-09-05T06:34:37.956Z"
   },
   {
    "duration": 11,
    "start_time": "2024-09-05T06:34:37.966Z"
   },
   {
    "duration": 2549,
    "start_time": "2024-09-05T06:34:37.979Z"
   },
   {
    "duration": 3,
    "start_time": "2024-09-05T06:34:40.530Z"
   },
   {
    "duration": 4,
    "start_time": "2024-09-05T06:34:40.537Z"
   },
   {
    "duration": 8,
    "start_time": "2024-09-05T06:34:40.542Z"
   },
   {
    "duration": 7,
    "start_time": "2024-09-05T06:34:40.552Z"
   },
   {
    "duration": 11,
    "start_time": "2024-09-05T06:34:40.561Z"
   },
   {
    "duration": 19,
    "start_time": "2024-09-05T06:34:40.574Z"
   },
   {
    "duration": 38,
    "start_time": "2024-09-05T06:34:40.595Z"
   },
   {
    "duration": 19,
    "start_time": "2024-09-05T06:34:40.634Z"
   },
   {
    "duration": 3,
    "start_time": "2024-09-05T06:34:40.655Z"
   },
   {
    "duration": 0,
    "start_time": "2024-09-05T06:34:40.660Z"
   },
   {
    "duration": 0,
    "start_time": "2024-09-05T06:34:40.661Z"
   },
   {
    "duration": 0,
    "start_time": "2024-09-05T06:34:40.663Z"
   },
   {
    "duration": 0,
    "start_time": "2024-09-05T06:34:40.664Z"
   },
   {
    "duration": 0,
    "start_time": "2024-09-05T06:34:40.665Z"
   },
   {
    "duration": 0,
    "start_time": "2024-09-05T06:34:40.666Z"
   },
   {
    "duration": 0,
    "start_time": "2024-09-05T06:34:40.667Z"
   },
   {
    "duration": 0,
    "start_time": "2024-09-05T06:34:40.668Z"
   },
   {
    "duration": 0,
    "start_time": "2024-09-05T06:34:40.669Z"
   },
   {
    "duration": 0,
    "start_time": "2024-09-05T06:34:40.669Z"
   },
   {
    "duration": 2392,
    "start_time": "2024-12-04T23:52:33.552Z"
   },
   {
    "duration": 2266,
    "start_time": "2024-12-04T23:52:56.557Z"
   },
   {
    "duration": 5,
    "start_time": "2024-12-04T23:54:01.908Z"
   },
   {
    "duration": 3,
    "start_time": "2024-12-04T23:54:07.219Z"
   },
   {
    "duration": 2159,
    "start_time": "2024-12-04T23:54:18.729Z"
   },
   {
    "duration": 3477,
    "start_time": "2024-12-04T23:54:50.913Z"
   },
   {
    "duration": 2054,
    "start_time": "2024-12-04T23:55:01.214Z"
   },
   {
    "duration": 2776,
    "start_time": "2024-12-04T23:55:54.462Z"
   },
   {
    "duration": 13,
    "start_time": "2024-12-04T23:55:58.741Z"
   },
   {
    "duration": 13,
    "start_time": "2024-12-04T23:56:01.372Z"
   },
   {
    "duration": 3,
    "start_time": "2024-12-04T23:56:03.533Z"
   },
   {
    "duration": 4,
    "start_time": "2024-12-04T23:56:07.078Z"
   },
   {
    "duration": 14,
    "start_time": "2024-12-04T23:56:10.502Z"
   },
   {
    "duration": 21,
    "start_time": "2024-12-04T23:56:12.790Z"
   },
   {
    "duration": 4,
    "start_time": "2024-12-04T23:56:28.268Z"
   },
   {
    "duration": 10,
    "start_time": "2024-12-04T23:56:29.885Z"
   },
   {
    "duration": 13,
    "start_time": "2024-12-04T23:56:56.368Z"
   },
   {
    "duration": 2595,
    "start_time": "2024-12-04T23:57:01.069Z"
   },
   {
    "duration": 238,
    "start_time": "2024-12-05T00:38:37.707Z"
   },
   {
    "duration": 4,
    "start_time": "2024-12-05T00:38:45.575Z"
   },
   {
    "duration": 3,
    "start_time": "2024-12-05T00:41:03.554Z"
   },
   {
    "duration": 4,
    "start_time": "2024-12-05T00:41:05.531Z"
   },
   {
    "duration": 10,
    "start_time": "2024-12-05T00:41:48.398Z"
   },
   {
    "duration": 16,
    "start_time": "2024-12-05T00:44:04.331Z"
   },
   {
    "duration": 14,
    "start_time": "2024-12-05T00:44:12.528Z"
   },
   {
    "duration": 4,
    "start_time": "2024-12-05T00:44:33.116Z"
   },
   {
    "duration": 12,
    "start_time": "2024-12-05T00:49:32.933Z"
   },
   {
    "duration": 15,
    "start_time": "2024-12-05T00:50:50.290Z"
   },
   {
    "duration": 5,
    "start_time": "2024-12-05T00:51:05.515Z"
   },
   {
    "duration": 11,
    "start_time": "2024-12-05T00:52:23.440Z"
   },
   {
    "duration": 6,
    "start_time": "2024-12-05T00:52:25.217Z"
   },
   {
    "duration": 2,
    "start_time": "2024-12-05T00:56:33.237Z"
   },
   {
    "duration": 3,
    "start_time": "2024-12-05T00:56:43.776Z"
   },
   {
    "duration": 1959,
    "start_time": "2024-12-05T00:57:01.794Z"
   },
   {
    "duration": 929,
    "start_time": "2024-12-05T00:57:03.758Z"
   },
   {
    "duration": 8,
    "start_time": "2024-12-05T00:57:04.688Z"
   },
   {
    "duration": 11,
    "start_time": "2024-12-05T00:57:04.698Z"
   },
   {
    "duration": 3,
    "start_time": "2024-12-05T00:57:04.712Z"
   },
   {
    "duration": 23,
    "start_time": "2024-12-05T00:57:04.716Z"
   },
   {
    "duration": 13,
    "start_time": "2024-12-05T00:57:04.743Z"
   },
   {
    "duration": 20,
    "start_time": "2024-12-05T00:57:04.757Z"
   },
   {
    "duration": 4,
    "start_time": "2024-12-05T00:57:04.779Z"
   },
   {
    "duration": 12,
    "start_time": "2024-12-05T00:57:04.785Z"
   },
   {
    "duration": 46,
    "start_time": "2024-12-05T00:57:04.799Z"
   },
   {
    "duration": 2574,
    "start_time": "2024-12-05T00:57:04.847Z"
   },
   {
    "duration": 2,
    "start_time": "2024-12-05T00:57:07.423Z"
   },
   {
    "duration": 4,
    "start_time": "2024-12-05T00:57:07.429Z"
   },
   {
    "duration": 9,
    "start_time": "2024-12-05T00:57:07.434Z"
   },
   {
    "duration": 8,
    "start_time": "2024-12-05T00:57:07.445Z"
   },
   {
    "duration": 14,
    "start_time": "2024-12-05T00:57:07.455Z"
   },
   {
    "duration": 14,
    "start_time": "2024-12-05T00:57:07.471Z"
   },
   {
    "duration": 13,
    "start_time": "2024-12-05T00:57:07.487Z"
   },
   {
    "duration": 14,
    "start_time": "2024-12-05T00:57:07.532Z"
   },
   {
    "duration": 11,
    "start_time": "2024-12-05T00:57:07.547Z"
   },
   {
    "duration": 6,
    "start_time": "2024-12-05T00:57:07.559Z"
   },
   {
    "duration": 5,
    "start_time": "2024-12-05T00:57:07.566Z"
   },
   {
    "duration": 3,
    "start_time": "2024-12-05T00:57:07.572Z"
   },
   {
    "duration": 4,
    "start_time": "2024-12-05T00:57:07.577Z"
   },
   {
    "duration": 0,
    "start_time": "2024-12-05T00:57:07.583Z"
   },
   {
    "duration": 0,
    "start_time": "2024-12-05T00:57:07.584Z"
   },
   {
    "duration": 0,
    "start_time": "2024-12-05T00:57:07.585Z"
   },
   {
    "duration": 0,
    "start_time": "2024-12-05T00:57:07.586Z"
   },
   {
    "duration": 0,
    "start_time": "2024-12-05T00:57:07.587Z"
   },
   {
    "duration": 0,
    "start_time": "2024-12-05T00:57:07.632Z"
   },
   {
    "duration": 0,
    "start_time": "2024-12-05T00:57:07.633Z"
   },
   {
    "duration": 0,
    "start_time": "2024-12-05T00:57:07.634Z"
   },
   {
    "duration": 5,
    "start_time": "2024-12-05T01:01:00.626Z"
   },
   {
    "duration": 3,
    "start_time": "2024-12-05T01:01:15.061Z"
   },
   {
    "duration": 3,
    "start_time": "2024-12-05T01:01:21.673Z"
   },
   {
    "duration": 2006,
    "start_time": "2024-12-05T01:10:05.920Z"
   },
   {
    "duration": 962,
    "start_time": "2024-12-05T01:10:07.928Z"
   },
   {
    "duration": 8,
    "start_time": "2024-12-05T01:10:08.892Z"
   },
   {
    "duration": 13,
    "start_time": "2024-12-05T01:10:08.902Z"
   },
   {
    "duration": 15,
    "start_time": "2024-12-05T01:10:08.916Z"
   },
   {
    "duration": 9,
    "start_time": "2024-12-05T01:10:08.933Z"
   },
   {
    "duration": 14,
    "start_time": "2024-12-05T01:10:08.944Z"
   },
   {
    "duration": 20,
    "start_time": "2024-12-05T01:10:08.960Z"
   },
   {
    "duration": 4,
    "start_time": "2024-12-05T01:10:08.982Z"
   },
   {
    "duration": 10,
    "start_time": "2024-12-05T01:10:08.989Z"
   },
   {
    "duration": 44,
    "start_time": "2024-12-05T01:10:09.000Z"
   },
   {
    "duration": 2650,
    "start_time": "2024-12-05T01:10:09.046Z"
   },
   {
    "duration": 3,
    "start_time": "2024-12-05T01:10:11.698Z"
   },
   {
    "duration": 5,
    "start_time": "2024-12-05T01:10:11.703Z"
   },
   {
    "duration": 8,
    "start_time": "2024-12-05T01:10:11.710Z"
   },
   {
    "duration": 19,
    "start_time": "2024-12-05T01:10:11.720Z"
   },
   {
    "duration": 261,
    "start_time": "2024-12-05T01:10:11.741Z"
   },
   {
    "duration": 0,
    "start_time": "2024-12-05T01:10:12.004Z"
   },
   {
    "duration": 0,
    "start_time": "2024-12-05T01:10:12.006Z"
   },
   {
    "duration": 0,
    "start_time": "2024-12-05T01:10:12.007Z"
   },
   {
    "duration": 0,
    "start_time": "2024-12-05T01:10:12.009Z"
   },
   {
    "duration": 0,
    "start_time": "2024-12-05T01:10:12.010Z"
   },
   {
    "duration": 0,
    "start_time": "2024-12-05T01:10:12.012Z"
   },
   {
    "duration": 0,
    "start_time": "2024-12-05T01:10:12.014Z"
   },
   {
    "duration": 0,
    "start_time": "2024-12-05T01:10:12.031Z"
   },
   {
    "duration": 0,
    "start_time": "2024-12-05T01:10:12.033Z"
   },
   {
    "duration": 0,
    "start_time": "2024-12-05T01:10:12.035Z"
   },
   {
    "duration": 0,
    "start_time": "2024-12-05T01:10:12.036Z"
   },
   {
    "duration": 1,
    "start_time": "2024-12-05T01:10:12.037Z"
   },
   {
    "duration": 0,
    "start_time": "2024-12-05T01:10:12.039Z"
   },
   {
    "duration": 0,
    "start_time": "2024-12-05T01:10:12.040Z"
   },
   {
    "duration": 0,
    "start_time": "2024-12-05T01:10:12.041Z"
   },
   {
    "duration": 0,
    "start_time": "2024-12-05T01:10:12.042Z"
   },
   {
    "duration": 1956,
    "start_time": "2024-12-05T01:11:03.471Z"
   },
   {
    "duration": 1184,
    "start_time": "2024-12-05T01:11:05.429Z"
   },
   {
    "duration": 0,
    "start_time": "2024-12-05T01:11:06.616Z"
   },
   {
    "duration": 0,
    "start_time": "2024-12-05T01:11:06.617Z"
   },
   {
    "duration": 0,
    "start_time": "2024-12-05T01:11:06.618Z"
   },
   {
    "duration": 0,
    "start_time": "2024-12-05T01:11:06.631Z"
   },
   {
    "duration": 0,
    "start_time": "2024-12-05T01:11:06.633Z"
   },
   {
    "duration": 0,
    "start_time": "2024-12-05T01:11:06.634Z"
   },
   {
    "duration": 0,
    "start_time": "2024-12-05T01:11:06.636Z"
   },
   {
    "duration": 0,
    "start_time": "2024-12-05T01:11:06.638Z"
   },
   {
    "duration": 0,
    "start_time": "2024-12-05T01:11:06.639Z"
   },
   {
    "duration": 0,
    "start_time": "2024-12-05T01:11:06.641Z"
   },
   {
    "duration": 0,
    "start_time": "2024-12-05T01:11:06.643Z"
   },
   {
    "duration": 0,
    "start_time": "2024-12-05T01:11:06.644Z"
   },
   {
    "duration": 0,
    "start_time": "2024-12-05T01:11:06.646Z"
   },
   {
    "duration": 0,
    "start_time": "2024-12-05T01:11:06.647Z"
   },
   {
    "duration": 0,
    "start_time": "2024-12-05T01:11:06.649Z"
   },
   {
    "duration": 1,
    "start_time": "2024-12-05T01:11:06.650Z"
   },
   {
    "duration": 0,
    "start_time": "2024-12-05T01:11:06.652Z"
   },
   {
    "duration": 0,
    "start_time": "2024-12-05T01:11:06.653Z"
   },
   {
    "duration": 0,
    "start_time": "2024-12-05T01:11:06.654Z"
   },
   {
    "duration": 0,
    "start_time": "2024-12-05T01:11:06.655Z"
   },
   {
    "duration": 0,
    "start_time": "2024-12-05T01:11:06.656Z"
   },
   {
    "duration": 0,
    "start_time": "2024-12-05T01:11:06.657Z"
   },
   {
    "duration": 0,
    "start_time": "2024-12-05T01:11:06.657Z"
   },
   {
    "duration": 0,
    "start_time": "2024-12-05T01:11:06.658Z"
   },
   {
    "duration": 0,
    "start_time": "2024-12-05T01:11:06.659Z"
   },
   {
    "duration": 0,
    "start_time": "2024-12-05T01:11:06.660Z"
   },
   {
    "duration": 0,
    "start_time": "2024-12-05T01:11:06.661Z"
   },
   {
    "duration": 0,
    "start_time": "2024-12-05T01:11:06.662Z"
   },
   {
    "duration": 0,
    "start_time": "2024-12-05T01:11:06.663Z"
   },
   {
    "duration": 0,
    "start_time": "2024-12-05T01:11:06.664Z"
   },
   {
    "duration": 0,
    "start_time": "2024-12-05T01:11:06.665Z"
   },
   {
    "duration": 1953,
    "start_time": "2024-12-05T01:11:16.180Z"
   },
   {
    "duration": 1178,
    "start_time": "2024-12-05T01:11:18.137Z"
   },
   {
    "duration": 0,
    "start_time": "2024-12-05T01:11:19.318Z"
   },
   {
    "duration": 0,
    "start_time": "2024-12-05T01:11:19.319Z"
   },
   {
    "duration": 0,
    "start_time": "2024-12-05T01:11:19.320Z"
   },
   {
    "duration": 0,
    "start_time": "2024-12-05T01:11:19.321Z"
   },
   {
    "duration": 0,
    "start_time": "2024-12-05T01:11:19.322Z"
   },
   {
    "duration": 0,
    "start_time": "2024-12-05T01:11:19.323Z"
   },
   {
    "duration": 0,
    "start_time": "2024-12-05T01:11:19.332Z"
   },
   {
    "duration": 0,
    "start_time": "2024-12-05T01:11:19.333Z"
   },
   {
    "duration": 0,
    "start_time": "2024-12-05T01:11:19.335Z"
   },
   {
    "duration": 0,
    "start_time": "2024-12-05T01:11:19.336Z"
   },
   {
    "duration": 0,
    "start_time": "2024-12-05T01:11:19.338Z"
   },
   {
    "duration": 0,
    "start_time": "2024-12-05T01:11:19.339Z"
   },
   {
    "duration": 0,
    "start_time": "2024-12-05T01:11:19.342Z"
   },
   {
    "duration": 0,
    "start_time": "2024-12-05T01:11:19.343Z"
   },
   {
    "duration": 0,
    "start_time": "2024-12-05T01:11:19.345Z"
   },
   {
    "duration": 0,
    "start_time": "2024-12-05T01:11:19.347Z"
   },
   {
    "duration": 0,
    "start_time": "2024-12-05T01:11:19.348Z"
   },
   {
    "duration": 0,
    "start_time": "2024-12-05T01:11:19.350Z"
   },
   {
    "duration": 0,
    "start_time": "2024-12-05T01:11:19.351Z"
   },
   {
    "duration": 0,
    "start_time": "2024-12-05T01:11:19.352Z"
   },
   {
    "duration": 0,
    "start_time": "2024-12-05T01:11:19.354Z"
   },
   {
    "duration": 0,
    "start_time": "2024-12-05T01:11:19.355Z"
   },
   {
    "duration": 0,
    "start_time": "2024-12-05T01:11:19.357Z"
   },
   {
    "duration": 0,
    "start_time": "2024-12-05T01:11:19.358Z"
   },
   {
    "duration": 0,
    "start_time": "2024-12-05T01:11:19.360Z"
   },
   {
    "duration": 0,
    "start_time": "2024-12-05T01:11:19.361Z"
   },
   {
    "duration": 0,
    "start_time": "2024-12-05T01:11:19.363Z"
   },
   {
    "duration": 0,
    "start_time": "2024-12-05T01:11:19.364Z"
   },
   {
    "duration": 0,
    "start_time": "2024-12-05T01:11:19.366Z"
   },
   {
    "duration": 0,
    "start_time": "2024-12-05T01:11:19.367Z"
   },
   {
    "duration": 0,
    "start_time": "2024-12-05T01:11:19.369Z"
   },
   {
    "duration": 2172,
    "start_time": "2024-12-05T01:11:35.933Z"
   },
   {
    "duration": 961,
    "start_time": "2024-12-05T01:11:38.108Z"
   },
   {
    "duration": 7,
    "start_time": "2024-12-05T01:11:39.072Z"
   },
   {
    "duration": 12,
    "start_time": "2024-12-05T01:11:39.081Z"
   },
   {
    "duration": 3,
    "start_time": "2024-12-05T01:11:39.095Z"
   },
   {
    "duration": 8,
    "start_time": "2024-12-05T01:11:39.100Z"
   },
   {
    "duration": 13,
    "start_time": "2024-12-05T01:11:39.131Z"
   },
   {
    "duration": 19,
    "start_time": "2024-12-05T01:11:39.146Z"
   },
   {
    "duration": 4,
    "start_time": "2024-12-05T01:11:39.167Z"
   },
   {
    "duration": 10,
    "start_time": "2024-12-05T01:11:39.172Z"
   },
   {
    "duration": 13,
    "start_time": "2024-12-05T01:11:39.183Z"
   },
   {
    "duration": 2711,
    "start_time": "2024-12-05T01:11:39.197Z"
   },
   {
    "duration": 2,
    "start_time": "2024-12-05T01:11:41.910Z"
   },
   {
    "duration": 4,
    "start_time": "2024-12-05T01:11:41.917Z"
   },
   {
    "duration": 11,
    "start_time": "2024-12-05T01:11:41.923Z"
   },
   {
    "duration": 10,
    "start_time": "2024-12-05T01:11:41.936Z"
   },
   {
    "duration": 21,
    "start_time": "2024-12-05T01:11:41.948Z"
   },
   {
    "duration": 19,
    "start_time": "2024-12-05T01:11:41.972Z"
   },
   {
    "duration": 39,
    "start_time": "2024-12-05T01:11:41.993Z"
   },
   {
    "duration": 19,
    "start_time": "2024-12-05T01:11:42.035Z"
   },
   {
    "duration": 15,
    "start_time": "2024-12-05T01:11:42.056Z"
   },
   {
    "duration": 6,
    "start_time": "2024-12-05T01:11:42.073Z"
   },
   {
    "duration": 3,
    "start_time": "2024-12-05T01:11:42.081Z"
   },
   {
    "duration": 4,
    "start_time": "2024-12-05T01:11:42.086Z"
   },
   {
    "duration": 4,
    "start_time": "2024-12-05T01:11:42.092Z"
   },
   {
    "duration": 0,
    "start_time": "2024-12-05T01:11:42.132Z"
   },
   {
    "duration": 0,
    "start_time": "2024-12-05T01:11:42.138Z"
   },
   {
    "duration": 0,
    "start_time": "2024-12-05T01:11:42.139Z"
   },
   {
    "duration": 0,
    "start_time": "2024-12-05T01:11:42.141Z"
   },
   {
    "duration": 0,
    "start_time": "2024-12-05T01:11:42.142Z"
   },
   {
    "duration": 0,
    "start_time": "2024-12-05T01:11:42.143Z"
   },
   {
    "duration": 0,
    "start_time": "2024-12-05T01:11:42.144Z"
   },
   {
    "duration": 0,
    "start_time": "2024-12-05T01:11:42.145Z"
   },
   {
    "duration": 14,
    "start_time": "2024-12-05T01:25:07.912Z"
   },
   {
    "duration": 6,
    "start_time": "2024-12-05T01:25:12.368Z"
   },
   {
    "duration": 3,
    "start_time": "2024-12-05T01:41:49.840Z"
   },
   {
    "duration": 29,
    "start_time": "2024-12-05T01:41:52.460Z"
   },
   {
    "duration": 34,
    "start_time": "2024-12-05T01:43:09.230Z"
   },
   {
    "duration": 3,
    "start_time": "2024-12-05T01:43:52.641Z"
   },
   {
    "duration": 3,
    "start_time": "2024-12-05T01:43:53.963Z"
   },
   {
    "duration": 243,
    "start_time": "2024-12-05T01:43:55.145Z"
   },
   {
    "duration": 4,
    "start_time": "2024-12-05T01:44:07.480Z"
   },
   {
    "duration": 3,
    "start_time": "2024-12-05T01:44:11.136Z"
   },
   {
    "duration": 3,
    "start_time": "2024-12-05T01:44:12.557Z"
   },
   {
    "duration": 35,
    "start_time": "2024-12-05T01:44:13.530Z"
   },
   {
    "duration": 10,
    "start_time": "2024-12-05T01:45:55.294Z"
   },
   {
    "duration": 2026,
    "start_time": "2024-12-05T01:46:42.533Z"
   },
   {
    "duration": 1023,
    "start_time": "2024-12-05T01:46:44.562Z"
   },
   {
    "duration": 8,
    "start_time": "2024-12-05T01:46:45.587Z"
   },
   {
    "duration": 12,
    "start_time": "2024-12-05T01:46:45.597Z"
   },
   {
    "duration": 3,
    "start_time": "2024-12-05T01:46:45.612Z"
   },
   {
    "duration": 9,
    "start_time": "2024-12-05T01:46:45.631Z"
   },
   {
    "duration": 13,
    "start_time": "2024-12-05T01:46:45.642Z"
   },
   {
    "duration": 19,
    "start_time": "2024-12-05T01:46:45.656Z"
   },
   {
    "duration": 4,
    "start_time": "2024-12-05T01:46:45.676Z"
   },
   {
    "duration": 10,
    "start_time": "2024-12-05T01:46:45.682Z"
   },
   {
    "duration": 49,
    "start_time": "2024-12-05T01:46:45.693Z"
   },
   {
    "duration": 2656,
    "start_time": "2024-12-05T01:46:45.744Z"
   },
   {
    "duration": 3,
    "start_time": "2024-12-05T01:46:48.402Z"
   },
   {
    "duration": 4,
    "start_time": "2024-12-05T01:46:48.409Z"
   },
   {
    "duration": 9,
    "start_time": "2024-12-05T01:46:48.415Z"
   },
   {
    "duration": 9,
    "start_time": "2024-12-05T01:46:48.425Z"
   },
   {
    "duration": 14,
    "start_time": "2024-12-05T01:46:48.436Z"
   },
   {
    "duration": 13,
    "start_time": "2024-12-05T01:46:48.452Z"
   },
   {
    "duration": 14,
    "start_time": "2024-12-05T01:46:48.468Z"
   },
   {
    "duration": 14,
    "start_time": "2024-12-05T01:46:48.483Z"
   },
   {
    "duration": 41,
    "start_time": "2024-12-05T01:46:48.499Z"
   },
   {
    "duration": 5,
    "start_time": "2024-12-05T01:46:48.542Z"
   },
   {
    "duration": 4,
    "start_time": "2024-12-05T01:46:48.549Z"
   },
   {
    "duration": 3,
    "start_time": "2024-12-05T01:46:48.555Z"
   },
   {
    "duration": 80,
    "start_time": "2024-12-05T01:46:48.560Z"
   },
   {
    "duration": 12,
    "start_time": "2024-12-05T01:46:48.642Z"
   },
   {
    "duration": 252,
    "start_time": "2024-12-05T01:46:48.655Z"
   },
   {
    "duration": 0,
    "start_time": "2024-12-05T01:46:48.909Z"
   },
   {
    "duration": 0,
    "start_time": "2024-12-05T01:46:48.910Z"
   },
   {
    "duration": 0,
    "start_time": "2024-12-05T01:46:48.911Z"
   },
   {
    "duration": 0,
    "start_time": "2024-12-05T01:46:48.913Z"
   },
   {
    "duration": 0,
    "start_time": "2024-12-05T01:46:48.914Z"
   },
   {
    "duration": 0,
    "start_time": "2024-12-05T01:46:48.915Z"
   },
   {
    "duration": 0,
    "start_time": "2024-12-05T01:46:48.916Z"
   },
   {
    "duration": 50,
    "start_time": "2024-12-05T01:47:52.991Z"
   },
   {
    "duration": 561,
    "start_time": "2024-12-05T01:48:15.497Z"
   },
   {
    "duration": 16,
    "start_time": "2024-12-05T01:48:18.301Z"
   },
   {
    "duration": 4,
    "start_time": "2024-12-05T01:48:27.688Z"
   },
   {
    "duration": 6,
    "start_time": "2024-12-05T01:54:04.507Z"
   },
   {
    "duration": 7,
    "start_time": "2024-12-05T01:55:40.268Z"
   },
   {
    "duration": 5,
    "start_time": "2024-12-05T01:56:57.306Z"
   },
   {
    "duration": 34,
    "start_time": "2024-12-05T01:57:12.298Z"
   },
   {
    "duration": 36,
    "start_time": "2024-12-05T01:57:19.109Z"
   },
   {
    "duration": 4,
    "start_time": "2024-12-05T04:25:37.028Z"
   },
   {
    "duration": 2,
    "start_time": "2024-12-05T04:25:38.353Z"
   },
   {
    "duration": 89,
    "start_time": "2024-12-05T04:25:39.652Z"
   },
   {
    "duration": 7,
    "start_time": "2024-12-05T04:27:28.882Z"
   },
   {
    "duration": 7,
    "start_time": "2024-12-05T04:27:50.619Z"
   },
   {
    "duration": 7,
    "start_time": "2024-12-05T04:27:55.291Z"
   },
   {
    "duration": 97,
    "start_time": "2024-12-05T04:28:04.835Z"
   },
   {
    "duration": 4,
    "start_time": "2024-12-05T04:29:01.794Z"
   },
   {
    "duration": 3,
    "start_time": "2024-12-05T04:29:05.082Z"
   },
   {
    "duration": 85,
    "start_time": "2024-12-05T04:29:06.276Z"
   },
   {
    "duration": 4,
    "start_time": "2024-12-05T04:30:32.780Z"
   },
   {
    "duration": 4,
    "start_time": "2024-12-05T04:33:11.525Z"
   },
   {
    "duration": 3,
    "start_time": "2024-12-05T04:33:13.339Z"
   },
   {
    "duration": 8,
    "start_time": "2024-12-05T04:33:14.519Z"
   },
   {
    "duration": 107,
    "start_time": "2024-12-05T04:33:19.326Z"
   },
   {
    "duration": 3,
    "start_time": "2024-12-05T04:34:01.707Z"
   },
   {
    "duration": 1958,
    "start_time": "2024-12-05T04:34:06.826Z"
   },
   {
    "duration": 916,
    "start_time": "2024-12-05T04:34:08.787Z"
   },
   {
    "duration": 9,
    "start_time": "2024-12-05T04:34:09.705Z"
   },
   {
    "duration": 19,
    "start_time": "2024-12-05T04:34:09.715Z"
   },
   {
    "duration": 3,
    "start_time": "2024-12-05T04:34:09.736Z"
   },
   {
    "duration": 8,
    "start_time": "2024-12-05T04:34:09.741Z"
   },
   {
    "duration": 13,
    "start_time": "2024-12-05T04:34:09.750Z"
   },
   {
    "duration": 21,
    "start_time": "2024-12-05T04:34:09.765Z"
   },
   {
    "duration": 4,
    "start_time": "2024-12-05T04:34:09.788Z"
   },
   {
    "duration": 39,
    "start_time": "2024-12-05T04:34:09.794Z"
   },
   {
    "duration": 13,
    "start_time": "2024-12-05T04:34:09.834Z"
   },
   {
    "duration": 2550,
    "start_time": "2024-12-05T04:34:09.849Z"
   },
   {
    "duration": 3,
    "start_time": "2024-12-05T04:34:12.401Z"
   },
   {
    "duration": 4,
    "start_time": "2024-12-05T04:34:12.408Z"
   },
   {
    "duration": 9,
    "start_time": "2024-12-05T04:34:12.413Z"
   },
   {
    "duration": 13,
    "start_time": "2024-12-05T04:34:12.424Z"
   },
   {
    "duration": 14,
    "start_time": "2024-12-05T04:34:12.439Z"
   },
   {
    "duration": 13,
    "start_time": "2024-12-05T04:34:12.455Z"
   },
   {
    "duration": 13,
    "start_time": "2024-12-05T04:34:12.470Z"
   },
   {
    "duration": 14,
    "start_time": "2024-12-05T04:34:12.484Z"
   },
   {
    "duration": 11,
    "start_time": "2024-12-05T04:34:12.532Z"
   },
   {
    "duration": 5,
    "start_time": "2024-12-05T04:34:12.544Z"
   },
   {
    "duration": 3,
    "start_time": "2024-12-05T04:34:12.550Z"
   },
   {
    "duration": 4,
    "start_time": "2024-12-05T04:34:12.554Z"
   },
   {
    "duration": 74,
    "start_time": "2024-12-05T04:34:12.559Z"
   },
   {
    "duration": 10,
    "start_time": "2024-12-05T04:34:12.635Z"
   },
   {
    "duration": 616,
    "start_time": "2024-12-05T04:34:12.646Z"
   },
   {
    "duration": 7,
    "start_time": "2024-12-05T04:34:13.263Z"
   },
   {
    "duration": 4,
    "start_time": "2024-12-05T04:34:13.272Z"
   },
   {
    "duration": 3,
    "start_time": "2024-12-05T04:34:13.278Z"
   },
   {
    "duration": 13,
    "start_time": "2024-12-05T04:34:13.282Z"
   },
   {
    "duration": 375,
    "start_time": "2024-12-05T04:34:13.296Z"
   },
   {
    "duration": 0,
    "start_time": "2024-12-05T04:34:13.672Z"
   },
   {
    "duration": 0,
    "start_time": "2024-12-05T04:34:13.674Z"
   },
   {
    "duration": 0,
    "start_time": "2024-12-05T04:34:13.675Z"
   },
   {
    "duration": 11,
    "start_time": "2024-12-05T04:35:50.858Z"
   },
   {
    "duration": 8,
    "start_time": "2024-12-05T04:36:15.056Z"
   },
   {
    "duration": 8,
    "start_time": "2024-12-05T04:36:23.861Z"
   },
   {
    "duration": 30,
    "start_time": "2024-12-05T04:55:59.617Z"
   },
   {
    "duration": 26,
    "start_time": "2024-12-05T04:56:44.317Z"
   },
   {
    "duration": 7,
    "start_time": "2024-12-05T04:57:33.128Z"
   },
   {
    "duration": 4,
    "start_time": "2024-12-05T04:57:37.126Z"
   },
   {
    "duration": 23,
    "start_time": "2024-12-05T04:58:16.739Z"
   },
   {
    "duration": 6,
    "start_time": "2024-12-05T04:59:32.283Z"
   },
   {
    "duration": 11,
    "start_time": "2024-12-05T05:00:33.497Z"
   },
   {
    "duration": 10,
    "start_time": "2024-12-05T05:01:02.553Z"
   },
   {
    "duration": 12,
    "start_time": "2024-12-05T05:01:39.217Z"
   },
   {
    "duration": 8,
    "start_time": "2024-12-05T05:01:58.985Z"
   },
   {
    "duration": 10,
    "start_time": "2024-12-05T05:02:31.335Z"
   },
   {
    "duration": 25,
    "start_time": "2024-12-05T05:03:43.670Z"
   },
   {
    "duration": 13,
    "start_time": "2024-12-05T05:03:50.504Z"
   },
   {
    "duration": 114,
    "start_time": "2024-12-05T05:06:01.129Z"
   },
   {
    "duration": 1960,
    "start_time": "2024-12-05T05:06:23.399Z"
   },
   {
    "duration": 969,
    "start_time": "2024-12-05T05:06:25.362Z"
   },
   {
    "duration": 8,
    "start_time": "2024-12-05T05:06:26.333Z"
   },
   {
    "duration": 13,
    "start_time": "2024-12-05T05:06:26.342Z"
   },
   {
    "duration": 4,
    "start_time": "2024-12-05T05:06:26.357Z"
   },
   {
    "duration": 9,
    "start_time": "2024-12-05T05:06:26.362Z"
   },
   {
    "duration": 13,
    "start_time": "2024-12-05T05:06:26.373Z"
   },
   {
    "duration": 48,
    "start_time": "2024-12-05T05:06:26.388Z"
   },
   {
    "duration": 3,
    "start_time": "2024-12-05T05:06:26.438Z"
   },
   {
    "duration": 10,
    "start_time": "2024-12-05T05:06:26.444Z"
   },
   {
    "duration": 12,
    "start_time": "2024-12-05T05:06:26.455Z"
   },
   {
    "duration": 2669,
    "start_time": "2024-12-05T05:06:26.469Z"
   },
   {
    "duration": 3,
    "start_time": "2024-12-05T05:06:29.139Z"
   },
   {
    "duration": 7,
    "start_time": "2024-12-05T05:06:29.146Z"
   },
   {
    "duration": 9,
    "start_time": "2024-12-05T05:06:29.155Z"
   },
   {
    "duration": 7,
    "start_time": "2024-12-05T05:06:29.166Z"
   },
   {
    "duration": 15,
    "start_time": "2024-12-05T05:06:29.175Z"
   },
   {
    "duration": 20,
    "start_time": "2024-12-05T05:06:29.192Z"
   },
   {
    "duration": 29,
    "start_time": "2024-12-05T05:06:29.213Z"
   },
   {
    "duration": 13,
    "start_time": "2024-12-05T05:06:29.244Z"
   },
   {
    "duration": 11,
    "start_time": "2024-12-05T05:06:29.259Z"
   },
   {
    "duration": 5,
    "start_time": "2024-12-05T05:06:29.272Z"
   },
   {
    "duration": 3,
    "start_time": "2024-12-05T05:06:29.278Z"
   },
   {
    "duration": 3,
    "start_time": "2024-12-05T05:06:29.284Z"
   },
   {
    "duration": 68,
    "start_time": "2024-12-05T05:06:29.288Z"
   },
   {
    "duration": 9,
    "start_time": "2024-12-05T05:06:29.358Z"
   },
   {
    "duration": 589,
    "start_time": "2024-12-05T05:06:29.369Z"
   },
   {
    "duration": 7,
    "start_time": "2024-12-05T05:06:29.960Z"
   },
   {
    "duration": 4,
    "start_time": "2024-12-05T05:06:29.968Z"
   },
   {
    "duration": 4,
    "start_time": "2024-12-05T05:06:29.976Z"
   },
   {
    "duration": 390,
    "start_time": "2024-12-05T05:06:29.982Z"
   },
   {
    "duration": 0,
    "start_time": "2024-12-05T05:06:30.374Z"
   },
   {
    "duration": 0,
    "start_time": "2024-12-05T05:06:30.376Z"
   },
   {
    "duration": 0,
    "start_time": "2024-12-05T05:06:30.377Z"
   },
   {
    "duration": 115,
    "start_time": "2024-12-05T05:07:43.817Z"
   },
   {
    "duration": 61,
    "start_time": "2024-12-05T05:08:14.378Z"
   },
   {
    "duration": 10,
    "start_time": "2024-12-05T05:08:21.020Z"
   },
   {
    "duration": 15,
    "start_time": "2024-12-05T05:08:35.296Z"
   },
   {
    "duration": 49,
    "start_time": "2024-12-05T05:08:38.184Z"
   },
   {
    "duration": 1980,
    "start_time": "2024-12-05T05:08:55.890Z"
   },
   {
    "duration": 950,
    "start_time": "2024-12-05T05:08:57.872Z"
   },
   {
    "duration": 8,
    "start_time": "2024-12-05T05:08:58.824Z"
   },
   {
    "duration": 12,
    "start_time": "2024-12-05T05:08:58.833Z"
   },
   {
    "duration": 3,
    "start_time": "2024-12-05T05:08:58.848Z"
   },
   {
    "duration": 8,
    "start_time": "2024-12-05T05:08:58.853Z"
   },
   {
    "duration": 13,
    "start_time": "2024-12-05T05:08:58.862Z"
   },
   {
    "duration": 19,
    "start_time": "2024-12-05T05:08:58.877Z"
   },
   {
    "duration": 35,
    "start_time": "2024-12-05T05:08:58.898Z"
   },
   {
    "duration": 10,
    "start_time": "2024-12-05T05:08:58.935Z"
   },
   {
    "duration": 12,
    "start_time": "2024-12-05T05:08:58.946Z"
   },
   {
    "duration": 2641,
    "start_time": "2024-12-05T05:08:58.959Z"
   },
   {
    "duration": 2,
    "start_time": "2024-12-05T05:09:01.602Z"
   },
   {
    "duration": 4,
    "start_time": "2024-12-05T05:09:01.609Z"
   },
   {
    "duration": 8,
    "start_time": "2024-12-05T05:09:01.615Z"
   },
   {
    "duration": 12,
    "start_time": "2024-12-05T05:09:01.625Z"
   },
   {
    "duration": 14,
    "start_time": "2024-12-05T05:09:01.638Z"
   },
   {
    "duration": 14,
    "start_time": "2024-12-05T05:09:01.653Z"
   },
   {
    "duration": 12,
    "start_time": "2024-12-05T05:09:01.669Z"
   },
   {
    "duration": 14,
    "start_time": "2024-12-05T05:09:01.682Z"
   },
   {
    "duration": 46,
    "start_time": "2024-12-05T05:09:01.698Z"
   },
   {
    "duration": 6,
    "start_time": "2024-12-05T05:09:01.746Z"
   },
   {
    "duration": 3,
    "start_time": "2024-12-05T05:09:01.754Z"
   },
   {
    "duration": 6,
    "start_time": "2024-12-05T05:09:01.759Z"
   },
   {
    "duration": 73,
    "start_time": "2024-12-05T05:09:01.767Z"
   },
   {
    "duration": 10,
    "start_time": "2024-12-05T05:09:01.842Z"
   },
   {
    "duration": 591,
    "start_time": "2024-12-05T05:09:01.853Z"
   },
   {
    "duration": 8,
    "start_time": "2024-12-05T05:09:02.446Z"
   },
   {
    "duration": 4,
    "start_time": "2024-12-05T05:09:02.455Z"
   },
   {
    "duration": 3,
    "start_time": "2024-12-05T05:09:02.461Z"
   },
   {
    "duration": 398,
    "start_time": "2024-12-05T05:09:02.465Z"
   },
   {
    "duration": 0,
    "start_time": "2024-12-05T05:09:02.865Z"
   },
   {
    "duration": 0,
    "start_time": "2024-12-05T05:09:02.866Z"
   },
   {
    "duration": 0,
    "start_time": "2024-12-05T05:09:02.869Z"
   },
   {
    "duration": 63,
    "start_time": "2024-12-05T05:09:23.373Z"
   },
   {
    "duration": 4,
    "start_time": "2024-12-05T05:13:42.894Z"
   },
   {
    "duration": 1956,
    "start_time": "2024-12-05T05:13:48.350Z"
   },
   {
    "duration": 927,
    "start_time": "2024-12-05T05:13:50.310Z"
   },
   {
    "duration": 8,
    "start_time": "2024-12-05T05:13:51.238Z"
   },
   {
    "duration": 11,
    "start_time": "2024-12-05T05:13:51.249Z"
   },
   {
    "duration": 3,
    "start_time": "2024-12-05T05:13:51.261Z"
   },
   {
    "duration": 8,
    "start_time": "2024-12-05T05:13:51.266Z"
   },
   {
    "duration": 14,
    "start_time": "2024-12-05T05:13:51.275Z"
   },
   {
    "duration": 47,
    "start_time": "2024-12-05T05:13:51.290Z"
   },
   {
    "duration": 5,
    "start_time": "2024-12-05T05:13:51.338Z"
   },
   {
    "duration": 8,
    "start_time": "2024-12-05T05:13:51.346Z"
   },
   {
    "duration": 12,
    "start_time": "2024-12-05T05:13:51.356Z"
   },
   {
    "duration": 2631,
    "start_time": "2024-12-05T05:13:51.370Z"
   },
   {
    "duration": 3,
    "start_time": "2024-12-05T05:13:54.003Z"
   },
   {
    "duration": 3,
    "start_time": "2024-12-05T05:13:54.010Z"
   },
   {
    "duration": 8,
    "start_time": "2024-12-05T05:13:54.015Z"
   },
   {
    "duration": 8,
    "start_time": "2024-12-05T05:13:54.024Z"
   },
   {
    "duration": 13,
    "start_time": "2024-12-05T05:13:54.033Z"
   },
   {
    "duration": 12,
    "start_time": "2024-12-05T05:13:54.048Z"
   },
   {
    "duration": 12,
    "start_time": "2024-12-05T05:13:54.062Z"
   },
   {
    "duration": 13,
    "start_time": "2024-12-05T05:13:54.076Z"
   },
   {
    "duration": 46,
    "start_time": "2024-12-05T05:13:54.091Z"
   },
   {
    "duration": 5,
    "start_time": "2024-12-05T05:13:54.138Z"
   },
   {
    "duration": 3,
    "start_time": "2024-12-05T05:13:54.144Z"
   },
   {
    "duration": 3,
    "start_time": "2024-12-05T05:13:54.149Z"
   },
   {
    "duration": 77,
    "start_time": "2024-12-05T05:13:54.155Z"
   },
   {
    "duration": 10,
    "start_time": "2024-12-05T05:13:54.234Z"
   },
   {
    "duration": 623,
    "start_time": "2024-12-05T05:13:54.246Z"
   },
   {
    "duration": 7,
    "start_time": "2024-12-05T05:13:54.873Z"
   },
   {
    "duration": 4,
    "start_time": "2024-12-05T05:13:54.881Z"
   },
   {
    "duration": 5,
    "start_time": "2024-12-05T05:13:54.886Z"
   },
   {
    "duration": 372,
    "start_time": "2024-12-05T05:13:54.893Z"
   },
   {
    "duration": 0,
    "start_time": "2024-12-05T05:13:55.266Z"
   },
   {
    "duration": 0,
    "start_time": "2024-12-05T05:13:55.267Z"
   },
   {
    "duration": 0,
    "start_time": "2024-12-05T05:13:55.268Z"
   },
   {
    "duration": 11,
    "start_time": "2024-12-05T05:18:26.826Z"
   },
   {
    "duration": 13,
    "start_time": "2024-12-05T05:18:33.903Z"
   },
   {
    "duration": 11,
    "start_time": "2024-12-05T05:18:38.541Z"
   },
   {
    "duration": 11,
    "start_time": "2024-12-05T05:18:53.080Z"
   },
   {
    "duration": 11,
    "start_time": "2024-12-05T05:19:05.803Z"
   },
   {
    "duration": 8,
    "start_time": "2024-12-05T05:19:40.064Z"
   },
   {
    "duration": 7,
    "start_time": "2024-12-05T05:19:47.462Z"
   },
   {
    "duration": 169,
    "start_time": "2024-12-11T17:43:23.475Z"
   },
   {
    "duration": 4086,
    "start_time": "2024-12-11T17:43:31.261Z"
   },
   {
    "duration": 3184,
    "start_time": "2024-12-11T17:43:35.350Z"
   },
   {
    "duration": 13,
    "start_time": "2024-12-11T17:43:38.536Z"
   },
   {
    "duration": 15,
    "start_time": "2024-12-11T17:43:38.552Z"
   },
   {
    "duration": 4,
    "start_time": "2024-12-11T17:43:38.569Z"
   },
   {
    "duration": 12,
    "start_time": "2024-12-11T17:43:38.575Z"
   },
   {
    "duration": 16,
    "start_time": "2024-12-11T17:43:38.608Z"
   },
   {
    "duration": 28,
    "start_time": "2024-12-11T17:43:38.626Z"
   },
   {
    "duration": 4,
    "start_time": "2024-12-11T17:43:38.656Z"
   },
   {
    "duration": 11,
    "start_time": "2024-12-11T17:43:38.664Z"
   },
   {
    "duration": 44,
    "start_time": "2024-12-11T17:43:38.676Z"
   },
   {
    "duration": 2852,
    "start_time": "2024-12-11T17:43:38.722Z"
   },
   {
    "duration": 3,
    "start_time": "2024-12-11T17:43:41.576Z"
   },
   {
    "duration": 4,
    "start_time": "2024-12-11T17:43:41.581Z"
   },
   {
    "duration": 9,
    "start_time": "2024-12-11T17:43:41.587Z"
   },
   {
    "duration": 17,
    "start_time": "2024-12-11T17:43:41.598Z"
   },
   {
    "duration": 368,
    "start_time": "2024-12-11T17:43:41.617Z"
   },
   {
    "duration": 0,
    "start_time": "2024-12-11T17:43:41.988Z"
   },
   {
    "duration": 0,
    "start_time": "2024-12-11T17:43:41.989Z"
   },
   {
    "duration": 0,
    "start_time": "2024-12-11T17:43:41.991Z"
   },
   {
    "duration": 0,
    "start_time": "2024-12-11T17:43:41.992Z"
   },
   {
    "duration": 0,
    "start_time": "2024-12-11T17:43:41.993Z"
   },
   {
    "duration": 0,
    "start_time": "2024-12-11T17:43:41.994Z"
   },
   {
    "duration": 0,
    "start_time": "2024-12-11T17:43:41.995Z"
   },
   {
    "duration": 0,
    "start_time": "2024-12-11T17:43:42.010Z"
   },
   {
    "duration": 0,
    "start_time": "2024-12-11T17:43:42.011Z"
   },
   {
    "duration": 0,
    "start_time": "2024-12-11T17:43:42.012Z"
   },
   {
    "duration": 0,
    "start_time": "2024-12-11T17:43:42.013Z"
   },
   {
    "duration": 0,
    "start_time": "2024-12-11T17:43:42.015Z"
   },
   {
    "duration": 0,
    "start_time": "2024-12-11T17:43:42.016Z"
   },
   {
    "duration": 0,
    "start_time": "2024-12-11T17:43:42.017Z"
   },
   {
    "duration": 0,
    "start_time": "2024-12-11T17:43:42.018Z"
   },
   {
    "duration": 0,
    "start_time": "2024-12-11T17:43:42.020Z"
   },
   {
    "duration": 0,
    "start_time": "2024-12-11T17:43:42.021Z"
   },
   {
    "duration": 0,
    "start_time": "2024-12-11T17:43:42.022Z"
   },
   {
    "duration": 16,
    "start_time": "2024-12-11T17:44:05.714Z"
   },
   {
    "duration": 32,
    "start_time": "2024-12-11T17:44:08.581Z"
   },
   {
    "duration": 16,
    "start_time": "2024-12-11T17:44:10.203Z"
   },
   {
    "duration": 23,
    "start_time": "2024-12-11T17:44:12.018Z"
   },
   {
    "duration": 2154,
    "start_time": "2024-12-11T17:44:20.816Z"
   },
   {
    "duration": 1036,
    "start_time": "2024-12-11T17:44:22.973Z"
   },
   {
    "duration": 8,
    "start_time": "2024-12-11T17:44:24.011Z"
   },
   {
    "duration": 15,
    "start_time": "2024-12-11T17:44:24.021Z"
   },
   {
    "duration": 3,
    "start_time": "2024-12-11T17:44:24.038Z"
   },
   {
    "duration": 10,
    "start_time": "2024-12-11T17:44:24.043Z"
   },
   {
    "duration": 14,
    "start_time": "2024-12-11T17:44:24.055Z"
   },
   {
    "duration": 52,
    "start_time": "2024-12-11T17:44:24.071Z"
   },
   {
    "duration": 4,
    "start_time": "2024-12-11T17:44:24.125Z"
   },
   {
    "duration": 10,
    "start_time": "2024-12-11T17:44:24.133Z"
   },
   {
    "duration": 15,
    "start_time": "2024-12-11T17:44:24.145Z"
   },
   {
    "duration": 2732,
    "start_time": "2024-12-11T17:44:24.162Z"
   },
   {
    "duration": 3,
    "start_time": "2024-12-11T17:44:26.896Z"
   },
   {
    "duration": 5,
    "start_time": "2024-12-11T17:44:26.901Z"
   },
   {
    "duration": 9,
    "start_time": "2024-12-11T17:44:26.910Z"
   },
   {
    "duration": 9,
    "start_time": "2024-12-11T17:44:26.923Z"
   },
   {
    "duration": 17,
    "start_time": "2024-12-11T17:44:26.934Z"
   },
   {
    "duration": 17,
    "start_time": "2024-12-11T17:44:26.952Z"
   },
   {
    "duration": 39,
    "start_time": "2024-12-11T17:44:26.971Z"
   },
   {
    "duration": 17,
    "start_time": "2024-12-11T17:44:27.013Z"
   },
   {
    "duration": 11,
    "start_time": "2024-12-11T17:44:27.033Z"
   },
   {
    "duration": 5,
    "start_time": "2024-12-11T17:44:27.046Z"
   },
   {
    "duration": 4,
    "start_time": "2024-12-11T17:44:27.053Z"
   },
   {
    "duration": 3,
    "start_time": "2024-12-11T17:44:27.058Z"
   },
   {
    "duration": 82,
    "start_time": "2024-12-11T17:44:27.063Z"
   },
   {
    "duration": 11,
    "start_time": "2024-12-11T17:44:27.147Z"
   },
   {
    "duration": 693,
    "start_time": "2024-12-11T17:44:27.160Z"
   },
   {
    "duration": 7,
    "start_time": "2024-12-11T17:44:27.858Z"
   },
   {
    "duration": 4,
    "start_time": "2024-12-11T17:44:27.867Z"
   },
   {
    "duration": 20,
    "start_time": "2024-12-11T17:44:27.873Z"
   },
   {
    "duration": 523,
    "start_time": "2024-12-11T17:44:27.895Z"
   },
   {
    "duration": 0,
    "start_time": "2024-12-11T17:44:28.420Z"
   },
   {
    "duration": 0,
    "start_time": "2024-12-11T17:44:28.421Z"
   },
   {
    "duration": 0,
    "start_time": "2024-12-11T17:44:28.422Z"
   },
   {
    "duration": 0,
    "start_time": "2024-12-11T17:44:28.423Z"
   },
   {
    "duration": 2159,
    "start_time": "2024-12-11T17:45:20.413Z"
   },
   {
    "duration": 1147,
    "start_time": "2024-12-11T17:45:22.575Z"
   },
   {
    "duration": 10,
    "start_time": "2024-12-11T17:45:23.727Z"
   },
   {
    "duration": 17,
    "start_time": "2024-12-11T17:45:23.739Z"
   },
   {
    "duration": 5,
    "start_time": "2024-12-11T17:45:23.761Z"
   },
   {
    "duration": 12,
    "start_time": "2024-12-11T17:45:23.768Z"
   },
   {
    "duration": 38,
    "start_time": "2024-12-11T17:45:23.782Z"
   },
   {
    "duration": 27,
    "start_time": "2024-12-11T17:45:23.822Z"
   },
   {
    "duration": 4,
    "start_time": "2024-12-11T17:45:23.851Z"
   },
   {
    "duration": 12,
    "start_time": "2024-12-11T17:45:23.856Z"
   },
   {
    "duration": 45,
    "start_time": "2024-12-11T17:45:23.870Z"
   },
   {
    "duration": 2849,
    "start_time": "2024-12-11T17:45:23.917Z"
   },
   {
    "duration": 7,
    "start_time": "2024-12-11T17:45:26.768Z"
   },
   {
    "duration": 5,
    "start_time": "2024-12-11T17:45:26.780Z"
   },
   {
    "duration": 9,
    "start_time": "2024-12-11T17:45:26.787Z"
   },
   {
    "duration": 11,
    "start_time": "2024-12-11T17:45:29.291Z"
   },
   {
    "duration": 16,
    "start_time": "2024-12-11T17:45:31.670Z"
   },
   {
    "duration": 16,
    "start_time": "2024-12-11T17:45:34.408Z"
   },
   {
    "duration": 4,
    "start_time": "2024-12-11T18:05:40.726Z"
   },
   {
    "duration": 9,
    "start_time": "2024-12-11T18:05:42.676Z"
   },
   {
    "duration": 9,
    "start_time": "2024-12-11T18:05:44.453Z"
   },
   {
    "duration": 247,
    "start_time": "2024-12-11T18:05:46.331Z"
   },
   {
    "duration": 4,
    "start_time": "2024-12-11T18:06:59.374Z"
   },
   {
    "duration": 9,
    "start_time": "2024-12-11T18:07:01.045Z"
   },
   {
    "duration": 9,
    "start_time": "2024-12-11T18:07:03.017Z"
   },
   {
    "duration": 16,
    "start_time": "2024-12-11T18:07:04.975Z"
   },
   {
    "duration": 16,
    "start_time": "2024-12-11T18:07:07.096Z"
   },
   {
    "duration": 16,
    "start_time": "2024-12-11T18:07:09.177Z"
   },
   {
    "duration": 14,
    "start_time": "2024-12-11T18:07:11.346Z"
   },
   {
    "duration": 11,
    "start_time": "2024-12-11T18:09:25.191Z"
   },
   {
    "duration": 5,
    "start_time": "2024-12-11T18:09:27.628Z"
   },
   {
    "duration": 3,
    "start_time": "2024-12-11T18:09:29.935Z"
   },
   {
    "duration": 19,
    "start_time": "2024-12-11T18:09:32.458Z"
   },
   {
    "duration": 3,
    "start_time": "2024-12-11T18:09:34.557Z"
   },
   {
    "duration": 34,
    "start_time": "2024-12-11T18:09:35.796Z"
   },
   {
    "duration": 11,
    "start_time": "2024-12-11T18:09:38.040Z"
   },
   {
    "duration": 614,
    "start_time": "2024-12-11T18:09:39.620Z"
   },
   {
    "duration": 8,
    "start_time": "2024-12-11T18:09:41.121Z"
   },
   {
    "duration": 1956,
    "start_time": "2024-12-11T18:10:42.497Z"
   },
   {
    "duration": 928,
    "start_time": "2024-12-11T18:10:44.455Z"
   },
   {
    "duration": 8,
    "start_time": "2024-12-11T18:10:45.384Z"
   },
   {
    "duration": 20,
    "start_time": "2024-12-11T18:10:45.393Z"
   },
   {
    "duration": 3,
    "start_time": "2024-12-11T18:10:45.416Z"
   },
   {
    "duration": 9,
    "start_time": "2024-12-11T18:10:45.420Z"
   },
   {
    "duration": 13,
    "start_time": "2024-12-11T18:10:45.431Z"
   },
   {
    "duration": 17,
    "start_time": "2024-12-11T18:10:45.447Z"
   },
   {
    "duration": 3,
    "start_time": "2024-12-11T18:10:45.466Z"
   },
   {
    "duration": 44,
    "start_time": "2024-12-11T18:10:45.470Z"
   },
   {
    "duration": 13,
    "start_time": "2024-12-11T18:10:45.515Z"
   },
   {
    "duration": 2624,
    "start_time": "2024-12-11T18:10:45.529Z"
   },
   {
    "duration": 3,
    "start_time": "2024-12-11T18:10:48.155Z"
   },
   {
    "duration": 4,
    "start_time": "2024-12-11T18:10:48.161Z"
   },
   {
    "duration": 9,
    "start_time": "2024-12-11T18:10:48.167Z"
   },
   {
    "duration": 8,
    "start_time": "2024-12-11T18:10:48.177Z"
   },
   {
    "duration": 14,
    "start_time": "2024-12-11T18:10:48.186Z"
   },
   {
    "duration": 17,
    "start_time": "2024-12-11T18:10:48.202Z"
   },
   {
    "duration": 12,
    "start_time": "2024-12-11T18:10:48.221Z"
   },
   {
    "duration": 14,
    "start_time": "2024-12-11T18:10:48.235Z"
   },
   {
    "duration": 10,
    "start_time": "2024-12-11T18:10:48.250Z"
   },
   {
    "duration": 5,
    "start_time": "2024-12-11T18:10:48.262Z"
   },
   {
    "duration": 3,
    "start_time": "2024-12-11T18:10:48.269Z"
   },
   {
    "duration": 35,
    "start_time": "2024-12-11T18:10:48.274Z"
   },
   {
    "duration": 34,
    "start_time": "2024-12-11T18:10:48.311Z"
   },
   {
    "duration": 13,
    "start_time": "2024-12-11T18:10:48.346Z"
   },
   {
    "duration": 604,
    "start_time": "2024-12-11T18:10:48.360Z"
   },
   {
    "duration": 10,
    "start_time": "2024-12-11T18:10:48.966Z"
   },
   {
    "duration": 3,
    "start_time": "2024-12-11T18:10:48.978Z"
   },
   {
    "duration": 3,
    "start_time": "2024-12-11T18:10:48.983Z"
   },
   {
    "duration": 526,
    "start_time": "2024-12-11T18:10:48.988Z"
   },
   {
    "duration": 0,
    "start_time": "2024-12-11T18:10:49.516Z"
   },
   {
    "duration": 0,
    "start_time": "2024-12-11T18:10:49.517Z"
   },
   {
    "duration": 0,
    "start_time": "2024-12-11T18:10:49.518Z"
   },
   {
    "duration": 0,
    "start_time": "2024-12-11T18:10:49.519Z"
   },
   {
    "duration": 3,
    "start_time": "2024-12-11T18:12:38.295Z"
   },
   {
    "duration": 10,
    "start_time": "2024-12-11T18:12:39.655Z"
   },
   {
    "duration": 7,
    "start_time": "2024-12-11T18:12:41.460Z"
   },
   {
    "duration": 1998,
    "start_time": "2024-12-11T18:23:27.014Z"
   },
   {
    "duration": 961,
    "start_time": "2024-12-11T18:23:29.014Z"
   },
   {
    "duration": 8,
    "start_time": "2024-12-11T18:23:29.977Z"
   },
   {
    "duration": 22,
    "start_time": "2024-12-11T18:23:29.987Z"
   },
   {
    "duration": 3,
    "start_time": "2024-12-11T18:23:30.012Z"
   },
   {
    "duration": 9,
    "start_time": "2024-12-11T18:23:30.017Z"
   },
   {
    "duration": 14,
    "start_time": "2024-12-11T18:23:30.027Z"
   },
   {
    "duration": 19,
    "start_time": "2024-12-11T18:23:30.042Z"
   },
   {
    "duration": 3,
    "start_time": "2024-12-11T18:23:30.063Z"
   },
   {
    "duration": 9,
    "start_time": "2024-12-11T18:23:30.068Z"
   },
   {
    "duration": 12,
    "start_time": "2024-12-11T18:23:30.109Z"
   },
   {
    "duration": 2518,
    "start_time": "2024-12-11T18:23:30.123Z"
   },
   {
    "duration": 2,
    "start_time": "2024-12-11T18:23:32.644Z"
   },
   {
    "duration": 4,
    "start_time": "2024-12-11T18:23:32.651Z"
   },
   {
    "duration": 8,
    "start_time": "2024-12-11T18:23:32.657Z"
   },
   {
    "duration": 8,
    "start_time": "2024-12-11T18:23:32.666Z"
   },
   {
    "duration": 15,
    "start_time": "2024-12-11T18:23:32.675Z"
   },
   {
    "duration": 15,
    "start_time": "2024-12-11T18:23:32.709Z"
   },
   {
    "duration": 13,
    "start_time": "2024-12-11T18:23:32.725Z"
   },
   {
    "duration": 13,
    "start_time": "2024-12-11T18:23:32.740Z"
   },
   {
    "duration": 10,
    "start_time": "2024-12-11T18:23:32.755Z"
   },
   {
    "duration": 5,
    "start_time": "2024-12-11T18:23:32.767Z"
   },
   {
    "duration": 36,
    "start_time": "2024-12-11T18:23:32.774Z"
   },
   {
    "duration": 4,
    "start_time": "2024-12-11T18:23:32.811Z"
   },
   {
    "duration": 39,
    "start_time": "2024-12-11T18:23:32.817Z"
   },
   {
    "duration": 11,
    "start_time": "2024-12-11T18:23:32.858Z"
   },
   {
    "duration": 563,
    "start_time": "2024-12-11T18:23:32.909Z"
   },
   {
    "duration": 8,
    "start_time": "2024-12-11T18:23:33.474Z"
   },
   {
    "duration": 4,
    "start_time": "2024-12-11T18:23:33.484Z"
   },
   {
    "duration": 20,
    "start_time": "2024-12-11T18:23:33.490Z"
   },
   {
    "duration": 11,
    "start_time": "2024-12-11T18:23:33.512Z"
   },
   {
    "duration": 8,
    "start_time": "2024-12-11T18:23:33.526Z"
   },
   {
    "duration": 3,
    "start_time": "2024-12-11T18:23:33.535Z"
   },
   {
    "duration": 3,
    "start_time": "2024-12-11T18:23:33.608Z"
   },
   {
    "duration": 339,
    "start_time": "2024-12-11T18:23:33.612Z"
   },
   {
    "duration": 0,
    "start_time": "2024-12-11T18:23:33.953Z"
   },
   {
    "duration": 4,
    "start_time": "2024-12-11T18:23:44.317Z"
   },
   {
    "duration": 16,
    "start_time": "2024-12-11T18:25:39.602Z"
   },
   {
    "duration": 9,
    "start_time": "2024-12-11T18:25:49.965Z"
   },
   {
    "duration": 17,
    "start_time": "2024-12-11T18:26:24.687Z"
   },
   {
    "duration": 17,
    "start_time": "2024-12-11T18:26:30.128Z"
   },
   {
    "duration": 8,
    "start_time": "2024-12-11T18:26:34.572Z"
   },
   {
    "duration": 7,
    "start_time": "2024-12-11T18:27:19.250Z"
   },
   {
    "duration": 14,
    "start_time": "2024-12-11T18:57:37.924Z"
   },
   {
    "duration": 72,
    "start_time": "2024-12-11T18:58:01.337Z"
   },
   {
    "duration": 14,
    "start_time": "2024-12-11T18:58:08.287Z"
   },
   {
    "duration": 16,
    "start_time": "2024-12-11T19:01:58.623Z"
   },
   {
    "duration": 15,
    "start_time": "2024-12-11T19:02:12.074Z"
   },
   {
    "duration": 14,
    "start_time": "2024-12-11T19:02:18.631Z"
   },
   {
    "duration": 8,
    "start_time": "2024-12-11T19:02:25.659Z"
   },
   {
    "duration": 15,
    "start_time": "2024-12-11T19:02:31.422Z"
   },
   {
    "duration": 18,
    "start_time": "2024-12-11T19:03:07.002Z"
   },
   {
    "duration": 25,
    "start_time": "2024-12-11T19:04:53.689Z"
   },
   {
    "duration": 4,
    "start_time": "2024-12-11T19:05:14.688Z"
   },
   {
    "duration": 21,
    "start_time": "2024-12-11T19:05:18.929Z"
   },
   {
    "duration": 21,
    "start_time": "2024-12-11T19:05:42.236Z"
   },
   {
    "duration": 24,
    "start_time": "2024-12-11T19:06:14.506Z"
   },
   {
    "duration": 6,
    "start_time": "2024-12-11T19:06:31.327Z"
   },
   {
    "duration": 17,
    "start_time": "2024-12-11T19:06:34.948Z"
   },
   {
    "duration": 20,
    "start_time": "2024-12-11T19:07:27.293Z"
   },
   {
    "duration": 1939,
    "start_time": "2024-12-11T19:07:32.797Z"
   },
   {
    "duration": 985,
    "start_time": "2024-12-11T19:07:34.738Z"
   },
   {
    "duration": 7,
    "start_time": "2024-12-11T19:07:35.725Z"
   },
   {
    "duration": 13,
    "start_time": "2024-12-11T19:07:35.735Z"
   },
   {
    "duration": 3,
    "start_time": "2024-12-11T19:07:35.749Z"
   },
   {
    "duration": 8,
    "start_time": "2024-12-11T19:07:35.754Z"
   },
   {
    "duration": 16,
    "start_time": "2024-12-11T19:07:35.763Z"
   },
   {
    "duration": 45,
    "start_time": "2024-12-11T19:07:35.781Z"
   },
   {
    "duration": 3,
    "start_time": "2024-12-11T19:07:35.828Z"
   },
   {
    "duration": 9,
    "start_time": "2024-12-11T19:07:35.835Z"
   },
   {
    "duration": 13,
    "start_time": "2024-12-11T19:07:35.846Z"
   },
   {
    "duration": 2681,
    "start_time": "2024-12-11T19:07:35.860Z"
   },
   {
    "duration": 3,
    "start_time": "2024-12-11T19:07:38.543Z"
   },
   {
    "duration": 5,
    "start_time": "2024-12-11T19:07:38.547Z"
   },
   {
    "duration": 9,
    "start_time": "2024-12-11T19:07:38.554Z"
   },
   {
    "duration": 8,
    "start_time": "2024-12-11T19:07:38.564Z"
   },
   {
    "duration": 14,
    "start_time": "2024-12-11T19:07:38.574Z"
   },
   {
    "duration": 27,
    "start_time": "2024-12-11T19:07:38.590Z"
   },
   {
    "duration": 13,
    "start_time": "2024-12-11T19:07:38.618Z"
   },
   {
    "duration": 14,
    "start_time": "2024-12-11T19:07:38.633Z"
   },
   {
    "duration": 11,
    "start_time": "2024-12-11T19:07:38.650Z"
   },
   {
    "duration": 5,
    "start_time": "2024-12-11T19:07:38.662Z"
   },
   {
    "duration": 3,
    "start_time": "2024-12-11T19:07:38.668Z"
   },
   {
    "duration": 36,
    "start_time": "2024-12-11T19:07:38.673Z"
   },
   {
    "duration": 36,
    "start_time": "2024-12-11T19:07:38.711Z"
   },
   {
    "duration": 10,
    "start_time": "2024-12-11T19:07:38.749Z"
   },
   {
    "duration": 640,
    "start_time": "2024-12-11T19:07:38.760Z"
   },
   {
    "duration": 10,
    "start_time": "2024-12-11T19:07:39.405Z"
   },
   {
    "duration": 4,
    "start_time": "2024-12-11T19:07:39.416Z"
   },
   {
    "duration": 4,
    "start_time": "2024-12-11T19:07:39.421Z"
   },
   {
    "duration": 11,
    "start_time": "2024-12-11T19:07:39.426Z"
   },
   {
    "duration": 7,
    "start_time": "2024-12-11T19:07:39.438Z"
   },
   {
    "duration": 4,
    "start_time": "2024-12-11T19:07:39.509Z"
   },
   {
    "duration": 13,
    "start_time": "2024-12-11T19:07:39.517Z"
   },
   {
    "duration": 3,
    "start_time": "2024-12-11T19:07:39.532Z"
   },
   {
    "duration": 15,
    "start_time": "2024-12-11T19:07:39.610Z"
   },
   {
    "duration": 18,
    "start_time": "2024-12-11T19:07:39.627Z"
   },
   {
    "duration": 23,
    "start_time": "2024-12-11T19:07:39.710Z"
   },
   {
    "duration": 3834,
    "start_time": "2024-12-11T21:22:12.603Z"
   },
   {
    "duration": 2838,
    "start_time": "2024-12-11T21:22:16.440Z"
   },
   {
    "duration": 15,
    "start_time": "2024-12-11T21:22:19.281Z"
   },
   {
    "duration": 16,
    "start_time": "2024-12-11T21:22:19.299Z"
   },
   {
    "duration": 5,
    "start_time": "2024-12-11T21:22:19.316Z"
   },
   {
    "duration": 10,
    "start_time": "2024-12-11T21:22:19.323Z"
   },
   {
    "duration": 14,
    "start_time": "2024-12-11T21:22:19.335Z"
   },
   {
    "duration": 18,
    "start_time": "2024-12-11T21:22:19.351Z"
   },
   {
    "duration": 3,
    "start_time": "2024-12-11T21:22:19.370Z"
   },
   {
    "duration": 10,
    "start_time": "2024-12-11T21:22:19.414Z"
   },
   {
    "duration": 13,
    "start_time": "2024-12-11T21:22:19.426Z"
   },
   {
    "duration": 2571,
    "start_time": "2024-12-11T21:22:19.441Z"
   },
   {
    "duration": 3,
    "start_time": "2024-12-11T21:22:22.015Z"
   },
   {
    "duration": 4,
    "start_time": "2024-12-11T21:22:22.020Z"
   },
   {
    "duration": 8,
    "start_time": "2024-12-11T21:22:22.026Z"
   },
   {
    "duration": 113,
    "start_time": "2024-12-11T21:22:22.036Z"
   },
   {
    "duration": 14,
    "start_time": "2024-12-11T21:22:22.151Z"
   },
   {
    "duration": 25,
    "start_time": "2024-12-11T21:22:22.167Z"
   },
   {
    "duration": 30,
    "start_time": "2024-12-11T21:22:22.194Z"
   },
   {
    "duration": 21,
    "start_time": "2024-12-11T21:22:22.226Z"
   },
   {
    "duration": 11,
    "start_time": "2024-12-11T21:22:22.249Z"
   },
   {
    "duration": 4,
    "start_time": "2024-12-11T21:22:22.262Z"
   },
   {
    "duration": 3,
    "start_time": "2024-12-11T21:22:22.268Z"
   },
   {
    "duration": 3,
    "start_time": "2024-12-11T21:22:22.272Z"
   },
   {
    "duration": 72,
    "start_time": "2024-12-11T21:22:22.277Z"
   },
   {
    "duration": 10,
    "start_time": "2024-12-11T21:22:22.350Z"
   },
   {
    "duration": 618,
    "start_time": "2024-12-11T21:22:22.362Z"
   },
   {
    "duration": 7,
    "start_time": "2024-12-11T21:22:22.984Z"
   },
   {
    "duration": 4,
    "start_time": "2024-12-11T21:22:22.993Z"
   },
   {
    "duration": 3,
    "start_time": "2024-12-11T21:22:23.013Z"
   },
   {
    "duration": 8,
    "start_time": "2024-12-11T21:22:23.017Z"
   },
   {
    "duration": 6,
    "start_time": "2024-12-11T21:22:23.026Z"
   },
   {
    "duration": 5,
    "start_time": "2024-12-11T21:22:23.034Z"
   },
   {
    "duration": 70,
    "start_time": "2024-12-11T21:22:23.041Z"
   },
   {
    "duration": 5,
    "start_time": "2024-12-11T21:22:23.116Z"
   },
   {
    "duration": 17,
    "start_time": "2024-12-11T21:22:23.125Z"
   },
   {
    "duration": 88,
    "start_time": "2024-12-11T21:22:23.144Z"
   },
   {
    "duration": 97,
    "start_time": "2024-12-11T21:22:23.234Z"
   },
   {
    "duration": 3812,
    "start_time": "2024-12-11T22:40:42.772Z"
   },
   {
    "duration": 2711,
    "start_time": "2024-12-11T22:40:46.587Z"
   },
   {
    "duration": 16,
    "start_time": "2024-12-11T22:40:49.300Z"
   },
   {
    "duration": 13,
    "start_time": "2024-12-11T22:40:49.318Z"
   },
   {
    "duration": 3,
    "start_time": "2024-12-11T22:40:49.332Z"
   },
   {
    "duration": 9,
    "start_time": "2024-12-11T22:40:49.336Z"
   },
   {
    "duration": 13,
    "start_time": "2024-12-11T22:40:49.346Z"
   },
   {
    "duration": 19,
    "start_time": "2024-12-11T22:40:49.360Z"
   },
   {
    "duration": 31,
    "start_time": "2024-12-11T22:40:49.381Z"
   },
   {
    "duration": 9,
    "start_time": "2024-12-11T22:40:49.415Z"
   },
   {
    "duration": 12,
    "start_time": "2024-12-11T22:40:49.425Z"
   },
   {
    "duration": 2573,
    "start_time": "2024-12-11T22:40:49.439Z"
   },
   {
    "duration": 3,
    "start_time": "2024-12-11T22:40:52.014Z"
   },
   {
    "duration": 5,
    "start_time": "2024-12-11T22:40:52.018Z"
   },
   {
    "duration": 9,
    "start_time": "2024-12-11T22:40:52.024Z"
   },
   {
    "duration": 109,
    "start_time": "2024-12-11T22:40:52.034Z"
   },
   {
    "duration": 15,
    "start_time": "2024-12-11T22:40:52.145Z"
   },
   {
    "duration": 22,
    "start_time": "2024-12-11T22:40:52.162Z"
   },
   {
    "duration": 37,
    "start_time": "2024-12-11T22:40:52.186Z"
   },
   {
    "duration": 21,
    "start_time": "2024-12-11T22:40:52.226Z"
   },
   {
    "duration": 11,
    "start_time": "2024-12-11T22:40:52.248Z"
   },
   {
    "duration": 5,
    "start_time": "2024-12-11T22:40:52.261Z"
   },
   {
    "duration": 2,
    "start_time": "2024-12-11T22:40:52.268Z"
   },
   {
    "duration": 3,
    "start_time": "2024-12-11T22:40:52.273Z"
   },
   {
    "duration": 37,
    "start_time": "2024-12-11T22:40:52.312Z"
   },
   {
    "duration": 10,
    "start_time": "2024-12-11T22:40:52.351Z"
   },
   {
    "duration": 614,
    "start_time": "2024-12-11T22:40:52.362Z"
   },
   {
    "duration": 8,
    "start_time": "2024-12-11T22:40:52.979Z"
   },
   {
    "duration": 5,
    "start_time": "2024-12-11T22:40:52.988Z"
   },
   {
    "duration": 19,
    "start_time": "2024-12-11T22:40:52.994Z"
   },
   {
    "duration": 12,
    "start_time": "2024-12-11T22:40:53.015Z"
   },
   {
    "duration": 8,
    "start_time": "2024-12-11T22:40:53.030Z"
   },
   {
    "duration": 4,
    "start_time": "2024-12-11T22:40:53.040Z"
   },
   {
    "duration": 68,
    "start_time": "2024-12-11T22:40:53.046Z"
   },
   {
    "duration": 6,
    "start_time": "2024-12-11T22:40:53.116Z"
   },
   {
    "duration": 16,
    "start_time": "2024-12-11T22:40:53.124Z"
   },
   {
    "duration": 86,
    "start_time": "2024-12-11T22:40:53.142Z"
   },
   {
    "duration": 96,
    "start_time": "2024-12-11T22:40:53.229Z"
   },
   {
    "duration": 5,
    "start_time": "2024-12-11T23:29:34.048Z"
   },
   {
    "duration": 245,
    "start_time": "2024-12-11T23:45:31.600Z"
   },
   {
    "duration": 5,
    "start_time": "2024-12-11T23:45:41.493Z"
   },
   {
    "duration": 9,
    "start_time": "2024-12-11T23:45:43.028Z"
   },
   {
    "duration": 8,
    "start_time": "2024-12-11T23:45:56.151Z"
   },
   {
    "duration": 4,
    "start_time": "2024-12-11T23:46:00.649Z"
   },
   {
    "duration": 9,
    "start_time": "2024-12-11T23:46:20.079Z"
   },
   {
    "duration": 1924,
    "start_time": "2024-12-11T23:49:44.986Z"
   },
   {
    "duration": 943,
    "start_time": "2024-12-11T23:49:46.912Z"
   },
   {
    "duration": 8,
    "start_time": "2024-12-11T23:49:47.856Z"
   },
   {
    "duration": 13,
    "start_time": "2024-12-11T23:49:47.866Z"
   },
   {
    "duration": 3,
    "start_time": "2024-12-11T23:49:47.882Z"
   },
   {
    "duration": 25,
    "start_time": "2024-12-11T23:49:47.887Z"
   },
   {
    "duration": 13,
    "start_time": "2024-12-11T23:49:47.913Z"
   },
   {
    "duration": 18,
    "start_time": "2024-12-11T23:49:47.928Z"
   },
   {
    "duration": 3,
    "start_time": "2024-12-11T23:49:47.947Z"
   },
   {
    "duration": 8,
    "start_time": "2024-12-11T23:49:47.953Z"
   },
   {
    "duration": 12,
    "start_time": "2024-12-11T23:49:47.963Z"
   },
   {
    "duration": 2559,
    "start_time": "2024-12-11T23:49:47.977Z"
   },
   {
    "duration": 2,
    "start_time": "2024-12-11T23:49:50.538Z"
   },
   {
    "duration": 4,
    "start_time": "2024-12-11T23:49:50.542Z"
   },
   {
    "duration": 9,
    "start_time": "2024-12-11T23:49:50.548Z"
   },
   {
    "duration": 7,
    "start_time": "2024-12-11T23:49:50.558Z"
   },
   {
    "duration": 13,
    "start_time": "2024-12-11T23:49:50.567Z"
   },
   {
    "duration": 34,
    "start_time": "2024-12-11T23:49:50.582Z"
   },
   {
    "duration": 14,
    "start_time": "2024-12-11T23:49:50.617Z"
   },
   {
    "duration": 14,
    "start_time": "2024-12-11T23:49:50.632Z"
   },
   {
    "duration": 11,
    "start_time": "2024-12-11T23:49:50.647Z"
   },
   {
    "duration": 4,
    "start_time": "2024-12-11T23:49:50.659Z"
   },
   {
    "duration": 3,
    "start_time": "2024-12-11T23:49:50.665Z"
   },
   {
    "duration": 3,
    "start_time": "2024-12-11T23:49:50.669Z"
   },
   {
    "duration": 71,
    "start_time": "2024-12-11T23:49:50.674Z"
   },
   {
    "duration": 10,
    "start_time": "2024-12-11T23:49:50.747Z"
   },
   {
    "duration": 623,
    "start_time": "2024-12-11T23:49:50.758Z"
   },
   {
    "duration": 7,
    "start_time": "2024-12-11T23:49:51.385Z"
   },
   {
    "duration": 19,
    "start_time": "2024-12-11T23:49:51.393Z"
   },
   {
    "duration": 3,
    "start_time": "2024-12-11T23:49:51.414Z"
   },
   {
    "duration": 7,
    "start_time": "2024-12-11T23:49:51.418Z"
   },
   {
    "duration": 7,
    "start_time": "2024-12-11T23:49:51.426Z"
   },
   {
    "duration": 3,
    "start_time": "2024-12-11T23:49:51.435Z"
   },
   {
    "duration": 3,
    "start_time": "2024-12-11T23:49:51.440Z"
   },
   {
    "duration": 71,
    "start_time": "2024-12-11T23:49:51.444Z"
   },
   {
    "duration": 20,
    "start_time": "2024-12-11T23:49:51.516Z"
   },
   {
    "duration": 91,
    "start_time": "2024-12-11T23:49:51.537Z"
   },
   {
    "duration": 97,
    "start_time": "2024-12-11T23:49:51.632Z"
   },
   {
    "duration": 5,
    "start_time": "2024-12-11T23:49:51.731Z"
   },
   {
    "duration": 11,
    "start_time": "2024-12-11T23:49:51.737Z"
   }
  ],
  "kernelspec": {
   "display_name": "Python 3 (ipykernel)",
   "language": "python",
   "name": "python3"
  },
  "language_info": {
   "codemirror_mode": {
    "name": "ipython",
    "version": 3
   },
   "file_extension": ".py",
   "mimetype": "text/x-python",
   "name": "python",
   "nbconvert_exporter": "python",
   "pygments_lexer": "ipython3",
   "version": "3.9.19"
  },
  "toc": {
   "base_numbering": 1,
   "nav_menu": {},
   "number_sections": true,
   "sideBar": true,
   "skip_h1_title": true,
   "title_cell": "Table of Contents",
   "title_sidebar": "Contents",
   "toc_cell": false,
   "toc_position": {},
   "toc_section_display": true,
   "toc_window_display": false
  }
 },
 "nbformat": 4,
 "nbformat_minor": 4
}
